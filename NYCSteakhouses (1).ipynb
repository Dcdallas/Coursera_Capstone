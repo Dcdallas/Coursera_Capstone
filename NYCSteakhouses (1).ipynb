{
 "cells": [
  {
   "cell_type": "markdown",
   "metadata": {},
   "source": [
    "# Exploring the Best Steakhouses in New York City"
   ]
  },
  {
   "cell_type": "markdown",
   "metadata": {},
   "source": [
    "**INTRODUCTION**\n",
    "\n",
    "Hardly a number of cities in the US are synonymous with steak. But New York has been home to a line of steakhouses for centuries. And since then, new steakhouses have emerged to continue on with its legacy.  Local or visitor, a real Big Apple experience is putting yourself into one of these spots and digging in."
   ]
  },
  {
   "cell_type": "markdown",
   "metadata": {},
   "source": [
    "**PROBLEM DESCRIPTION**\n",
    "\n",
    "The City of New York has a rich heritage of steakhouses. From vintage classic spots to modern day steak joints, you will find a good restaurant in NYC that offer delicious cuts. But when we are talking about shedding an ample amount of cash on a single plate of meat, you will want the best.\n",
    "So, as focus of this project, we will explore and visualize which neighborhoods and boroughs have the most, as well as the best Steakhouses in NYC."
   ]
  },
  {
   "cell_type": "markdown",
   "metadata": {},
   "source": [
    "**TARGET AUDIENCE**\n",
    "\n",
    "The objective of this study is to locate and recommend the best Steakhouses in the city of New York. This would interest locals, tourists, food bloggers or enthusiasts and anyone who would like to explore the best tasting steak joint in the city. Also, this study can serve as a good practice for those who want to develop their skills on Data Science. "
   ]
  },
  {
   "cell_type": "markdown",
   "metadata": {},
   "source": [
    "**DATA ACQUISITION AND CLEANING** \n",
    "\n",
    "For this project, we will utilize the following data\n",
    "- New York City data that contains the list of boroughs, neighborhoods along with their latitude and longitude from https://cocl.us/new_york_dataset We will use this dataset to explore various neighborhoods of New York City.\n",
    "- Steakhouses in each neighborhood of New York City from Foursquare API. By using this API, we can get the up-to-date location data for each borough and neighborhood that contains Steakhouses. Venue details will also be obtained using this API.\n",
    "- GeoSpace data from https://data.cityofnewyork.us/City-Government/Borough-Boundaries/tqm j-j8zm This will provide us a better understanding of the neighborhoods and their corresponding locations in the folium map."
   ]
  },
  {
   "cell_type": "markdown",
   "metadata": {},
   "source": [
    "**METHODOLOGY**\n",
    "\n",
    "Gather the New York City data from https://cocl.us/new_york_dataset. Using FourSquare API, we will filter the venues with Steakhouse category in the neighborhood. Find ratings, tips and like counts for each Steakhouse using FourSquare API. After acquring the ratings for each restaurant, we will then try to sort the data. Finally, we will visualize the findings using matplotlib and folium for better understanding.\n",
    "\n",
    "The processing of these data will allow us to answer the following questions:\n",
    "- Which borough and neighborhood have the highest rating of Steakhouse in NYC?\n",
    "- Which borough has the most number of Steakhouse in NYC? \n",
    "- Which Steakhouse has the most number of likes and tips?\n",
    "- Which Steakhouse has the highest rating in NYC?"
   ]
  },
  {
   "cell_type": "markdown",
   "metadata": {},
   "source": [
    "**EXPLORATORY DATA ANALYSIS**"
   ]
  },
  {
   "cell_type": "markdown",
   "metadata": {},
   "source": [
    "##### Import all required libraries."
   ]
  },
  {
   "cell_type": "code",
   "execution_count": 41,
   "metadata": {},
   "outputs": [
    {
     "name": "stdout",
     "output_type": "stream",
     "text": [
      "Collecting package metadata (current_repodata.json): done\n",
      "Solving environment: done\n",
      "\n",
      "# All requested packages already installed.\n",
      "\n",
      "Imported Libraries.\n"
     ]
    }
   ],
   "source": [
    "import pandas as pd\n",
    "import numpy as np\n",
    "import requests\n",
    "import os\n",
    "import json\n",
    "\n",
    "import folium # For rendering maps\n",
    "\n",
    "!conda install -c conda-forge geopy --yes \n",
    "from geopy.geocoders import Nominatim # Acquiring latitude and longitude\n",
    "\n",
    "# Matplotlib and associated plotting modules\n",
    "import matplotlib.pyplot as plt\n",
    "import matplotlib.cm as cm\n",
    "import matplotlib.colors as colors\n",
    "%matplotlib inline\n",
    "\n",
    "pd.set_option('display.max_columns', None)\n",
    "pd.set_option('display.max_rows', None)\n",
    "\n",
    "print('Imported Libraries.')"
   ]
  },
  {
   "cell_type": "code",
   "execution_count": 42,
   "metadata": {},
   "outputs": [],
   "source": [
    "def get_new_york_data():\n",
    "    url='https://cocl.us/new_york_dataset'\n",
    "    resp=requests.get(url).json()\n",
    "    # all data is present in features label\n",
    "    features=resp['features']\n",
    "    \n",
    "    # define the dataframe columns\n",
    "    column_names = ['Borough', 'Neighborhood', 'Latitude', 'Longitude'] \n",
    "    # instantiate the dataframe\n",
    "    new_york_data = pd.DataFrame(columns=column_names)\n",
    "    \n",
    "    for data in features:\n",
    "        borough = data['properties']['borough'] \n",
    "        neighborhood_name = data['properties']['name']\n",
    "        \n",
    "        neighborhood_latlon = data['geometry']['coordinates']\n",
    "        neighborhood_lat = neighborhood_latlon[1]\n",
    "        neighborhood_lon = neighborhood_latlon[0]\n",
    "    \n",
    "        new_york_data = new_york_data.append({'Borough': borough,\n",
    "                                          'Neighborhood': neighborhood_name,\n",
    "                                          'Latitude': neighborhood_lat,\n",
    "                                          'Longitude': neighborhood_lon}, ignore_index=True)\n",
    "    \n",
    "    return new_york_data"
   ]
  },
  {
   "cell_type": "code",
   "execution_count": 43,
   "metadata": {},
   "outputs": [],
   "source": [
    "df_ny = get_new_york_data()"
   ]
  },
  {
   "cell_type": "code",
   "execution_count": 44,
   "metadata": {},
   "outputs": [
    {
     "data": {
      "text/html": [
       "<div>\n",
       "<style scoped>\n",
       "    .dataframe tbody tr th:only-of-type {\n",
       "        vertical-align: middle;\n",
       "    }\n",
       "\n",
       "    .dataframe tbody tr th {\n",
       "        vertical-align: top;\n",
       "    }\n",
       "\n",
       "    .dataframe thead th {\n",
       "        text-align: right;\n",
       "    }\n",
       "</style>\n",
       "<table border=\"1\" class=\"dataframe\">\n",
       "  <thead>\n",
       "    <tr style=\"text-align: right;\">\n",
       "      <th></th>\n",
       "      <th>Borough</th>\n",
       "      <th>Neighborhood</th>\n",
       "      <th>Latitude</th>\n",
       "      <th>Longitude</th>\n",
       "    </tr>\n",
       "  </thead>\n",
       "  <tbody>\n",
       "    <tr>\n",
       "      <th>0</th>\n",
       "      <td>Bronx</td>\n",
       "      <td>Wakefield</td>\n",
       "      <td>40.894705</td>\n",
       "      <td>-73.847201</td>\n",
       "    </tr>\n",
       "    <tr>\n",
       "      <th>1</th>\n",
       "      <td>Bronx</td>\n",
       "      <td>Co-op City</td>\n",
       "      <td>40.874294</td>\n",
       "      <td>-73.829939</td>\n",
       "    </tr>\n",
       "    <tr>\n",
       "      <th>2</th>\n",
       "      <td>Bronx</td>\n",
       "      <td>Eastchester</td>\n",
       "      <td>40.887556</td>\n",
       "      <td>-73.827806</td>\n",
       "    </tr>\n",
       "    <tr>\n",
       "      <th>3</th>\n",
       "      <td>Bronx</td>\n",
       "      <td>Fieldston</td>\n",
       "      <td>40.895437</td>\n",
       "      <td>-73.905643</td>\n",
       "    </tr>\n",
       "    <tr>\n",
       "      <th>4</th>\n",
       "      <td>Bronx</td>\n",
       "      <td>Riverdale</td>\n",
       "      <td>40.890834</td>\n",
       "      <td>-73.912585</td>\n",
       "    </tr>\n",
       "  </tbody>\n",
       "</table>\n",
       "</div>"
      ],
      "text/plain": [
       "  Borough Neighborhood   Latitude  Longitude\n",
       "0   Bronx    Wakefield  40.894705 -73.847201\n",
       "1   Bronx   Co-op City  40.874294 -73.829939\n",
       "2   Bronx  Eastchester  40.887556 -73.827806\n",
       "3   Bronx    Fieldston  40.895437 -73.905643\n",
       "4   Bronx    Riverdale  40.890834 -73.912585"
      ]
     },
     "execution_count": 44,
     "metadata": {},
     "output_type": "execute_result"
    }
   ],
   "source": [
    "df_ny.head()"
   ]
  },
  {
   "cell_type": "code",
   "execution_count": 45,
   "metadata": {},
   "outputs": [
    {
     "data": {
      "text/plain": [
       "(306, 4)"
      ]
     },
     "execution_count": 45,
     "metadata": {},
     "output_type": "execute_result"
    }
   ],
   "source": [
    "df_ny.shape"
   ]
  },
  {
   "cell_type": "markdown",
   "metadata": {},
   "source": [
    "##### Let's check if we can obtain data from a sample neighborhood."
   ]
  },
  {
   "cell_type": "code",
   "execution_count": 46,
   "metadata": {},
   "outputs": [
    {
     "data": {
      "text/html": [
       "<div>\n",
       "<style scoped>\n",
       "    .dataframe tbody tr th:only-of-type {\n",
       "        vertical-align: middle;\n",
       "    }\n",
       "\n",
       "    .dataframe tbody tr th {\n",
       "        vertical-align: top;\n",
       "    }\n",
       "\n",
       "    .dataframe thead th {\n",
       "        text-align: right;\n",
       "    }\n",
       "</style>\n",
       "<table border=\"1\" class=\"dataframe\">\n",
       "  <thead>\n",
       "    <tr style=\"text-align: right;\">\n",
       "      <th></th>\n",
       "      <th>Borough</th>\n",
       "      <th>Neighborhood</th>\n",
       "      <th>Latitude</th>\n",
       "      <th>Longitude</th>\n",
       "    </tr>\n",
       "  </thead>\n",
       "  <tbody>\n",
       "    <tr>\n",
       "      <th>128</th>\n",
       "      <td>Manhattan</td>\n",
       "      <td>Financial District</td>\n",
       "      <td>40.707107</td>\n",
       "      <td>-74.010665</td>\n",
       "    </tr>\n",
       "  </tbody>\n",
       "</table>\n",
       "</div>"
      ],
      "text/plain": [
       "       Borough        Neighborhood   Latitude  Longitude\n",
       "128  Manhattan  Financial District  40.707107 -74.010665"
      ]
     },
     "execution_count": 46,
     "metadata": {},
     "output_type": "execute_result"
    }
   ],
   "source": [
    "df_ny[df_ny['Neighborhood']=='Financial District']"
   ]
  },
  {
   "cell_type": "code",
   "execution_count": 47,
   "metadata": {},
   "outputs": [
    {
     "data": {
      "image/png": "[encoded data removed]",
      "text/plain": [
       "<Figure size 480x480 with 1 Axes>"
      ]
     },
     "metadata": {
      "needs_background": "light"
     },
     "output_type": "display_data"
    }
   ],
   "source": [
    "plt.figure(figsize=(6,6), dpi = 80)\n",
    "# title\n",
    "plt.title('Number of Neighborhood for each Borough in New York City')\n",
    "#On x-axis\n",
    "plt.xlabel('Borough', fontsize = 12)\n",
    "#On y-axis\n",
    "plt.ylabel('No.of Neighborhood', fontsize=12)\n",
    "#giving a bar plot\n",
    "df_ny.groupby('Borough')['Neighborhood'].count().plot(kind='bar', color='#0000FF')\n",
    "#legend\n",
    "plt.legend()\n",
    "#displays the plot\n",
    "plt.show()"
   ]
  },
  {
   "cell_type": "code",
   "execution_count": 48,
   "metadata": {},
   "outputs": [],
   "source": [
    "def geo_location(address):\n",
    "    # get geo location of address\n",
    "    geolocator = Nominatim(user_agent=\"ny_explorer\")\n",
    "    location = geolocator.geocode(address)\n",
    "    latitude = location.latitude\n",
    "    longitude = location.longitude\n",
    "    return latitude,longitude"
   ]
  },
  {
   "cell_type": "code",
   "execution_count": 61,
   "metadata": {},
   "outputs": [],
   "source": [
    "CLIENT_ID = 'T40XENDN3XJ5G1UYUYXBEVTEGGMHABTPNRIH3ULFGDD00VGZ' # your Foursquare ID\n",
    "CLIENT_SECRET = 'PVAL4GZ3ZRSEWEM13UH4ZQAG0ZIPNQGB5W1KJRAIA53ZEAKY' # your Foursquare Secret\n",
    "VERSION = '20200709' # Foursquare API version"
   ]
  },
  {
   "cell_type": "code",
   "execution_count": 62,
   "metadata": {},
   "outputs": [],
   "source": [
    "# In making these calls from Foursquare API, the category ID for Steakhouse (‘4bf58dd8d48988d1cc941735’) was used.\n",
    "def get_venues(lat,lng):\n",
    "    \n",
    "    #set variables\n",
    "    radius=1000\n",
    "    LIMIT=1000\n",
    "    \n",
    "    #url to fetch data from Foursquare API\n",
    "    url = 'https://api.foursquare.com/v2/venues/explore?&client_id={}&client_secret={}&v={}&ll={},{}&radius={}&limit={}&categoryID{}'.format(\n",
    "            CLIENT_ID, \n",
    "            CLIENT_SECRET, \n",
    "            VERSION, \n",
    "            lat, \n",
    "            lng, \n",
    "            radius, \n",
    "            LIMIT,\n",
    "            '4bf58dd8d48988d1cc941735')\n",
    "    \n",
    "    # get all the data\n",
    "    results = requests.get(url).json()\n",
    "    venue_data=results[\"response\"]['groups'][0]['items']\n",
    "    venue_details=[]\n",
    "    for row in venue_data:\n",
    "        try:\n",
    "            venue_id=row['venue']['id']\n",
    "            venue_name=row['venue']['name']\n",
    "            venue_category=row['venue']['categories'][0]['name']\n",
    "            venue_details.append([venue_id,venue_name,venue_category])\n",
    "        except KeyError:\n",
    "            pass\n",
    "        \n",
    "    column_names=['ID','Name','Category']\n",
    "    df = pd.DataFrame(venue_details,columns=column_names)\n",
    "    return df"
   ]
  },
  {
   "cell_type": "code",
   "execution_count": 63,
   "metadata": {},
   "outputs": [],
   "source": [
    "def get_venue_details(venue_id):\n",
    "        \n",
    "    #url to fetch data from foursquare api\n",
    "    url = 'https://api.foursquare.com/v2/venues/{}?&client_id={}&client_secret={}&v={}'.format(\n",
    "            venue_id,\n",
    "            CLIENT_ID, \n",
    "            CLIENT_SECRET, \n",
    "            VERSION)\n",
    "    \n",
    "    # get all the data\n",
    "    results = requests.get(url).json()\n",
    "    venue_data=results['response']['venue']\n",
    "    venue_details=[]\n",
    "    try:\n",
    "        venue_id=venue_data['id']\n",
    "        venue_name=venue_data['name']\n",
    "        venue_likes=venue_data['likes']['count']\n",
    "        venue_rating=venue_data['rating']\n",
    "        venue_tips=venue_data['tips']['count']\n",
    "        venue_details.append([venue_id,venue_name,venue_likes,venue_rating,venue_tips])\n",
    "    except KeyError:\n",
    "        pass\n",
    "        \n",
    "    column_names=['ID','Name','Likes','Rating','Tips']\n",
    "    df = pd.DataFrame(venue_details,columns=column_names)\n",
    "    return df"
   ]
  },
  {
   "cell_type": "markdown",
   "metadata": {},
   "source": [
    "##### Let's use the sample neighorhood, Financial District, to check if there are steakhouses in that area."
   ]
  },
  {
   "cell_type": "code",
   "execution_count": 64,
   "metadata": {},
   "outputs": [
    {
     "data": {
      "text/html": [
       "<div>\n",
       "<style scoped>\n",
       "    .dataframe tbody tr th:only-of-type {\n",
       "        vertical-align: middle;\n",
       "    }\n",
       "\n",
       "    .dataframe tbody tr th {\n",
       "        vertical-align: top;\n",
       "    }\n",
       "\n",
       "    .dataframe thead th {\n",
       "        text-align: right;\n",
       "    }\n",
       "</style>\n",
       "<table border=\"1\" class=\"dataframe\">\n",
       "  <thead>\n",
       "    <tr style=\"text-align: right;\">\n",
       "      <th></th>\n",
       "      <th>ID</th>\n",
       "      <th>Name</th>\n",
       "      <th>Category</th>\n",
       "    </tr>\n",
       "  </thead>\n",
       "  <tbody>\n",
       "    <tr>\n",
       "      <th>35</th>\n",
       "      <td>4ab27744f964a520486b20e3</td>\n",
       "      <td>Harry's Cafe and Steak</td>\n",
       "      <td>Steakhouse</td>\n",
       "    </tr>\n",
       "    <tr>\n",
       "      <th>83</th>\n",
       "      <td>51cac19e498e1f28926b8a8d</td>\n",
       "      <td>Morton's The Steakhouse</td>\n",
       "      <td>Steakhouse</td>\n",
       "    </tr>\n",
       "  </tbody>\n",
       "</table>\n",
       "</div>"
      ],
      "text/plain": [
       "                          ID                     Name    Category\n",
       "35  4ab27744f964a520486b20e3   Harry's Cafe and Steak  Steakhouse\n",
       "83  51cac19e498e1f28926b8a8d  Morton's The Steakhouse  Steakhouse"
      ]
     },
     "execution_count": 64,
     "metadata": {},
     "output_type": "execute_result"
    }
   ],
   "source": [
    "vns = get_venues(40.707107,-74.010665)\n",
    "vns[vns['Category']=='Steakhouse']"
   ]
  },
  {
   "cell_type": "code",
   "execution_count": 65,
   "metadata": {},
   "outputs": [
    {
     "data": {
      "text/plain": [
       "[['4ab27744f964a520486b20e3', \"Harry's Cafe and Steak\", 'Steakhouse'],\n",
       " ['51cac19e498e1f28926b8a8d', \"Morton's The Steakhouse\", 'Steakhouse']]"
      ]
     },
     "execution_count": 65,
     "metadata": {},
     "output_type": "execute_result"
    }
   ],
   "source": [
    "stk_res = vns[vns['Category']=='Steakhouse'].values.tolist()\n",
    "stk_res"
   ]
  },
  {
   "cell_type": "code",
   "execution_count": 66,
   "metadata": {},
   "outputs": [
    {
     "data": {
      "text/plain": [
       "True"
      ]
     },
     "execution_count": 66,
     "metadata": {},
     "output_type": "execute_result"
    }
   ],
   "source": [
    "len(vns[vns['Category']=='Steakhouse'].values.tolist()) > 0"
   ]
  },
  {
   "cell_type": "code",
   "execution_count": 67,
   "metadata": {},
   "outputs": [
    {
     "name": "stdout",
     "output_type": "stream",
     "text": [
      "['Bronx', 'Wakefield', 40.89470517661, -73.84720052054902]\n",
      "['Bronx', 'Co-op City', 40.87429419303012, -73.82993910812398]\n",
      "['Bronx', 'Eastchester', 40.887555677350775, -73.82780644716412]\n",
      "['Bronx', 'Fieldston', 40.89543742690383, -73.90564259591682]\n",
      "['Bronx', 'Riverdale', 40.890834493891305, -73.9125854610857]\n",
      "['Bronx', 'Kingsbridge', 40.88168737120521, -73.90281798724604]\n",
      "['Manhattan', 'Marble Hill', 40.87655077879964, -73.91065965862981]\n",
      "['Bronx', 'Woodlawn', 40.89827261213805, -73.86731496814176]\n",
      "['Bronx', 'Norwood', 40.87722415599446, -73.8793907395681]\n",
      "['Bronx', 'Williamsbridge', 40.88103887819211, -73.85744642974207]\n",
      "['Bronx', 'Baychester', 40.866858107252696, -73.83579759808117]\n",
      "['Bronx', 'Pelham Parkway', 40.85741349808865, -73.85475564017999]\n",
      "['Bronx', 'City Island', 40.84724670491813, -73.78648845267413]\n",
      "['Bronx', 'Bedford Park', 40.870185164975325, -73.8855121841913]\n",
      "['Bronx', 'University Heights', 40.85572707719664, -73.9104159619131]\n",
      "['Bronx', 'Morris Heights', 40.84789792606271, -73.91967159119565]\n",
      "['Bronx', 'Fordham', 40.86099679638654, -73.89642655981623]\n",
      "['Bronx', 'East Tremont', 40.84269615786053, -73.88735617532338]\n",
      "['Bronx', 'West Farms', 40.83947505672653, -73.87774474910545]\n",
      "['Bronx', 'High  Bridge', 40.836623010706056, -73.9261020935813]\n",
      "['Bronx', 'Melrose', 40.819754370594936, -73.90942160757436]\n",
      "['Bronx', 'Mott Haven', 40.80623874935177, -73.91609987487575]\n",
      "['Bronx', 'Port Morris', 40.801663627756206, -73.91322139386135]\n",
      "['Bronx', 'Longwood', 40.81509904545822, -73.8957882009446]\n",
      "['Bronx', 'Hunts Point', 40.80972987938709, -73.88331505955291]\n",
      "['Bronx', 'Morrisania', 40.82359198585534, -73.90150648943059]\n",
      "['Bronx', 'Soundview', 40.821012197914015, -73.86574609554924]\n",
      "['Bronx', 'Clason Point', 40.80655112003589, -73.85414416189266]\n",
      "['Bronx', 'Throgs Neck', 40.81510925804005, -73.81635002158441]\n",
      "['Bronx', 'Country Club', 40.844245936947374, -73.8240992675385]\n",
      "['Bronx', 'Parkchester', 40.837937822267286, -73.85600310535783]\n",
      "['Bronx', 'Westchester Square', 40.8406194964327, -73.84219407604444]\n",
      "['Bronx', 'Van Nest', 40.84360847124718, -73.8662991807561]\n",
      "['Bronx', 'Morris Park', 40.847549063536334, -73.85040178030421]\n",
      "['Bronx', 'Belmont', 40.85727710073895, -73.88845196134804]\n",
      "['Bronx', 'Spuyten Duyvil', 40.88139497727086, -73.91719048210393]\n",
      "['Bronx', 'North Riverdale', 40.90854282950666, -73.90453054908927]\n",
      "['Bronx', 'Pelham Bay', 40.85064140940335, -73.8320737824047]\n",
      "['Bronx', 'Schuylerville', 40.82657951686922, -73.82620275994073]\n",
      "['Bronx', 'Edgewater Park', 40.821986118163494, -73.81388514428619]\n",
      "['Bronx', 'Castle Hill', 40.819014376988314, -73.84802729582735]\n",
      "['Bronx', 'Olinville', 40.87137078192371, -73.86332361652777]\n",
      "['Bronx', 'Pelham Gardens', 40.86296562477998, -73.84161194831223]\n",
      "['Bronx', 'Concourse', 40.83428380733851, -73.91558941773444]\n",
      "['Bronx', 'Unionport', 40.82977429787161, -73.85053524451935]\n",
      "['Bronx', 'Edenwald', 40.88456130303732, -73.84808271877168]\n",
      "['Brooklyn', 'Bay Ridge', 40.625801065010656, -74.03062069353813]\n",
      "['Brooklyn', 'Bensonhurst', 40.61100890202044, -73.99517998380729]\n",
      "['Brooklyn', 'Sunset Park', 40.64510294925429, -74.01031618527784]\n",
      "['Brooklyn', 'Greenpoint', 40.7302009848647, -73.95424093127393]\n",
      "['Brooklyn', 'Gravesend', 40.59526001306593, -73.97347087708445]\n",
      "['Brooklyn', 'Brighton Beach', 40.57682506566604, -73.96509448785336]\n",
      "['Brooklyn', 'Sheepshead Bay', 40.58689012678384, -73.94318640482979]\n",
      "['Brooklyn', 'Manhattan Terrace', 40.61443251335098, -73.95743840559939]\n",
      "['Brooklyn', 'Flatbush', 40.63632589026677, -73.95840106533903]\n",
      "['Brooklyn', 'Crown Heights', 40.67082917695294, -73.94329119073582]\n",
      "['Brooklyn', 'East Flatbush', 40.64171776668961, -73.93610256185836]\n",
      "['Brooklyn', 'Kensington', 40.642381958003526, -73.98042110559474]\n",
      "['Brooklyn', 'Windsor Terrace', 40.65694583575104, -73.98007340430172]\n",
      "['Brooklyn', 'Prospect Heights', 40.676822262254724, -73.9648592426269]\n",
      "['Brooklyn', 'Brownsville', 40.66394994339755, -73.91023536176607]\n",
      "['Brooklyn', 'Williamsburg', 40.70714439344251, -73.95811529220927]\n",
      "['Brooklyn', 'Bushwick', 40.69811611017901, -73.92525797487045]\n",
      "['Brooklyn', 'Bedford Stuyvesant', 40.687231607720456, -73.94178488690297]\n",
      "['Brooklyn', 'Brooklyn Heights', 40.695863722724084, -73.99378225496424]\n",
      "['Brooklyn', 'Cobble Hill', 40.687919722485574, -73.99856139218463]\n",
      "['Brooklyn', 'Carroll Gardens', 40.680540231076485, -73.99465372828006]\n",
      "['Brooklyn', 'Red Hook', 40.676253230250886, -74.0127589747356]\n",
      "['Brooklyn', 'Gowanus', 40.673931143187154, -73.99444087145339]\n",
      "['Brooklyn', 'Fort Greene', 40.68852726018977, -73.97290574369092]\n",
      "['Brooklyn', 'Park Slope', 40.67232052268197, -73.97705030183924]\n",
      "['Brooklyn', 'Cypress Hills', 40.68239101144211, -73.87661596457296]\n",
      "['Brooklyn', 'East New York', 40.669925700847045, -73.88069863917366]\n",
      "['Brooklyn', 'Starrett City', 40.64758905230874, -73.87936970045875]\n",
      "['Brooklyn', 'Canarsie', 40.63556432797428, -73.90209269778966]\n",
      "['Brooklyn', 'Flatlands', 40.630446043757466, -73.92911302644674]\n",
      "['Brooklyn', 'Mill Island', 40.606336421685626, -73.90818571777423]\n",
      "['Brooklyn', 'Manhattan Beach', 40.57791350308657, -73.94353722891886]\n",
      "['Brooklyn', 'Coney Island', 40.57429256471601, -73.98868295821637]\n",
      "['Brooklyn', 'Bath Beach', 40.59951870282238, -73.99875221443519]\n",
      "['Brooklyn', 'Borough Park', 40.633130512758015, -73.99049823044811]\n",
      "['Brooklyn', 'Dyker Heights', 40.619219457722636, -74.01931375636022]\n",
      "['Brooklyn', 'Gerritsen Beach', 40.590848433902046, -73.93010170691196]\n",
      "['Brooklyn', 'Marine Park', 40.609747779894604, -73.93134404108497]\n",
      "['Brooklyn', 'Clinton Hill', 40.693229421881504, -73.96784306216367]\n",
      "['Brooklyn', 'Sea Gate', 40.57637537890224, -74.0078731120024]\n",
      "['Brooklyn', 'Downtown', 40.69084402109802, -73.98346337431099]\n",
      "['Brooklyn', 'Boerum Hill', 40.685682912091444, -73.98374824115798]\n",
      "['Brooklyn', 'Prospect Lefferts Gardens', 40.658420017469815, -73.95489867077713]\n",
      "['Brooklyn', 'Ocean Hill', 40.678402554795355, -73.91306831787395]\n",
      "['Brooklyn', 'City Line', 40.67856995727479, -73.86797598081334]\n",
      "['Brooklyn', 'Bergen Beach', 40.61514955045308, -73.89855633630317]\n",
      "['Brooklyn', 'Midwood', 40.62559589869843, -73.95759523489838]\n",
      "['Brooklyn', 'Prospect Park South', 40.647008603185185, -73.96261316716048]\n",
      "['Brooklyn', 'Georgetown', 40.62384524478419, -73.91607483951324]\n",
      "['Brooklyn', 'East Williamsburg', 40.70849241041548, -73.93885815269195]\n",
      "['Brooklyn', 'North Side', 40.714822906532014, -73.95880857587582]\n",
      "['Brooklyn', 'South Side', 40.71086147265064, -73.95800095153331]\n",
      "['Brooklyn', 'Ocean Parkway', 40.61305976667942, -73.96836678035541]\n",
      "['Brooklyn', 'Fort Hamilton', 40.61476812694226, -74.03197914537984]\n",
      "['Manhattan', 'Chinatown', 40.71561842231432, -73.99427936255978]\n",
      "['Manhattan', 'Washington Heights', 40.85190252555305, -73.93690027985234]\n",
      "['Manhattan', 'Inwood', 40.86768396449915, -73.92121042203897]\n",
      "['Manhattan', 'Hamilton Heights', 40.823604284811935, -73.94968791883366]\n",
      "['Manhattan', 'Manhattanville', 40.8169344294978, -73.9573853935188]\n",
      "['Manhattan', 'Central Harlem', 40.81597606742414, -73.94321112603905]\n",
      "['Manhattan', 'East Harlem', 40.79224946663033, -73.94418223148524]\n",
      "['Manhattan', 'Upper East Side', 40.775638573301805, -73.96050763135]\n",
      "['Manhattan', 'Yorkville', 40.775929849884875, -73.94711784471826]\n",
      "['Manhattan', 'Lenox Hill', 40.76811265828733, -73.9588596881376]\n",
      "['Manhattan', 'Roosevelt Island', 40.76215960576283, -73.94916769227953]\n",
      "['Manhattan', 'Upper West Side', 40.787657998534854, -73.97705923630603]\n",
      "['Manhattan', 'Lincoln Square', 40.77352888942166, -73.98533777001262]\n",
      "['Manhattan', 'Clinton', 40.75910089146212, -73.99611936309479]\n",
      "['Manhattan', 'Midtown', 40.75469110270623, -73.98166882730304]\n",
      "['Manhattan', 'Murray Hill', 40.748303077252174, -73.97833207924127]\n",
      "['Manhattan', 'Chelsea', 40.744034706747975, -74.00311633472813]\n",
      "['Manhattan', 'Greenwich Village', 40.72693288536128, -73.99991402945902]\n",
      "['Manhattan', 'East Village', 40.727846777270244, -73.98222616506416]\n",
      "['Manhattan', 'Lower East Side', 40.71780674892765, -73.98089031999291]\n",
      "['Manhattan', 'Tribeca', 40.721521967443216, -74.01068328559087]\n",
      "['Manhattan', 'Little Italy', 40.71932379395907, -73.99730467208073]\n",
      "['Manhattan', 'Soho', 40.72218384131794, -74.00065666959759]\n",
      "['Manhattan', 'West Village', 40.73443393572434, -74.00617998126812]\n",
      "['Manhattan', 'Manhattan Valley', 40.797307041702865, -73.96428617740655]\n",
      "['Manhattan', 'Morningside Heights', 40.807999738165826, -73.96389627905332]\n",
      "['Manhattan', 'Gramercy', 40.737209832715, -73.98137594833541]\n",
      "['Manhattan', 'Battery Park City', 40.71193198394565, -74.01686930508617]\n",
      "['Manhattan', 'Financial District', 40.70710710727048, -74.0106654452127]\n",
      "['Queens', 'Astoria', 40.76850859335492, -73.91565374304234]\n",
      "['Queens', 'Woodside', 40.74634908860222, -73.90184166838284]\n",
      "['Queens', 'Jackson Heights', 40.75198138007367, -73.88282109164365]\n",
      "['Queens', 'Elmhurst', 40.744048505122024, -73.88165622288388]\n",
      "['Queens', 'Howard Beach', 40.65422527738487, -73.8381376460028]\n",
      "['Queens', 'Corona', 40.74238175015667, -73.85682497345258]\n",
      "['Queens', 'Forest Hills', 40.72526378216503, -73.84447500788983]\n",
      "['Queens', 'Kew Gardens', 40.7051790354148, -73.82981905825703]\n",
      "['Queens', 'Richmond Hill', 40.69794731471763, -73.83183321446887]\n",
      "['Queens', 'Flushing', 40.76445419697846, -73.83177300329582]\n",
      "['Queens', 'Long Island City', 40.75021734610528, -73.93920223915505]\n",
      "['Queens', 'Sunnyside', 40.74017628351924, -73.92691617561577]\n",
      "['Queens', 'East Elmhurst', 40.76407323883091, -73.86704147658772]\n",
      "['Queens', 'Maspeth', 40.725427374093606, -73.89621713626859]\n",
      "['Queens', 'Ridgewood', 40.70832315613858, -73.90143517559589]\n",
      "['Queens', 'Glendale', 40.70276242967838, -73.87074167435605]\n",
      "['Queens', 'Rego Park', 40.72897409480735, -73.8578268690537]\n",
      "['Queens', 'Woodhaven', 40.68988687915789, -73.8581104655432]\n",
      "['Queens', 'Ozone Park', 40.680708468265415, -73.84320266173447]\n",
      "['Queens', 'South Ozone Park', 40.66854957767195, -73.80986478649041]\n",
      "['Queens', 'College Point', 40.784902749260205, -73.84304528896125]\n",
      "['Queens', 'Whitestone', 40.78129076602694, -73.81420216610863]\n",
      "['Queens', 'Bayside', 40.76604063281064, -73.7742736306867]\n",
      "['Queens', 'Auburndale', 40.76172954903262, -73.79176243728061]\n",
      "['Queens', 'Little Neck', 40.7708261928267, -73.7388977558074]\n",
      "['Queens', 'Douglaston', 40.76684609790763, -73.7424982072733]\n",
      "['Queens', 'Glen Oaks', 40.74944079974332, -73.71548118999145]\n",
      "['Queens', 'Bellerose', 40.72857318176675, -73.72012814826903]\n",
      "['Queens', 'Kew Gardens Hills', 40.722578244228046, -73.82087764933566]\n",
      "['Queens', 'Fresh Meadows', 40.7343944653313, -73.78271337003264]\n",
      "['Queens', 'Briarwood', 40.71093547252271, -73.81174822458634]\n",
      "['Queens', 'Jamaica Center', 40.70465736068717, -73.79690165888289]\n",
      "['Queens', 'Oakland Gardens', 40.74561857141855, -73.75494976234332]\n",
      "['Queens', 'Queens Village', 40.718893092167356, -73.73871484578424]\n",
      "['Queens', 'Hollis', 40.71124344191904, -73.75925009335594]\n",
      "['Queens', 'South Jamaica', 40.696911253789885, -73.7904261313554]\n",
      "['Queens', 'St. Albans', 40.69444538522359, -73.75867603727717]\n",
      "['Queens', 'Rochdale', 40.67521139591733, -73.77258787620906]\n",
      "['Queens', 'Springfield Gardens', 40.666230490368584, -73.76042092682287]\n",
      "['Queens', 'Cambria Heights', 40.692774639160845, -73.73526873708026]\n",
      "['Queens', 'Rosedale', 40.659816433428084, -73.73526079428278]\n",
      "['Queens', 'Far Rockaway', 40.603134432500894, -73.75497968043872]\n",
      "['Queens', 'Broad Channel', 40.60302658351238, -73.8200548911032]\n",
      "['Queens', 'Breezy Point', 40.55740128845452, -73.92551196994168]\n",
      "['Queens', 'Steinway', 40.775923015642896, -73.90228960391673]\n",
      "['Queens', 'Beechhurst', 40.79278140360048, -73.80436451720988]\n",
      "['Queens', 'Bay Terrace', 40.782842806245554, -73.7768022262158]\n",
      "['Queens', 'Edgemere', 40.595641807368494, -73.77613282391705]\n",
      "['Queens', 'Arverne', 40.58914394372971, -73.79199233136943]\n",
      "['Queens', 'Rockaway Beach', 40.582801696845586, -73.82236121088751]\n",
      "['Queens', 'Neponsit', 40.572036730217015, -73.85754672410827]\n",
      "['Queens', 'Murray Hill', 40.764126122614066, -73.81276269135866]\n",
      "['Queens', 'Floral Park', 40.741378421945434, -73.70884705889246]\n",
      "['Queens', 'Holliswood', 40.7209572076444, -73.76714166714729]\n",
      "['Queens', 'Jamaica Estates', 40.71680483014613, -73.7872269693666]\n",
      "['Queens', 'Queensboro Hill', 40.7445723092867, -73.82580915110559]\n",
      "['Queens', 'Hillcrest', 40.723824901829204, -73.79760300912672]\n",
      "['Queens', 'Ravenswood', 40.761704526054146, -73.93157506072878]\n",
      "['Queens', 'Lindenwood', 40.66391841925139, -73.84963782402441]\n",
      "['Queens', 'Laurelton', 40.66788389660247, -73.74025607989822]\n",
      "['Queens', 'Lefrak City', 40.736074570830795, -73.8625247141374]\n",
      "['Queens', 'Belle Harbor', 40.57615556543109, -73.8540175039252]\n",
      "['Queens', 'Rockaway Park', 40.58034295646131, -73.84153370226186]\n",
      "['Queens', 'Somerville', 40.59771061565768, -73.79664750844047]\n",
      "['Queens', 'Brookville', 40.66000322733613, -73.75175310731153]\n",
      "['Queens', 'Bellaire', 40.73301404027834, -73.73889198912481]\n",
      "['Queens', 'North Corona', 40.7540709990489, -73.85751790676447]\n",
      "['Queens', 'Forest Hills Gardens', 40.7146110815117, -73.8410221123401]\n",
      "['Staten Island', 'St. George', 40.6449815710044, -74.07935312512797]\n",
      "['Staten Island', 'New Brighton', 40.64061455913511, -74.08701650516625]\n",
      "['Staten Island', 'Stapleton', 40.62692762538176, -74.07790192660066]\n",
      "['Staten Island', 'Rosebank', 40.61530494652761, -74.06980526716141]\n",
      "['Staten Island', 'West Brighton', 40.63187892654607, -74.1071817826561]\n",
      "['Staten Island', 'Grymes Hill', 40.624184791313006, -74.08724819983729]\n",
      "['Staten Island', 'Todt Hill', 40.59706851814673, -74.1113288180088]\n",
      "['Staten Island', 'South Beach', 40.58024741350956, -74.0795529253982]\n",
      "['Staten Island', 'Port Richmond', 40.63366930554365, -74.12943426797008]\n",
      "['Staten Island', \"Mariner's Harbor\", 40.632546390481124, -74.15008537046981]\n",
      "['Staten Island', 'Port Ivory', 40.63968297845542, -74.17464532993542]\n",
      "['Staten Island', 'Castleton Corners', 40.61333593766742, -74.11918058534842]\n",
      "['Staten Island', 'New Springville', 40.594252379161695, -74.16496031329827]\n",
      "['Staten Island', 'Travis', 40.58631375103281, -74.19073717538116]\n",
      "['Staten Island', 'New Dorp', 40.57257231820632, -74.1164794360638]\n",
      "['Staten Island', 'Oakwood', 40.5584622432888, -74.12156593771896]\n",
      "['Staten Island', 'Great Kills', 40.549480228713605, -74.14932381490992]\n",
      "['Staten Island', 'Eltingville', 40.542230747450745, -74.1643308041936]\n",
      "['Staten Island', 'Annadale', 40.53811417474507, -74.17854866165878]\n",
      "['Staten Island', 'Woodrow', 40.541967622888755, -74.20524582480326]\n",
      "['Staten Island', 'Tottenville', 40.50533376115642, -74.24656934235283]\n",
      "['Staten Island', 'Tompkinsville', 40.637316067110326, -74.08055351790115]\n",
      "['Staten Island', 'Silver Lake', 40.61919310792676, -74.09629029235458]\n",
      "['Staten Island', 'Sunnyside', 40.61276015756489, -74.0971255217853]\n",
      "['Brooklyn', 'Ditmas Park', 40.643675183340974, -73.96101312466779]\n",
      "['Brooklyn', 'Wingate', 40.66094656188111, -73.93718680559314]\n",
      "['Brooklyn', 'Rugby', 40.655572313280764, -73.92688212616955]\n",
      "['Staten Island', 'Park Hill', 40.60919044434558, -74.08015734936296]\n",
      "['Staten Island', 'Westerleigh', 40.62109047275409, -74.13304143951704]\n",
      "['Staten Island', 'Graniteville', 40.620171512231884, -74.15315246387762]\n",
      "['Staten Island', 'Arlington', 40.63532509911492, -74.16510420241124]\n",
      "['Staten Island', 'Arrochar', 40.596312571276734, -74.06712363225574]\n",
      "['Staten Island', 'Grasmere', 40.59826835959991, -74.0766743627905]\n",
      "['Staten Island', 'Old Town', 40.59632891379513, -74.08751118005578]\n",
      "['Staten Island', 'Dongan Hills', 40.588672948199275, -74.09639905312521]\n",
      "['Staten Island', 'Midland Beach', 40.57352690574283, -74.09348266303591]\n",
      "['Staten Island', 'Grant City', 40.57621558711788, -74.10585598545434]\n",
      "['Staten Island', 'New Dorp Beach', 40.56425549307335, -74.10432707469124]\n",
      "['Staten Island', 'Bay Terrace', 40.55398800858462, -74.13916622175768]\n",
      "['Staten Island', 'Huguenot', 40.531911920489605, -74.19174105747814]\n",
      "['Staten Island', 'Pleasant Plains', 40.524699376118136, -74.21983106616777]\n",
      "['Staten Island', 'Butler Manor', 40.50608165346305, -74.22950350260027]\n",
      "['Staten Island', 'Charleston', 40.53053148283314, -74.23215775896526]\n",
      "['Staten Island', 'Rossville', 40.54940400650072, -74.21572851113952]\n",
      "['Staten Island', 'Arden Heights', 40.54928582278321, -74.18588674583893]\n",
      "['Staten Island', 'Greenridge', 40.555295236173194, -74.17079414786092]\n",
      "['Staten Island', 'Heartland Village', 40.58913894875281, -74.15902208156601]\n",
      "['Staten Island', 'Chelsea', 40.59472602746295, -74.1895604551969]\n",
      "['Staten Island', 'Bloomfield', 40.60577868452358, -74.18725638381567]\n",
      "['Staten Island', 'Bulls Head', 40.6095918004203, -74.15940948657122]\n",
      "['Manhattan', 'Carnegie Hill', 40.7826825671257, -73.95325646837112]\n",
      "['Manhattan', 'Noho', 40.72325901885768, -73.98843368023597]\n",
      "['Manhattan', 'Civic Center', 40.71522892046282, -74.00541529873355]\n",
      "['Manhattan', 'Midtown South', 40.7485096643122, -73.98871313285247]\n",
      "['Staten Island', 'Richmond Town', 40.56960594275505, -74.1340572986257]\n",
      "['Staten Island', 'Shore Acres', 40.60971934079284, -74.06667766061771]\n",
      "['Staten Island', 'Clifton', 40.61917845202843, -74.072642445484]\n",
      "['Staten Island', 'Concord', 40.6044731896879, -74.08402364740358]\n",
      "['Staten Island', 'Emerson Hill', 40.606794394801, -74.09776206972522]\n",
      "['Staten Island', 'Randall Manor', 40.63563000681151, -74.09805062373887]\n",
      "['Staten Island', 'Howland Hook', 40.63843283794795, -74.18622331749823]\n",
      "['Staten Island', 'Elm Park', 40.630146741193826, -74.1418167896889]\n",
      "['Brooklyn', 'Remsen Village', 40.652117451793494, -73.91665331978048]\n",
      "['Brooklyn', 'New Lots', 40.6627442796966, -73.88511776379292]\n",
      "['Brooklyn', 'Paerdegat Basin', 40.63131755039667, -73.90233474295836]\n",
      "['Brooklyn', 'Mill Basin', 40.61597423962336, -73.91515391550404]\n",
      "['Queens', 'Jamaica Hills', 40.71145964370482, -73.79646462081593]\n",
      "['Queens', 'Utopia', 40.73350025429757, -73.79671678028349]\n",
      "['Queens', 'Pomonok', 40.73493618075478, -73.80486120040537]\n",
      "['Queens', 'Astoria Heights', 40.7703173929982, -73.89467996270574]\n",
      "['Bronx', 'Claremont Village', 40.83142834161548, -73.90119903387667]\n",
      "['Bronx', 'Concourse Village', 40.824780490842905, -73.91584652759009]\n",
      "['Bronx', 'Mount Eden', 40.84382617671654, -73.91655551964419]\n",
      "['Bronx', 'Mount Hope', 40.84884160724665, -73.90829930881988]\n",
      "['Manhattan', 'Sutton Place', 40.76028033131374, -73.96355614094303]\n",
      "['Queens', 'Hunters Point', 40.743414090073536, -73.95386782130745]\n",
      "['Manhattan', 'Turtle Bay', 40.75204236950722, -73.96770824581834]\n",
      "['Manhattan', 'Tudor City', 40.746917410740195, -73.97121928722265]\n",
      "['Manhattan', 'Stuyvesant Town', 40.73099955477061, -73.97405170469203]\n",
      "['Manhattan', 'Flatiron', 40.739673047638426, -73.9909471052826]\n",
      "['Queens', 'Sunnyside Gardens', 40.74565180608076, -73.91819286431682]\n",
      "['Queens', 'Blissville', 40.73725071694497, -73.93244235260178]\n",
      "['Brooklyn', 'Fulton Ferry', 40.70328109093014, -73.99550751888415]\n",
      "['Brooklyn', 'Vinegar Hill', 40.70332149882874, -73.98111603592393]\n",
      "['Brooklyn', 'Weeksville', 40.67503986503237, -73.93053108817338]\n",
      "['Brooklyn', 'Broadway Junction', 40.67786104769531, -73.90331684852599]\n",
      "['Brooklyn', 'Dumbo', 40.70317632822692, -73.9887528074504]\n",
      "['Staten Island', 'Manor Heights', 40.60180957631444, -74.12059399718001]\n",
      "['Staten Island', 'Willowbrook', 40.60370692627371, -74.13208447484298]\n",
      "['Staten Island', 'Sandy Ground', 40.541139922091766, -74.21776636068567]\n",
      "['Staten Island', 'Egbertville', 40.579118742961214, -74.12727240604946]\n",
      "['Queens', 'Roxbury', 40.56737588957032, -73.89213760232822]\n",
      "['Brooklyn', 'Homecrest', 40.598525095137255, -73.95918459428702]\n",
      "['Queens', 'Middle Village', 40.716414511158185, -73.88114319200604]\n",
      "['Staten Island', \"Prince's Bay\", 40.52626406734812, -74.20152556457658]\n",
      "['Staten Island', 'Lighthouse Hill', 40.57650629379489, -74.13792663771568]\n",
      "['Staten Island', 'Richmond Valley', 40.51954145748909, -74.22957080626941]\n",
      "['Queens', 'Malba', 40.79060155670148, -73.82667757138641]\n",
      "['Brooklyn', 'Highland Park', 40.6819989345173, -73.890345709872]\n",
      "['Brooklyn', 'Madison', 40.60937770113766, -73.94841515328893]\n",
      "['Bronx', 'Bronxdale', 40.85272297633017, -73.86172577555115]\n",
      "['Bronx', 'Allerton', 40.86578787802982, -73.85931863221647]\n",
      "['Bronx', 'Kingsbridge Heights', 40.8703923914147, -73.90152264513144]\n",
      "['Brooklyn', 'Erasmus', 40.64692606658579, -73.94817709920184]\n",
      "['Manhattan', 'Hudson Yards', 40.75665808227519, -74.00011136202637]\n",
      "['Queens', 'Hammels', 40.58733774018741, -73.80553002968718]\n",
      "['Queens', 'Bayswater', 40.611321691283834, -73.76596781445627]\n",
      "['Queens', 'Queensbridge', 40.756091297094706, -73.94563070334091]\n",
      "['Staten Island', 'Fox Hills', 40.61731079252983, -74.08173992211962]\n"
     ]
    }
   ],
   "source": [
    "for row in df_ny.values.tolist():\n",
    "    print(row)"
   ]
  },
  {
   "cell_type": "code",
   "execution_count": 73,
   "metadata": {},
   "outputs": [
    {
     "name": "stdout",
     "output_type": "stream",
     "text": [
      "Steakhouse in\n",
      "---------------------\n",
      "Fieldston, Bronx : 1\n",
      "Kingsbridge, Bronx : 1\n",
      "Marble Hill, Manhattan : 1\n",
      "Baychester, Bronx : 1\n",
      "High  Bridge, Bronx : 1\n",
      "Mott Haven, Bronx : 1\n",
      "Hunts Point, Bronx : 1\n",
      "Schuylerville, Bronx : 1\n",
      "Manhattan Terrace, Brooklyn : 1\n",
      "Kensington, Brooklyn : 1\n",
      "Williamsburg, Brooklyn : 1\n",
      "Starrett City, Brooklyn : 1\n",
      "Bath Beach, Brooklyn : 1\n",
      "Borough Park, Brooklyn : 1\n",
      "Marine Park, Brooklyn : 1\n",
      "South Side, Brooklyn : 1\n",
      "Ocean Parkway, Brooklyn : 2\n",
      "Fort Hamilton, Brooklyn : 1\n",
      "East Harlem, Manhattan : 1\n",
      "Midtown, Manhattan : 3\n",
      "Murray Hill, Manhattan : 1\n",
      "Tribeca, Manhattan : 2\n",
      "West Village, Manhattan : 2\n",
      "Battery Park City, Manhattan : 2\n",
      "Financial District, Manhattan : 2\n",
      "Long Island City, Queens : 1\n",
      "College Point, Queens : 1\n",
      "Bayside, Queens : 1\n",
      "Oakland Gardens, Queens : 1\n",
      "Steinway, Queens : 1\n",
      "Bay Terrace, Queens : 1\n",
      "Rockaway Park, Queens : 1\n",
      "St. George, Staten Island : 1\n",
      "New Brighton, Staten Island : 1\n",
      "Travis, Staten Island : 1\n",
      "Tompkinsville, Staten Island : 1\n",
      "Arrochar, Staten Island : 1\n",
      "Chelsea, Staten Island : 1\n",
      "Midtown South, Manhattan : 1\n",
      "Concourse Village, Bronx : 1\n",
      "Sutton Place, Manhattan : 2\n",
      "Turtle Bay, Manhattan : 1\n",
      "Madison, Brooklyn : 1\n",
      "Queensbridge, Queens : 1\n",
      "Completed constructing the Steakhouse data set\n"
     ]
    }
   ],
   "source": [
    "# prepare neighborhood list that contains Steakhouse\n",
    "column_names=['Borough', 'Neighborhood', 'ID','Name']\n",
    "steak_rest_ny=pd.DataFrame(columns=column_names)\n",
    "\n",
    "print('Steakhouse in\\n---------------------')\n",
    "       \n",
    "for row in df_ny.values.tolist():\n",
    "    Borough, Neighborhood, Latitude, Longitude=row\n",
    "    venues = get_venues(Latitude,Longitude)\n",
    "    steak_restaurants=venues[venues['Category']=='Steakhouse']\n",
    "    if len(steak_restaurants) > 0:\n",
    "        print(Neighborhood+', '+Borough+' : '+str(len(steak_restaurants)))\n",
    "    for restaurant_detail in steak_restaurants.values.tolist():\n",
    "        id, name , category=restaurant_detail\n",
    "        steak_rest_ny = steak_rest_ny.append({'Borough': Borough,\n",
    "                                                'Neighborhood': Neighborhood, \n",
    "                                                'ID': id,\n",
    "                                                'Name' : name\n",
    "                                               }, ignore_index=True)\n",
    "\n",
    "print('Completed constructing the Steakhouse data set')"
   ]
  },
  {
   "cell_type": "code",
   "execution_count": 74,
   "metadata": {},
   "outputs": [
    {
     "data": {
      "text/html": [
       "<div>\n",
       "<style scoped>\n",
       "    .dataframe tbody tr th:only-of-type {\n",
       "        vertical-align: middle;\n",
       "    }\n",
       "\n",
       "    .dataframe tbody tr th {\n",
       "        vertical-align: top;\n",
       "    }\n",
       "\n",
       "    .dataframe thead th {\n",
       "        text-align: right;\n",
       "    }\n",
       "</style>\n",
       "<table border=\"1\" class=\"dataframe\">\n",
       "  <thead>\n",
       "    <tr style=\"text-align: right;\">\n",
       "      <th></th>\n",
       "      <th>Borough</th>\n",
       "      <th>Neighborhood</th>\n",
       "      <th>ID</th>\n",
       "      <th>Name</th>\n",
       "    </tr>\n",
       "  </thead>\n",
       "  <tbody>\n",
       "    <tr>\n",
       "      <th>0</th>\n",
       "      <td>Bronx</td>\n",
       "      <td>Fieldston</td>\n",
       "      <td>46e6f285f964a520c94a1fe3</td>\n",
       "      <td>Jake’s Steakhouse</td>\n",
       "    </tr>\n",
       "    <tr>\n",
       "      <th>1</th>\n",
       "      <td>Bronx</td>\n",
       "      <td>Kingsbridge</td>\n",
       "      <td>4dfe40df8877333e195b68fc</td>\n",
       "      <td>Parrilla Latina</td>\n",
       "    </tr>\n",
       "    <tr>\n",
       "      <th>2</th>\n",
       "      <td>Manhattan</td>\n",
       "      <td>Marble Hill</td>\n",
       "      <td>4dfe40df8877333e195b68fc</td>\n",
       "      <td>Parrilla Latina</td>\n",
       "    </tr>\n",
       "    <tr>\n",
       "      <th>3</th>\n",
       "      <td>Bronx</td>\n",
       "      <td>Baychester</td>\n",
       "      <td>560afe74498ec5e1b97a21a1</td>\n",
       "      <td>Outback Steakhouse</td>\n",
       "    </tr>\n",
       "    <tr>\n",
       "      <th>4</th>\n",
       "      <td>Bronx</td>\n",
       "      <td>High  Bridge</td>\n",
       "      <td>4c0fd7a6f1b6a593b1ee7a27</td>\n",
       "      <td>NYY STEAK</td>\n",
       "    </tr>\n",
       "  </tbody>\n",
       "</table>\n",
       "</div>"
      ],
      "text/plain": [
       "     Borough  Neighborhood                        ID                Name\n",
       "0      Bronx     Fieldston  46e6f285f964a520c94a1fe3   Jake’s Steakhouse\n",
       "1      Bronx   Kingsbridge  4dfe40df8877333e195b68fc     Parrilla Latina\n",
       "2  Manhattan   Marble Hill  4dfe40df8877333e195b68fc     Parrilla Latina\n",
       "3      Bronx    Baychester  560afe74498ec5e1b97a21a1  Outback Steakhouse\n",
       "4      Bronx  High  Bridge  4c0fd7a6f1b6a593b1ee7a27           NYY STEAK"
      ]
     },
     "execution_count": 74,
     "metadata": {},
     "output_type": "execute_result"
    }
   ],
   "source": [
    "steak_rest_ny.head()"
   ]
  },
  {
   "cell_type": "code",
   "execution_count": 75,
   "metadata": {},
   "outputs": [
    {
     "data": {
      "text/plain": [
       "(52, 4)"
      ]
     },
     "execution_count": 75,
     "metadata": {},
     "output_type": "execute_result"
    }
   ],
   "source": [
    "steak_rest_ny.shape"
   ]
  },
  {
   "cell_type": "markdown",
   "metadata": {},
   "source": [
    "##### Using the FourSquare API, 52 Steakhouses in New York City were obtained."
   ]
  },
  {
   "cell_type": "code",
   "execution_count": 76,
   "metadata": {},
   "outputs": [],
   "source": [
    "steak_rest_ny.to_csv('steak_rest_ny.csv', index=False)"
   ]
  },
  {
   "cell_type": "code",
   "execution_count": 77,
   "metadata": {},
   "outputs": [],
   "source": [
    "steak_rest_ny_csv=pd.read_csv('steak_rest_ny.csv')"
   ]
  },
  {
   "cell_type": "markdown",
   "metadata": {},
   "source": [
    "##### Let us visualize the number of Steakhouses per Borough."
   ]
  },
  {
   "cell_type": "code",
   "execution_count": 78,
   "metadata": {},
   "outputs": [
    {
     "data": {
      "image/png": "[encoded data removed]",
      "text/plain": [
       "<Figure size 480x480 with 1 Axes>"
      ]
     },
     "metadata": {
      "needs_background": "light"
     },
     "output_type": "display_data"
    }
   ],
   "source": [
    "plt.figure(figsize=(6,6), dpi = 80)\n",
    "# title\n",
    "plt.title('Number of Steakhouses for each Borough in New York City')\n",
    "#On x-axis\n",
    "plt.xlabel('Borough', fontsize = 12)\n",
    "#On y-axis\n",
    "plt.ylabel('No.of Steakhouse', fontsize=12)\n",
    "#giving a bar plot\n",
    "steak_rest_ny.groupby('Borough')['ID'].count().plot(kind='bar', color='#D15FEE')\n",
    "#legend\n",
    "plt.legend()\n",
    "#displays the plot\n",
    "plt.show()"
   ]
  },
  {
   "cell_type": "markdown",
   "metadata": {},
   "source": [
    "##### Due to limitation with the number of premium calls using Foursquare API, only 50 Steakhouses were processed among the 52. The two Steakhouses that were left were the data for T Fusion Steakhouse (Madison, Brooklyn) and M.Wells Steakhouse (Queensbridge, Queens)."
   ]
  },
  {
   "cell_type": "code",
   "execution_count": 79,
   "metadata": {},
   "outputs": [
    {
     "name": "stdout",
     "output_type": "stream",
     "text": [
      "                         ID               Name  Likes  Rating  Tips\n",
      "0  46e6f285f964a520c94a1fe3  Jake’s Steakhouse     64     7.9    29\n",
      "( 1 / 52 ) processed\n",
      "                         ID             Name  Likes  Rating  Tips\n",
      "0  4dfe40df8877333e195b68fc  Parrilla Latina      8     6.8     6\n",
      "( 2 / 52 ) processed\n",
      "                         ID             Name  Likes  Rating  Tips\n",
      "0  4dfe40df8877333e195b68fc  Parrilla Latina      8     6.8     6\n",
      "( 3 / 52 ) processed\n",
      "                         ID                Name  Likes  Rating  Tips\n",
      "0  560afe74498ec5e1b97a21a1  Outback Steakhouse     19     7.0     1\n",
      "( 4 / 52 ) processed\n",
      "                         ID       Name  Likes  Rating  Tips\n",
      "0  4c0fd7a6f1b6a593b1ee7a27  NYY STEAK     41     8.0    12\n",
      "( 5 / 52 ) processed\n",
      "                         ID          Name  Likes  Rating  Tips\n",
      "0  53dd7aaf498e6dfaddd17fcb  Don Pancho's     12     8.4     3\n",
      "( 6 / 52 ) processed\n",
      "Empty DataFrame\n",
      "Columns: [ID, Name, Likes, Rating, Tips]\n",
      "Index: []\n",
      "No data available for id= 57680cec498e991e37470082\n",
      "( 7 / 52 ) processed\n",
      "                         ID             Name  Likes  Rating  Tips\n",
      "0  5143b9f9e4b01d5368033af2  3363 SteakHouse      3     6.2     5\n",
      "( 8 / 52 ) processed\n",
      "                         ID                         Name  Likes  Rating  Tips\n",
      "0  50199599011cecae1f8b8968  Moldova Restaurant Brooklyn     24     7.0    12\n",
      "( 9 / 52 ) processed\n",
      "                         ID                 Name  Likes  Rating  Tips\n",
      "0  4ca8fc98b0b8236af023b9e6  The Loft Steakhouse      8     8.1     5\n",
      "( 10 / 52 ) processed\n",
      "                         ID                     Name  Likes  Rating  Tips\n",
      "0  3fd66200f964a5209beb1ee3  Peter Luger Steak House   1955     8.7   676\n",
      "( 11 / 52 ) processed\n",
      "                         ID                Name  Likes  Rating  Tips\n",
      "0  54c745d6498ef486aa010b26  Outback Steakhouse     70     8.0    12\n",
      "( 12 / 52 ) processed\n",
      "                         ID             Name  Likes  Rating  Tips\n",
      "0  4b7f505af964a520e92630e3  The Living Room     26     6.9    17\n",
      "( 13 / 52 ) processed\n",
      "                         ID                 Name  Likes  Rating  Tips\n",
      "0  4ca8fc98b0b8236af023b9e6  The Loft Steakhouse      8     8.1     5\n",
      "( 14 / 52 ) processed\n",
      "                         ID                 Name  Likes  Rating  Tips\n",
      "0  4baacdddf964a52099873ae3  T Fusion Steakhouse     13     7.6     5\n",
      "( 15 / 52 ) processed\n",
      "                         ID                     Name  Likes  Rating  Tips\n",
      "0  3fd66200f964a5209beb1ee3  Peter Luger Steak House   1955     8.7   676\n",
      "( 16 / 52 ) processed\n",
      "                         ID                         Name  Likes  Rating  Tips\n",
      "0  50199599011cecae1f8b8968  Moldova Restaurant Brooklyn     24     7.0    12\n",
      "( 17 / 52 ) processed\n",
      "                         ID                      Name  Likes  Rating  Tips\n",
      "0  4e1637696284b506cfd7e1e3  Mabat Steak House Kosher      5     7.4     4\n",
      "( 18 / 52 ) processed\n",
      "                         ID                        Name  Likes  Rating  Tips\n",
      "0  4bd3644da8b3a593abe3695f  Hunter's Steak & Ale House     35     8.1    18\n",
      "( 19 / 52 ) processed\n",
      "                         ID                 Name  Likes  Rating  Tips\n",
      "0  4ad90e1df964a520981721e3  Ricardo Steak House    173     8.3    85\n",
      "( 20 / 52 ) processed\n",
      "                         ID                 Name  Likes  Rating  Tips\n",
      "0  4a303b23f964a52038991fe3  Benjamin Steakhouse    290     8.5   102\n",
      "( 21 / 52 ) processed\n",
      "                         ID                                  Name  Likes  \\\n",
      "0  4b0c24fef964a520be3723e3  Del Frisco's Double Eagle Steakhouse   1097   \n",
      "\n",
      "   Rating  Tips  \n",
      "0     8.9   337  \n",
      "( 22 / 52 ) processed\n",
      "                         ID              Name  Likes  Rating  Tips\n",
      "0  3fd66200f964a52042e31ee3  Keens Steakhouse   1345     8.8   469\n",
      "( 23 / 52 ) processed\n",
      "                         ID                 Name  Likes  Rating  Tips\n",
      "0  4a303b23f964a52038991fe3  Benjamin Steakhouse    290     8.5   102\n",
      "( 24 / 52 ) processed\n",
      "                         ID                   Name  Likes  Rating  Tips\n",
      "0  4a6b17bff964a520fdcd1fe3  Wolfgang's Steakhouse    245     8.9    76\n",
      "( 25 / 52 ) processed\n",
      "                         ID          Name  Likes  Rating  Tips\n",
      "0  52371fef11d2fa11b58c6057  American Cut    257     8.2    96\n",
      "( 26 / 52 ) processed\n",
      "                         ID              Name  Likes  Rating  Tips\n",
      "0  4f32037a19833175d609bce1  The Beatrice Inn    252     8.8    67\n",
      "( 27 / 52 ) processed\n",
      "                         ID                 Name  Likes  Rating  Tips\n",
      "0  585164b77220e62219c9aeb6  4 Charles Prime Rib    217     9.4    57\n",
      "( 28 / 52 ) processed\n",
      "                         ID                     Name  Likes  Rating  Tips\n",
      "0  51cac19e498e1f28926b8a8d  Morton's The Steakhouse     96     8.1    34\n",
      "( 29 / 52 ) processed\n",
      "                         ID      Name  Likes  Rating  Tips\n",
      "0  4a565991f964a5200bb51fe3  The Palm    107     8.2    57\n",
      "( 30 / 52 ) processed\n",
      "                         ID                    Name  Likes  Rating  Tips\n",
      "0  4ab27744f964a520486b20e3  Harry's Cafe and Steak    278     8.3   122\n",
      "( 31 / 52 ) processed\n",
      "                         ID                     Name  Likes  Rating  Tips\n",
      "0  51cac19e498e1f28926b8a8d  Morton's The Steakhouse     96     8.1    34\n",
      "( 32 / 52 ) processed\n",
      "                         ID                 Name  Likes  Rating  Tips\n",
      "0  521d617c11d2d3f4edb81926  M. Wells Steakhouse    153     7.7    72\n",
      "( 33 / 52 ) processed\n",
      "                         ID                                 Name  Likes  \\\n",
      "0  538a5ea1498e264f18c7c06b  Danny's French Cuisine & Steak 法式料理      8   \n",
      "\n",
      "   Rating  Tips  \n",
      "0     6.7     2  \n",
      "( 34 / 52 ) processed\n",
      "                         ID                     Name  Likes  Rating  Tips\n",
      "0  4b670a92f964a5207a362be3  Uncle Jack's Steakhouse     66     8.5    23\n",
      "( 35 / 52 ) processed\n",
      "Empty DataFrame\n",
      "Columns: [ID, Name, Likes, Rating, Tips]\n",
      "Index: []\n",
      "No data available for id= 4f614744e4b011d850782b65\n",
      "( 36 / 52 ) processed\n",
      "                         ID                 Name  Likes  Rating  Tips\n",
      "0  4b51152cf964a520694127e3  Christos Steakhouse     56     7.9    27\n",
      "( 37 / 52 ) processed\n",
      "                         ID                Name  Likes  Rating  Tips\n",
      "0  4ba40485f964a5203b7838e3  Outback Steakhouse     55     6.2    28\n",
      "( 38 / 52 ) processed\n",
      "                         ID                          Name  Likes  Rating  Tips\n",
      "0  4c707a36df6b8cfae192b84d  Belle Harbor Steak & Seafood     27     8.7    16\n",
      "( 39 / 52 ) processed\n",
      "                         ID                                Name  Likes  \\\n",
      "0  4edad2470e011b46eef9af05  Ruddy & Dean North Shore Steak Co.      5   \n",
      "\n",
      "   Rating  Tips  \n",
      "0     6.5     2  \n",
      "( 40 / 52 ) processed\n",
      "                         ID                                Name  Likes  \\\n",
      "0  4edad2470e011b46eef9af05  Ruddy & Dean North Shore Steak Co.      5   \n",
      "\n",
      "   Rating  Tips  \n",
      "0     6.5     2  \n",
      "( 41 / 52 ) processed\n",
      "                         ID                       Name  Likes  Rating  Tips\n",
      "0  4bb7cd827421a593c715c140  West Shore Inn Steakhouse     27     7.9    19\n",
      "( 42 / 52 ) processed\n",
      "                         ID                                Name  Likes  \\\n",
      "0  4edad2470e011b46eef9af05  Ruddy & Dean North Shore Steak Co.      5   \n",
      "\n",
      "   Rating  Tips  \n",
      "0     6.5     2  \n",
      "( 43 / 52 ) processed\n",
      "                         ID             Name  Likes  Rating  Tips\n",
      "0  4b637d14f964a520c37d2ae3  South Fin Grill     30     6.6    17\n",
      "( 44 / 52 ) processed\n",
      "                         ID                       Name  Likes  Rating  Tips\n",
      "0  4bb7cd827421a593c715c140  West Shore Inn Steakhouse     27     7.9    19\n",
      "( 45 / 52 ) processed\n",
      "                         ID              Name  Likes  Rating  Tips\n",
      "0  3fd66200f964a52042e31ee3  Keens Steakhouse   1345     8.8   469\n",
      "( 46 / 52 ) processed\n",
      "                         ID       Name  Likes  Rating  Tips\n",
      "0  4c0fd7a6f1b6a593b1ee7a27  NYY STEAK     41     8.0    12\n",
      "( 47 / 52 ) processed\n",
      "                         ID               Name  Likes  Rating  Tips\n",
      "0  4ad122f0f964a520f8dc20e3  Club A Steakhouse    160     8.5    80\n",
      "( 48 / 52 ) processed\n",
      "                         ID       Name  Likes  Rating  Tips\n",
      "0  45814450f964a520613f1fe3  BLT Steak    239     8.6    97\n",
      "( 49 / 52 ) processed\n",
      "                         ID               Name  Likes  Rating  Tips\n",
      "0  3fd66200f964a52041eb1ee3  Smith & Wollensky    686     8.3   230\n",
      "( 50 / 52 ) processed\n"
     ]
    },
    {
     "ename": "KeyError",
     "evalue": "'venue'",
     "output_type": "error",
     "traceback": [
      "\u001b[0;31m---------------------------------------------------------------------------\u001b[0m",
      "\u001b[0;31mKeyError\u001b[0m                                  Traceback (most recent call last)",
      "\u001b[0;32m<ipython-input-79-e2a6b30e9523>\u001b[0m in \u001b[0;36m<module>\u001b[0;34m\u001b[0m\n\u001b[1;32m      8\u001b[0m     \u001b[0mBorough\u001b[0m\u001b[0;34m,\u001b[0m\u001b[0mNeighborhood\u001b[0m\u001b[0;34m,\u001b[0m\u001b[0mID\u001b[0m\u001b[0;34m,\u001b[0m\u001b[0mName\u001b[0m\u001b[0;34m=\u001b[0m\u001b[0mrow\u001b[0m\u001b[0;34m\u001b[0m\u001b[0;34m\u001b[0m\u001b[0m\n\u001b[1;32m      9\u001b[0m     \u001b[0;32mtry\u001b[0m\u001b[0;34m:\u001b[0m\u001b[0;34m\u001b[0m\u001b[0;34m\u001b[0m\u001b[0m\n\u001b[0;32m---> 10\u001b[0;31m         \u001b[0mvenue_details\u001b[0m\u001b[0;34m=\u001b[0m\u001b[0mget_venue_details\u001b[0m\u001b[0;34m(\u001b[0m\u001b[0mID\u001b[0m\u001b[0;34m)\u001b[0m\u001b[0;34m\u001b[0m\u001b[0;34m\u001b[0m\u001b[0m\n\u001b[0m\u001b[1;32m     11\u001b[0m         \u001b[0mprint\u001b[0m\u001b[0;34m(\u001b[0m\u001b[0mvenue_details\u001b[0m\u001b[0;34m)\u001b[0m\u001b[0;34m\u001b[0m\u001b[0;34m\u001b[0m\u001b[0m\n\u001b[1;32m     12\u001b[0m         \u001b[0mid\u001b[0m\u001b[0;34m,\u001b[0m\u001b[0mname\u001b[0m\u001b[0;34m,\u001b[0m\u001b[0mlikes\u001b[0m\u001b[0;34m,\u001b[0m\u001b[0mrating\u001b[0m\u001b[0;34m,\u001b[0m\u001b[0mtips\u001b[0m\u001b[0;34m=\u001b[0m\u001b[0mvenue_details\u001b[0m\u001b[0;34m.\u001b[0m\u001b[0mvalues\u001b[0m\u001b[0;34m.\u001b[0m\u001b[0mtolist\u001b[0m\u001b[0;34m(\u001b[0m\u001b[0;34m)\u001b[0m\u001b[0;34m[\u001b[0m\u001b[0;36m0\u001b[0m\u001b[0;34m]\u001b[0m\u001b[0;34m\u001b[0m\u001b[0;34m\u001b[0m\u001b[0m\n",
      "\u001b[0;32m<ipython-input-63-b2a5df22e603>\u001b[0m in \u001b[0;36mget_venue_details\u001b[0;34m(venue_id)\u001b[0m\n\u001b[1;32m     10\u001b[0m     \u001b[0;31m# get all the data\u001b[0m\u001b[0;34m\u001b[0m\u001b[0;34m\u001b[0m\u001b[0;34m\u001b[0m\u001b[0m\n\u001b[1;32m     11\u001b[0m     \u001b[0mresults\u001b[0m \u001b[0;34m=\u001b[0m \u001b[0mrequests\u001b[0m\u001b[0;34m.\u001b[0m\u001b[0mget\u001b[0m\u001b[0;34m(\u001b[0m\u001b[0murl\u001b[0m\u001b[0;34m)\u001b[0m\u001b[0;34m.\u001b[0m\u001b[0mjson\u001b[0m\u001b[0;34m(\u001b[0m\u001b[0;34m)\u001b[0m\u001b[0;34m\u001b[0m\u001b[0;34m\u001b[0m\u001b[0m\n\u001b[0;32m---> 12\u001b[0;31m     \u001b[0mvenue_data\u001b[0m\u001b[0;34m=\u001b[0m\u001b[0mresults\u001b[0m\u001b[0;34m[\u001b[0m\u001b[0;34m'response'\u001b[0m\u001b[0;34m]\u001b[0m\u001b[0;34m[\u001b[0m\u001b[0;34m'venue'\u001b[0m\u001b[0;34m]\u001b[0m\u001b[0;34m\u001b[0m\u001b[0;34m\u001b[0m\u001b[0m\n\u001b[0m\u001b[1;32m     13\u001b[0m     \u001b[0mvenue_details\u001b[0m\u001b[0;34m=\u001b[0m\u001b[0;34m[\u001b[0m\u001b[0;34m]\u001b[0m\u001b[0;34m\u001b[0m\u001b[0;34m\u001b[0m\u001b[0m\n\u001b[1;32m     14\u001b[0m     \u001b[0;32mtry\u001b[0m\u001b[0;34m:\u001b[0m\u001b[0;34m\u001b[0m\u001b[0;34m\u001b[0m\u001b[0m\n",
      "\u001b[0;31mKeyError\u001b[0m: 'venue'"
     ]
    }
   ],
   "source": [
    "# prepare neighborhood list that contains steakhouse\n",
    "column_names=['Borough', 'Neighborhood', 'ID','Name','Likes','Rating','Tips']\n",
    "steak_rest_stats_ny=pd.DataFrame(columns=column_names)\n",
    "count=1\n",
    "\n",
    "\n",
    "for row in steak_rest_ny.values.tolist():\n",
    "    Borough,Neighborhood,ID,Name=row\n",
    "    try:\n",
    "        venue_details=get_venue_details(ID)\n",
    "        print(venue_details)\n",
    "        id,name,likes,rating,tips=venue_details.values.tolist()[0]\n",
    "    except IndexError:\n",
    "        print('No data available for id=',ID)\n",
    "        # we will assign 0 value for these resturants as they may have been \n",
    "        #recently opened or details does not exist in FourSquare Database\n",
    "        id,name,likes,rating,tips=[0]*5\n",
    "    print('(',count,'/',len(steak_rest_ny),')','processed')\n",
    "    steak_rest_stats_ny = steak_rest_stats_ny.append({'Borough': Borough,\n",
    "                                                'Neighborhood': Neighborhood, \n",
    "                                                'ID': id,\n",
    "                                                'Name' : name,\n",
    "                                                'Likes' : likes,\n",
    "                                                'Rating' : rating,\n",
    "                                                'Tips' : tips\n",
    "                                               }, ignore_index=True)\n",
    "    count+=1"
   ]
  },
  {
   "cell_type": "code",
   "execution_count": 80,
   "metadata": {},
   "outputs": [
    {
     "data": {
      "text/html": [
       "<div>\n",
       "<style scoped>\n",
       "    .dataframe tbody tr th:only-of-type {\n",
       "        vertical-align: middle;\n",
       "    }\n",
       "\n",
       "    .dataframe tbody tr th {\n",
       "        vertical-align: top;\n",
       "    }\n",
       "\n",
       "    .dataframe thead th {\n",
       "        text-align: right;\n",
       "    }\n",
       "</style>\n",
       "<table border=\"1\" class=\"dataframe\">\n",
       "  <thead>\n",
       "    <tr style=\"text-align: right;\">\n",
       "      <th></th>\n",
       "      <th>Borough</th>\n",
       "      <th>Neighborhood</th>\n",
       "      <th>ID</th>\n",
       "      <th>Name</th>\n",
       "      <th>Likes</th>\n",
       "      <th>Rating</th>\n",
       "      <th>Tips</th>\n",
       "    </tr>\n",
       "  </thead>\n",
       "  <tbody>\n",
       "    <tr>\n",
       "      <th>0</th>\n",
       "      <td>Bronx</td>\n",
       "      <td>Fieldston</td>\n",
       "      <td>46e6f285f964a520c94a1fe3</td>\n",
       "      <td>Jake’s Steakhouse</td>\n",
       "      <td>64</td>\n",
       "      <td>7.9</td>\n",
       "      <td>29</td>\n",
       "    </tr>\n",
       "    <tr>\n",
       "      <th>1</th>\n",
       "      <td>Bronx</td>\n",
       "      <td>Kingsbridge</td>\n",
       "      <td>4dfe40df8877333e195b68fc</td>\n",
       "      <td>Parrilla Latina</td>\n",
       "      <td>8</td>\n",
       "      <td>6.8</td>\n",
       "      <td>6</td>\n",
       "    </tr>\n",
       "    <tr>\n",
       "      <th>2</th>\n",
       "      <td>Manhattan</td>\n",
       "      <td>Marble Hill</td>\n",
       "      <td>4dfe40df8877333e195b68fc</td>\n",
       "      <td>Parrilla Latina</td>\n",
       "      <td>8</td>\n",
       "      <td>6.8</td>\n",
       "      <td>6</td>\n",
       "    </tr>\n",
       "    <tr>\n",
       "      <th>3</th>\n",
       "      <td>Bronx</td>\n",
       "      <td>Baychester</td>\n",
       "      <td>560afe74498ec5e1b97a21a1</td>\n",
       "      <td>Outback Steakhouse</td>\n",
       "      <td>19</td>\n",
       "      <td>7.0</td>\n",
       "      <td>1</td>\n",
       "    </tr>\n",
       "    <tr>\n",
       "      <th>4</th>\n",
       "      <td>Bronx</td>\n",
       "      <td>High  Bridge</td>\n",
       "      <td>4c0fd7a6f1b6a593b1ee7a27</td>\n",
       "      <td>NYY STEAK</td>\n",
       "      <td>41</td>\n",
       "      <td>8.0</td>\n",
       "      <td>12</td>\n",
       "    </tr>\n",
       "  </tbody>\n",
       "</table>\n",
       "</div>"
      ],
      "text/plain": [
       "     Borough  Neighborhood                        ID                Name  \\\n",
       "0      Bronx     Fieldston  46e6f285f964a520c94a1fe3   Jake’s Steakhouse   \n",
       "1      Bronx   Kingsbridge  4dfe40df8877333e195b68fc     Parrilla Latina   \n",
       "2  Manhattan   Marble Hill  4dfe40df8877333e195b68fc     Parrilla Latina   \n",
       "3      Bronx    Baychester  560afe74498ec5e1b97a21a1  Outback Steakhouse   \n",
       "4      Bronx  High  Bridge  4c0fd7a6f1b6a593b1ee7a27           NYY STEAK   \n",
       "\n",
       "  Likes  Rating Tips  \n",
       "0    64     7.9   29  \n",
       "1     8     6.8    6  \n",
       "2     8     6.8    6  \n",
       "3    19     7.0    1  \n",
       "4    41     8.0   12  "
      ]
     },
     "execution_count": 80,
     "metadata": {},
     "output_type": "execute_result"
    }
   ],
   "source": [
    "steak_rest_stats_ny.head()"
   ]
  },
  {
   "cell_type": "code",
   "execution_count": 81,
   "metadata": {},
   "outputs": [],
   "source": [
    "steak_rest_stats_ny.to_csv('steak_rest_stats_ny.csv', index=False)"
   ]
  },
  {
   "cell_type": "code",
   "execution_count": 82,
   "metadata": {},
   "outputs": [],
   "source": [
    "steak_rest_stats_ny_csv=pd.read_csv('steak_rest_stats_ny.csv')"
   ]
  },
  {
   "cell_type": "code",
   "execution_count": 83,
   "metadata": {},
   "outputs": [
    {
     "data": {
      "text/html": [
       "<div>\n",
       "<style scoped>\n",
       "    .dataframe tbody tr th:only-of-type {\n",
       "        vertical-align: middle;\n",
       "    }\n",
       "\n",
       "    .dataframe tbody tr th {\n",
       "        vertical-align: top;\n",
       "    }\n",
       "\n",
       "    .dataframe thead th {\n",
       "        text-align: right;\n",
       "    }\n",
       "</style>\n",
       "<table border=\"1\" class=\"dataframe\">\n",
       "  <thead>\n",
       "    <tr style=\"text-align: right;\">\n",
       "      <th></th>\n",
       "      <th>Borough</th>\n",
       "      <th>Neighborhood</th>\n",
       "      <th>ID</th>\n",
       "      <th>Name</th>\n",
       "      <th>Likes</th>\n",
       "      <th>Rating</th>\n",
       "      <th>Tips</th>\n",
       "    </tr>\n",
       "  </thead>\n",
       "  <tbody>\n",
       "    <tr>\n",
       "      <th>0</th>\n",
       "      <td>Bronx</td>\n",
       "      <td>Fieldston</td>\n",
       "      <td>46e6f285f964a520c94a1fe3</td>\n",
       "      <td>Jake’s Steakhouse</td>\n",
       "      <td>64</td>\n",
       "      <td>7.9</td>\n",
       "      <td>29</td>\n",
       "    </tr>\n",
       "    <tr>\n",
       "      <th>1</th>\n",
       "      <td>Bronx</td>\n",
       "      <td>Kingsbridge</td>\n",
       "      <td>4dfe40df8877333e195b68fc</td>\n",
       "      <td>Parrilla Latina</td>\n",
       "      <td>8</td>\n",
       "      <td>6.8</td>\n",
       "      <td>6</td>\n",
       "    </tr>\n",
       "    <tr>\n",
       "      <th>2</th>\n",
       "      <td>Manhattan</td>\n",
       "      <td>Marble Hill</td>\n",
       "      <td>4dfe40df8877333e195b68fc</td>\n",
       "      <td>Parrilla Latina</td>\n",
       "      <td>8</td>\n",
       "      <td>6.8</td>\n",
       "      <td>6</td>\n",
       "    </tr>\n",
       "    <tr>\n",
       "      <th>3</th>\n",
       "      <td>Bronx</td>\n",
       "      <td>Baychester</td>\n",
       "      <td>560afe74498ec5e1b97a21a1</td>\n",
       "      <td>Outback Steakhouse</td>\n",
       "      <td>19</td>\n",
       "      <td>7.0</td>\n",
       "      <td>1</td>\n",
       "    </tr>\n",
       "    <tr>\n",
       "      <th>4</th>\n",
       "      <td>Bronx</td>\n",
       "      <td>High  Bridge</td>\n",
       "      <td>4c0fd7a6f1b6a593b1ee7a27</td>\n",
       "      <td>NYY STEAK</td>\n",
       "      <td>41</td>\n",
       "      <td>8.0</td>\n",
       "      <td>12</td>\n",
       "    </tr>\n",
       "  </tbody>\n",
       "</table>\n",
       "</div>"
      ],
      "text/plain": [
       "     Borough  Neighborhood                        ID                Name  \\\n",
       "0      Bronx     Fieldston  46e6f285f964a520c94a1fe3   Jake’s Steakhouse   \n",
       "1      Bronx   Kingsbridge  4dfe40df8877333e195b68fc     Parrilla Latina   \n",
       "2  Manhattan   Marble Hill  4dfe40df8877333e195b68fc     Parrilla Latina   \n",
       "3      Bronx    Baychester  560afe74498ec5e1b97a21a1  Outback Steakhouse   \n",
       "4      Bronx  High  Bridge  4c0fd7a6f1b6a593b1ee7a27           NYY STEAK   \n",
       "\n",
       "   Likes  Rating  Tips  \n",
       "0     64     7.9    29  \n",
       "1      8     6.8     6  \n",
       "2      8     6.8     6  \n",
       "3     19     7.0     1  \n",
       "4     41     8.0    12  "
      ]
     },
     "execution_count": 83,
     "metadata": {},
     "output_type": "execute_result"
    }
   ],
   "source": [
    "steak_rest_stats_ny_csv.head()"
   ]
  },
  {
   "cell_type": "code",
   "execution_count": 84,
   "metadata": {},
   "outputs": [
    {
     "data": {
      "text/plain": [
       "(50, 7)"
      ]
     },
     "execution_count": 84,
     "metadata": {},
     "output_type": "execute_result"
    }
   ],
   "source": [
    "steak_rest_stats_ny.shape"
   ]
  },
  {
   "cell_type": "code",
   "execution_count": 85,
   "metadata": {},
   "outputs": [
    {
     "name": "stdout",
     "output_type": "stream",
     "text": [
      "<class 'pandas.core.frame.DataFrame'>\n",
      "RangeIndex: 50 entries, 0 to 49\n",
      "Data columns (total 7 columns):\n",
      " #   Column        Non-Null Count  Dtype  \n",
      "---  ------        --------------  -----  \n",
      " 0   Borough       50 non-null     object \n",
      " 1   Neighborhood  50 non-null     object \n",
      " 2   ID            50 non-null     object \n",
      " 3   Name          50 non-null     object \n",
      " 4   Likes         50 non-null     object \n",
      " 5   Rating        50 non-null     float64\n",
      " 6   Tips          50 non-null     object \n",
      "dtypes: float64(1), object(6)\n",
      "memory usage: 2.9+ KB\n"
     ]
    }
   ],
   "source": [
    "steak_rest_stats_ny.info()"
   ]
  },
  {
   "cell_type": "code",
   "execution_count": 86,
   "metadata": {},
   "outputs": [
    {
     "name": "stdout",
     "output_type": "stream",
     "text": [
      "<class 'pandas.core.frame.DataFrame'>\n",
      "RangeIndex: 50 entries, 0 to 49\n",
      "Data columns (total 7 columns):\n",
      " #   Column        Non-Null Count  Dtype  \n",
      "---  ------        --------------  -----  \n",
      " 0   Borough       50 non-null     object \n",
      " 1   Neighborhood  50 non-null     object \n",
      " 2   ID            50 non-null     object \n",
      " 3   Name          50 non-null     object \n",
      " 4   Likes         50 non-null     float64\n",
      " 5   Rating        50 non-null     float64\n",
      " 6   Tips          50 non-null     float64\n",
      "dtypes: float64(3), object(4)\n",
      "memory usage: 2.9+ KB\n"
     ]
    }
   ],
   "source": [
    "convert_types = {'Likes': float,'Rating': float,'Tips': float}\n",
    "steak_rest_stats_ny = steak_rest_stats_ny.astype(convert_types)\n",
    "steak_rest_stats_ny.info()"
   ]
  },
  {
   "cell_type": "code",
   "execution_count": 87,
   "metadata": {},
   "outputs": [
    {
     "data": {
      "text/plain": [
       "Borough                         Brooklyn\n",
       "Neighborhood                Williamsburg\n",
       "ID              3fd66200f964a5209beb1ee3\n",
       "Name             Peter Luger Steak House\n",
       "Likes                               1955\n",
       "Rating                               8.7\n",
       "Tips                                 676\n",
       "Name: 10, dtype: object"
      ]
     },
     "execution_count": 87,
     "metadata": {},
     "output_type": "execute_result"
    }
   ],
   "source": [
    "steak_rest_stats_ny.iloc[steak_rest_stats_ny['Likes'].idxmax()]"
   ]
  },
  {
   "cell_type": "code",
   "execution_count": 88,
   "metadata": {},
   "outputs": [
    {
     "data": {
      "text/plain": [
       "Borough                        Manhattan\n",
       "Neighborhood                West Village\n",
       "ID              585164b77220e62219c9aeb6\n",
       "Name                 4 Charles Prime Rib\n",
       "Likes                                217\n",
       "Rating                               9.4\n",
       "Tips                                  57\n",
       "Name: 27, dtype: object"
      ]
     },
     "execution_count": 88,
     "metadata": {},
     "output_type": "execute_result"
    }
   ],
   "source": [
    "steak_rest_stats_ny.iloc[steak_rest_stats_ny['Rating'].idxmax()]"
   ]
  },
  {
   "cell_type": "code",
   "execution_count": 89,
   "metadata": {},
   "outputs": [
    {
     "data": {
      "text/plain": [
       "Borough                         Brooklyn\n",
       "Neighborhood                Williamsburg\n",
       "ID              3fd66200f964a5209beb1ee3\n",
       "Name             Peter Luger Steak House\n",
       "Likes                               1955\n",
       "Rating                               8.7\n",
       "Tips                                 676\n",
       "Name: 10, dtype: object"
      ]
     },
     "execution_count": 89,
     "metadata": {},
     "output_type": "execute_result"
    }
   ],
   "source": [
    "steak_rest_stats_ny.iloc[steak_rest_stats_ny['Tips'].idxmax()]"
   ]
  },
  {
   "cell_type": "code",
   "execution_count": 90,
   "metadata": {},
   "outputs": [],
   "source": [
    "ny_borough_stats=steak_rest_stats_ny.groupby('Borough',as_index=False).mean()[['Borough','Rating']]\n",
    "ny_borough_stats.columns=['Borough','Average Rating']"
   ]
  },
  {
   "cell_type": "code",
   "execution_count": 91,
   "metadata": {},
   "outputs": [
    {
     "data": {
      "text/html": [
       "<div>\n",
       "<style scoped>\n",
       "    .dataframe tbody tr th:only-of-type {\n",
       "        vertical-align: middle;\n",
       "    }\n",
       "\n",
       "    .dataframe tbody tr th {\n",
       "        vertical-align: top;\n",
       "    }\n",
       "\n",
       "    .dataframe thead th {\n",
       "        text-align: right;\n",
       "    }\n",
       "</style>\n",
       "<table border=\"1\" class=\"dataframe\">\n",
       "  <thead>\n",
       "    <tr style=\"text-align: right;\">\n",
       "      <th></th>\n",
       "      <th>Borough</th>\n",
       "      <th>Average Rating</th>\n",
       "    </tr>\n",
       "  </thead>\n",
       "  <tbody>\n",
       "    <tr>\n",
       "      <th>2</th>\n",
       "      <td>Manhattan</td>\n",
       "      <td>8.444444</td>\n",
       "    </tr>\n",
       "    <tr>\n",
       "      <th>1</th>\n",
       "      <td>Brooklyn</td>\n",
       "      <td>7.781818</td>\n",
       "    </tr>\n",
       "    <tr>\n",
       "      <th>4</th>\n",
       "      <td>Staten Island</td>\n",
       "      <td>6.983333</td>\n",
       "    </tr>\n",
       "    <tr>\n",
       "      <th>0</th>\n",
       "      <td>Bronx</td>\n",
       "      <td>6.537500</td>\n",
       "    </tr>\n",
       "    <tr>\n",
       "      <th>3</th>\n",
       "      <td>Queens</td>\n",
       "      <td>6.528571</td>\n",
       "    </tr>\n",
       "  </tbody>\n",
       "</table>\n",
       "</div>"
      ],
      "text/plain": [
       "         Borough  Average Rating\n",
       "2      Manhattan        8.444444\n",
       "1       Brooklyn        7.781818\n",
       "4  Staten Island        6.983333\n",
       "0          Bronx        6.537500\n",
       "3         Queens        6.528571"
      ]
     },
     "execution_count": 91,
     "metadata": {},
     "output_type": "execute_result"
    }
   ],
   "source": [
    "ny_borough_stats.sort_values(['Average Rating'],ascending=False).head()"
   ]
  },
  {
   "cell_type": "code",
   "execution_count": 92,
   "metadata": {},
   "outputs": [
    {
     "data": {
      "image/png": "[encoded data removed]",
      "text/plain": [
       "<Figure size 540x450 with 1 Axes>"
      ]
     },
     "metadata": {
      "needs_background": "light"
     },
     "output_type": "display_data"
    }
   ],
   "source": [
    "plt.figure(figsize=(6,5), dpi = 90)\n",
    "# title\n",
    "plt.title('Average rating of Steakhouses for each Borough')\n",
    "#On x-axis\n",
    "plt.ylabel('Borough', fontsize = 12)\n",
    "#On y-axis\n",
    "plt.xlabel('Average Rating', fontsize=12)\n",
    "#giving a bar plot\n",
    "steak_rest_stats_ny.groupby('Borough').mean()['Rating'].plot(kind='barh', color='#FF6A6A')\n",
    "#legend\n",
    "plt.legend()\n",
    "#displays the plot\n",
    "plt.gca().invert_yaxis()\n",
    "plt.show()"
   ]
  },
  {
   "cell_type": "markdown",
   "metadata": {},
   "source": [
    "##### List of neighborhood with average rating of Steakhouses greater than or equal to 8.5"
   ]
  },
  {
   "cell_type": "code",
   "execution_count": 93,
   "metadata": {},
   "outputs": [],
   "source": [
    "ny_neighborhood_stats=steak_rest_stats_ny.groupby('Neighborhood',as_index=False).mean()[['Neighborhood','Rating']]\n",
    "ny_neighborhood_stats.columns=['Neighborhood','Average Rating']"
   ]
  },
  {
   "cell_type": "code",
   "execution_count": 94,
   "metadata": {},
   "outputs": [],
   "source": [
    "ny_neighborhood_stats=ny_neighborhood_stats[ny_neighborhood_stats['Average Rating']>=8.5]"
   ]
  },
  {
   "cell_type": "code",
   "execution_count": 95,
   "metadata": {},
   "outputs": [
    {
     "data": {
      "text/html": [
       "<div>\n",
       "<style scoped>\n",
       "    .dataframe tbody tr th:only-of-type {\n",
       "        vertical-align: middle;\n",
       "    }\n",
       "\n",
       "    .dataframe tbody tr th {\n",
       "        vertical-align: top;\n",
       "    }\n",
       "\n",
       "    .dataframe thead th {\n",
       "        text-align: right;\n",
       "    }\n",
       "</style>\n",
       "<table border=\"1\" class=\"dataframe\">\n",
       "  <thead>\n",
       "    <tr style=\"text-align: right;\">\n",
       "      <th></th>\n",
       "      <th>Neighborhood</th>\n",
       "      <th>Average Rating</th>\n",
       "    </tr>\n",
       "  </thead>\n",
       "  <tbody>\n",
       "    <tr>\n",
       "      <th>5</th>\n",
       "      <td>Bayside</td>\n",
       "      <td>8.500000</td>\n",
       "    </tr>\n",
       "    <tr>\n",
       "      <th>22</th>\n",
       "      <td>Midtown</td>\n",
       "      <td>8.733333</td>\n",
       "    </tr>\n",
       "    <tr>\n",
       "      <th>23</th>\n",
       "      <td>Midtown South</td>\n",
       "      <td>8.800000</td>\n",
       "    </tr>\n",
       "    <tr>\n",
       "      <th>25</th>\n",
       "      <td>Murray Hill</td>\n",
       "      <td>8.500000</td>\n",
       "    </tr>\n",
       "    <tr>\n",
       "      <th>29</th>\n",
       "      <td>Rockaway Park</td>\n",
       "      <td>8.700000</td>\n",
       "    </tr>\n",
       "    <tr>\n",
       "      <th>31</th>\n",
       "      <td>South Side</td>\n",
       "      <td>8.700000</td>\n",
       "    </tr>\n",
       "    <tr>\n",
       "      <th>35</th>\n",
       "      <td>Sutton Place</td>\n",
       "      <td>8.550000</td>\n",
       "    </tr>\n",
       "    <tr>\n",
       "      <th>38</th>\n",
       "      <td>Tribeca</td>\n",
       "      <td>8.550000</td>\n",
       "    </tr>\n",
       "    <tr>\n",
       "      <th>40</th>\n",
       "      <td>West Village</td>\n",
       "      <td>9.100000</td>\n",
       "    </tr>\n",
       "    <tr>\n",
       "      <th>41</th>\n",
       "      <td>Williamsburg</td>\n",
       "      <td>8.700000</td>\n",
       "    </tr>\n",
       "  </tbody>\n",
       "</table>\n",
       "</div>"
      ],
      "text/plain": [
       "     Neighborhood  Average Rating\n",
       "5         Bayside        8.500000\n",
       "22        Midtown        8.733333\n",
       "23  Midtown South        8.800000\n",
       "25    Murray Hill        8.500000\n",
       "29  Rockaway Park        8.700000\n",
       "31     South Side        8.700000\n",
       "35   Sutton Place        8.550000\n",
       "38        Tribeca        8.550000\n",
       "40   West Village        9.100000\n",
       "41   Williamsburg        8.700000"
      ]
     },
     "execution_count": 95,
     "metadata": {},
     "output_type": "execute_result"
    }
   ],
   "source": [
    "ny_neighborhood_stats"
   ]
  },
  {
   "cell_type": "code",
   "execution_count": 96,
   "metadata": {},
   "outputs": [],
   "source": [
    "ny_neighborhood_stats=pd.merge(ny_neighborhood_stats,df_ny, on='Neighborhood')"
   ]
  },
  {
   "cell_type": "code",
   "execution_count": 97,
   "metadata": {},
   "outputs": [],
   "source": [
    "ny_neighborhood_stats=ny_neighborhood_stats[['Borough','Neighborhood','Latitude','Longitude','Average Rating']]"
   ]
  },
  {
   "cell_type": "code",
   "execution_count": 98,
   "metadata": {},
   "outputs": [
    {
     "data": {
      "text/html": [
       "<div>\n",
       "<style scoped>\n",
       "    .dataframe tbody tr th:only-of-type {\n",
       "        vertical-align: middle;\n",
       "    }\n",
       "\n",
       "    .dataframe tbody tr th {\n",
       "        vertical-align: top;\n",
       "    }\n",
       "\n",
       "    .dataframe thead th {\n",
       "        text-align: right;\n",
       "    }\n",
       "</style>\n",
       "<table border=\"1\" class=\"dataframe\">\n",
       "  <thead>\n",
       "    <tr style=\"text-align: right;\">\n",
       "      <th></th>\n",
       "      <th>Borough</th>\n",
       "      <th>Neighborhood</th>\n",
       "      <th>Latitude</th>\n",
       "      <th>Longitude</th>\n",
       "      <th>Average Rating</th>\n",
       "    </tr>\n",
       "  </thead>\n",
       "  <tbody>\n",
       "    <tr>\n",
       "      <th>0</th>\n",
       "      <td>Queens</td>\n",
       "      <td>Bayside</td>\n",
       "      <td>40.766041</td>\n",
       "      <td>-73.774274</td>\n",
       "      <td>8.500000</td>\n",
       "    </tr>\n",
       "    <tr>\n",
       "      <th>1</th>\n",
       "      <td>Manhattan</td>\n",
       "      <td>Midtown</td>\n",
       "      <td>40.754691</td>\n",
       "      <td>-73.981669</td>\n",
       "      <td>8.733333</td>\n",
       "    </tr>\n",
       "    <tr>\n",
       "      <th>2</th>\n",
       "      <td>Manhattan</td>\n",
       "      <td>Midtown South</td>\n",
       "      <td>40.748510</td>\n",
       "      <td>-73.988713</td>\n",
       "      <td>8.800000</td>\n",
       "    </tr>\n",
       "    <tr>\n",
       "      <th>3</th>\n",
       "      <td>Manhattan</td>\n",
       "      <td>Murray Hill</td>\n",
       "      <td>40.748303</td>\n",
       "      <td>-73.978332</td>\n",
       "      <td>8.500000</td>\n",
       "    </tr>\n",
       "    <tr>\n",
       "      <th>4</th>\n",
       "      <td>Queens</td>\n",
       "      <td>Murray Hill</td>\n",
       "      <td>40.764126</td>\n",
       "      <td>-73.812763</td>\n",
       "      <td>8.500000</td>\n",
       "    </tr>\n",
       "    <tr>\n",
       "      <th>5</th>\n",
       "      <td>Queens</td>\n",
       "      <td>Rockaway Park</td>\n",
       "      <td>40.580343</td>\n",
       "      <td>-73.841534</td>\n",
       "      <td>8.700000</td>\n",
       "    </tr>\n",
       "    <tr>\n",
       "      <th>6</th>\n",
       "      <td>Brooklyn</td>\n",
       "      <td>South Side</td>\n",
       "      <td>40.710861</td>\n",
       "      <td>-73.958001</td>\n",
       "      <td>8.700000</td>\n",
       "    </tr>\n",
       "    <tr>\n",
       "      <th>7</th>\n",
       "      <td>Manhattan</td>\n",
       "      <td>Sutton Place</td>\n",
       "      <td>40.760280</td>\n",
       "      <td>-73.963556</td>\n",
       "      <td>8.550000</td>\n",
       "    </tr>\n",
       "    <tr>\n",
       "      <th>8</th>\n",
       "      <td>Manhattan</td>\n",
       "      <td>Tribeca</td>\n",
       "      <td>40.721522</td>\n",
       "      <td>-74.010683</td>\n",
       "      <td>8.550000</td>\n",
       "    </tr>\n",
       "    <tr>\n",
       "      <th>9</th>\n",
       "      <td>Manhattan</td>\n",
       "      <td>West Village</td>\n",
       "      <td>40.734434</td>\n",
       "      <td>-74.006180</td>\n",
       "      <td>9.100000</td>\n",
       "    </tr>\n",
       "    <tr>\n",
       "      <th>10</th>\n",
       "      <td>Brooklyn</td>\n",
       "      <td>Williamsburg</td>\n",
       "      <td>40.707144</td>\n",
       "      <td>-73.958115</td>\n",
       "      <td>8.700000</td>\n",
       "    </tr>\n",
       "  </tbody>\n",
       "</table>\n",
       "</div>"
      ],
      "text/plain": [
       "      Borough   Neighborhood   Latitude  Longitude  Average Rating\n",
       "0      Queens        Bayside  40.766041 -73.774274        8.500000\n",
       "1   Manhattan        Midtown  40.754691 -73.981669        8.733333\n",
       "2   Manhattan  Midtown South  40.748510 -73.988713        8.800000\n",
       "3   Manhattan    Murray Hill  40.748303 -73.978332        8.500000\n",
       "4      Queens    Murray Hill  40.764126 -73.812763        8.500000\n",
       "5      Queens  Rockaway Park  40.580343 -73.841534        8.700000\n",
       "6    Brooklyn     South Side  40.710861 -73.958001        8.700000\n",
       "7   Manhattan   Sutton Place  40.760280 -73.963556        8.550000\n",
       "8   Manhattan        Tribeca  40.721522 -74.010683        8.550000\n",
       "9   Manhattan   West Village  40.734434 -74.006180        9.100000\n",
       "10   Brooklyn   Williamsburg  40.707144 -73.958115        8.700000"
      ]
     },
     "execution_count": 98,
     "metadata": {},
     "output_type": "execute_result"
    }
   ],
   "source": [
    "ny_neighborhood_stats"
   ]
  },
  {
   "cell_type": "code",
   "execution_count": 99,
   "metadata": {},
   "outputs": [],
   "source": [
    "# create map and display it\n",
    "ny_map = folium.Map(location=geo_location('New York'), zoom_start=12)"
   ]
  },
  {
   "cell_type": "code",
   "execution_count": 100,
   "metadata": {},
   "outputs": [],
   "source": [
    "incidents = folium.map.FeatureGroup()\n",
    "\n",
    "for lat, lng, in ny_neighborhood_stats[['Latitude','Longitude']].values:\n",
    "    incidents.add_child(\n",
    "        folium.CircleMarker(\n",
    "            [lat, lng],\n",
    "            radius=10, # define how big you want the circle markers to be\n",
    "            color='#EA1253',\n",
    "            fill=True,\n",
    "            fill_color='#12EA92',\n",
    "            fill_opacity=0.4\n",
    "        )\n",
    "    )"
   ]
  },
  {
   "cell_type": "code",
   "execution_count": 101,
   "metadata": {},
   "outputs": [],
   "source": [
    "ny_neighborhood_stats['Label']=ny_neighborhood_stats['Neighborhood']+', '+ny_neighborhood_stats['Borough']+'('+ny_neighborhood_stats['Average Rating'].map(str)+')'"
   ]
  },
  {
   "cell_type": "code",
   "execution_count": 102,
   "metadata": {},
   "outputs": [
    {
     "data": {
      "text/html": [
       "<div style=\"width:100%;\"><div style=\"position:relative;width:100%;height:0;padding-bottom:60%;\"><span style=\"color:#565656\">Make this Notebook Trusted to load map: File -> Trust Notebook</span><iframe src=\"about:blank\" style=\"position:absolute;width:100%;height:100%;left:0;top:0;border:none !important;\" data-html=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 onload=\"this.contentDocument.open();this.contentDocument.write(atob(this.getAttribute('data-html')));this.contentDocument.close();\" allowfullscreen webkitallowfullscreen mozallowfullscreen></iframe></div></div>"
      ],
      "text/plain": [
       "<folium.folium.Map at 0x7fa24ab16f28>"
      ]
     },
     "execution_count": 102,
     "metadata": {},
     "output_type": "execute_result"
    }
   ],
   "source": [
    "# add pop-up text to each marker on the map\n",
    "for lat, lng, label in ny_neighborhood_stats[['Latitude','Longitude','Label']].values:\n",
    "    folium.Marker([lat, lng], popup=label).add_to(ny_map)        \n",
    "# add incidents to map\n",
    "ny_map.add_child(incidents)"
   ]
  },
  {
   "cell_type": "markdown",
   "metadata": {},
   "source": [
    "**CONCLUSION**\n",
    "\n",
    "Manhattan has the most number of Steakhouses in New York City per borough. They also have the highest average rating of Steakhouses. There are six neighborhoods in Manhattan with >=8.5 average rating of Steakhouses.\n",
    "The Steakhouse with the highest rating is 4 Charles Prime Rib located at the Manhattan borough. Interestingly, the Steakhouse with the most number of likes and tips is Peter Luger Steakhouse located in Brooklyn."
   ]
  },
  {
   "cell_type": "code",
   "execution_count": null,
   "metadata": {},
   "outputs": [],
   "source": []
  }
 ],
 "metadata": {
  "kernelspec": {
   "display_name": "Python",
   "language": "python",
   "name": "conda-env-python-py"
  },
  "language_info": {
   "codemirror_mode": {
    "name": "ipython",
    "version": 3
   },
   "file_extension": ".py",
   "mimetype": "text/x-python",
   "name": "python",
   "nbconvert_exporter": "python",
   "pygments_lexer": "ipython3",
   "version": "3.6.10"
  }
 },
 "nbformat": 4,
 "nbformat_minor": 4
}
