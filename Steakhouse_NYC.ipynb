{
 "cells": [
  {
   "cell_type": "code",
   "execution_count": 284,
   "metadata": {},
   "outputs": [
    {
     "name": "stdout",
     "output_type": "stream",
     "text": [
      "Imported Libraries.\n"
     ]
    }
   ],
   "source": [
    "import pandas as pd\n",
    "import numpy as np\n",
    "import requests\n",
    "\n",
    "import folium # For rendering maps\n",
    "\n",
    "# !conda install -c conda-forge geopy --yes # uncomment this line if you haven't completed the Foursquare API lab\n",
    "from geopy.geocoders import Nominatim # Acquiring latitude and longitude\n",
    "\n",
    "# Matplotlib and associated plotting modules\n",
    "import matplotlib.pyplot as plt\n",
    "import matplotlib.cm as cm\n",
    "import matplotlib.colors as colors\n",
    "%matplotlib inline\n",
    "\n",
    "pd.set_option('display.max_columns', None)\n",
    "pd.set_option('display.max_rows', None)\n",
    "\n",
    "print('Imported Libraries.')"
   ]
  },
  {
   "cell_type": "code",
   "execution_count": 285,
   "metadata": {},
   "outputs": [],
   "source": [
    "def get_new_york_data():\n",
    "    url='https://cocl.us/new_york_dataset'\n",
    "    resp=requests.get(url).json()\n",
    "    # all data is present in features label\n",
    "    features=resp['features']\n",
    "    \n",
    "    # define the dataframe columns\n",
    "    column_names = ['Borough', 'Neighborhood', 'Latitude', 'Longitude'] \n",
    "    # instantiate the dataframe\n",
    "    new_york_data = pd.DataFrame(columns=column_names)\n",
    "    \n",
    "    for data in features:\n",
    "        borough = data['properties']['borough'] \n",
    "        neighborhood_name = data['properties']['name']\n",
    "        \n",
    "        neighborhood_latlon = data['geometry']['coordinates']\n",
    "        neighborhood_lat = neighborhood_latlon[1]\n",
    "        neighborhood_lon = neighborhood_latlon[0]\n",
    "    \n",
    "        new_york_data = new_york_data.append({'Borough': borough,\n",
    "                                          'Neighborhood': neighborhood_name,\n",
    "                                          'Latitude': neighborhood_lat,\n",
    "                                          'Longitude': neighborhood_lon}, ignore_index=True)\n",
    "    \n",
    "    return new_york_data"
   ]
  },
  {
   "cell_type": "code",
   "execution_count": 286,
   "metadata": {},
   "outputs": [],
   "source": [
    "df_ny = get_new_york_data()"
   ]
  },
  {
   "cell_type": "code",
   "execution_count": 287,
   "metadata": {},
   "outputs": [
    {
     "data": {
      "text/html": [
       "<div>\n",
       "<style scoped>\n",
       "    .dataframe tbody tr th:only-of-type {\n",
       "        vertical-align: middle;\n",
       "    }\n",
       "\n",
       "    .dataframe tbody tr th {\n",
       "        vertical-align: top;\n",
       "    }\n",
       "\n",
       "    .dataframe thead th {\n",
       "        text-align: right;\n",
       "    }\n",
       "</style>\n",
       "<table border=\"1\" class=\"dataframe\">\n",
       "  <thead>\n",
       "    <tr style=\"text-align: right;\">\n",
       "      <th></th>\n",
       "      <th>Borough</th>\n",
       "      <th>Neighborhood</th>\n",
       "      <th>Latitude</th>\n",
       "      <th>Longitude</th>\n",
       "    </tr>\n",
       "  </thead>\n",
       "  <tbody>\n",
       "    <tr>\n",
       "      <th>0</th>\n",
       "      <td>Bronx</td>\n",
       "      <td>Wakefield</td>\n",
       "      <td>40.894705</td>\n",
       "      <td>-73.847201</td>\n",
       "    </tr>\n",
       "    <tr>\n",
       "      <th>1</th>\n",
       "      <td>Bronx</td>\n",
       "      <td>Co-op City</td>\n",
       "      <td>40.874294</td>\n",
       "      <td>-73.829939</td>\n",
       "    </tr>\n",
       "    <tr>\n",
       "      <th>2</th>\n",
       "      <td>Bronx</td>\n",
       "      <td>Eastchester</td>\n",
       "      <td>40.887556</td>\n",
       "      <td>-73.827806</td>\n",
       "    </tr>\n",
       "    <tr>\n",
       "      <th>3</th>\n",
       "      <td>Bronx</td>\n",
       "      <td>Fieldston</td>\n",
       "      <td>40.895437</td>\n",
       "      <td>-73.905643</td>\n",
       "    </tr>\n",
       "    <tr>\n",
       "      <th>4</th>\n",
       "      <td>Bronx</td>\n",
       "      <td>Riverdale</td>\n",
       "      <td>40.890834</td>\n",
       "      <td>-73.912585</td>\n",
       "    </tr>\n",
       "  </tbody>\n",
       "</table>\n",
       "</div>"
      ],
      "text/plain": [
       "  Borough Neighborhood   Latitude  Longitude\n",
       "0   Bronx    Wakefield  40.894705 -73.847201\n",
       "1   Bronx   Co-op City  40.874294 -73.829939\n",
       "2   Bronx  Eastchester  40.887556 -73.827806\n",
       "3   Bronx    Fieldston  40.895437 -73.905643\n",
       "4   Bronx    Riverdale  40.890834 -73.912585"
      ]
     },
     "execution_count": 287,
     "metadata": {},
     "output_type": "execute_result"
    }
   ],
   "source": [
    "df_ny.head()"
   ]
  },
  {
   "cell_type": "code",
   "execution_count": 288,
   "metadata": {},
   "outputs": [
    {
     "data": {
      "text/plain": [
       "(306, 4)"
      ]
     },
     "execution_count": 288,
     "metadata": {},
     "output_type": "execute_result"
    }
   ],
   "source": [
    "df_ny.shape"
   ]
  },
  {
   "cell_type": "markdown",
   "metadata": {},
   "source": [
    "*Let's check if we can obtain data from a sample neighborhood.*"
   ]
  },
  {
   "cell_type": "code",
   "execution_count": 289,
   "metadata": {},
   "outputs": [
    {
     "data": {
      "text/html": [
       "<div>\n",
       "<style scoped>\n",
       "    .dataframe tbody tr th:only-of-type {\n",
       "        vertical-align: middle;\n",
       "    }\n",
       "\n",
       "    .dataframe tbody tr th {\n",
       "        vertical-align: top;\n",
       "    }\n",
       "\n",
       "    .dataframe thead th {\n",
       "        text-align: right;\n",
       "    }\n",
       "</style>\n",
       "<table border=\"1\" class=\"dataframe\">\n",
       "  <thead>\n",
       "    <tr style=\"text-align: right;\">\n",
       "      <th></th>\n",
       "      <th>Borough</th>\n",
       "      <th>Neighborhood</th>\n",
       "      <th>Latitude</th>\n",
       "      <th>Longitude</th>\n",
       "    </tr>\n",
       "  </thead>\n",
       "  <tbody>\n",
       "    <tr>\n",
       "      <th>128</th>\n",
       "      <td>Manhattan</td>\n",
       "      <td>Financial District</td>\n",
       "      <td>40.707107</td>\n",
       "      <td>-74.010665</td>\n",
       "    </tr>\n",
       "  </tbody>\n",
       "</table>\n",
       "</div>"
      ],
      "text/plain": [
       "       Borough        Neighborhood   Latitude  Longitude\n",
       "128  Manhattan  Financial District  40.707107 -74.010665"
      ]
     },
     "execution_count": 289,
     "metadata": {},
     "output_type": "execute_result"
    }
   ],
   "source": [
    "df_ny[df_ny['Neighborhood']=='Financial District']"
   ]
  },
  {
   "cell_type": "code",
   "execution_count": 290,
   "metadata": {},
   "outputs": [
    {
     "data": {
      "image/png": "[encoded data removed]",
      "text/plain": [
       "<Figure size 560x560 with 1 Axes>"
      ]
     },
     "metadata": {
      "needs_background": "light"
     },
     "output_type": "display_data"
    }
   ],
   "source": [
    "plt.figure(figsize=(7,7), dpi = 80)\n",
    "# title\n",
    "plt.title('Number of Neighborhood for each Borough in New York City')\n",
    "#On x-axis\n",
    "plt.xlabel('Borough', fontsize = 15)\n",
    "#On y-axis\n",
    "plt.ylabel('No.of Neighborhood', fontsize=15)\n",
    "#giving a bar plot\n",
    "df_ny.groupby('Borough')['Neighborhood'].count().plot(kind='bar', color='#0000FF')\n",
    "#legend\n",
    "plt.legend()\n",
    "#displays the plot\n",
    "plt.show()"
   ]
  },
  {
   "cell_type": "code",
   "execution_count": 291,
   "metadata": {},
   "outputs": [],
   "source": [
    "def geo_location(address):\n",
    "    # get geo location of address\n",
    "    geolocator = Nominatim(user_agent=\"ny_explorer\")\n",
    "    location = geolocator.geocode(address)\n",
    "    latitude = location.latitude\n",
    "    longitude = location.longitude\n",
    "    return latitude,longitude"
   ]
  },
  {
   "cell_type": "code",
   "execution_count": 292,
   "metadata": {},
   "outputs": [],
   "source": [
    "# @hidden_cell\n",
    "CLIENT_ID = 'NJGKPK25R4VFF5WHBEGHHC5ZXY5IBRBZNMCXGLRVAFUCR35X' # your Foursquare ID\n",
    "CLIENT_SECRET = 'JB3WXHNYMQBMKTNMYJPC4GCQFCVK1IYMD0VSLHVZSROWFMY1' # your Foursquare Secret\n",
    "VERSION = '20200706' # Foursquare API version"
   ]
  },
  {
   "cell_type": "code",
   "execution_count": 293,
   "metadata": {},
   "outputs": [],
   "source": [
    "def get_venues(lat,lng):\n",
    "    \n",
    "    #set variables\n",
    "    radius=1000\n",
    "    LIMIT=100\n",
    "    \n",
    "    #url to fetch data from foursquare api\n",
    "    url = 'https://api.foursquare.com/v2/venues/explore?&client_id={}&client_secret={}&v={}&ll={},{}&radius={}&limit={}&categoryID{}'.format(\n",
    "            CLIENT_ID, \n",
    "            CLIENT_SECRET, \n",
    "            VERSION, \n",
    "            lat, \n",
    "            lng, \n",
    "            radius, \n",
    "            LIMIT,\n",
    "            '4bf58dd8d48988d1cc941735')\n",
    "    \n",
    "    # get all the data\n",
    "    results = requests.get(url).json()\n",
    "    venue_data=results[\"response\"]['groups'][0]['items']\n",
    "    venue_details=[]\n",
    "    for row in venue_data:\n",
    "        try:\n",
    "            venue_id=row['venue']['id']\n",
    "            venue_name=row['venue']['name']\n",
    "            venue_category=row['venue']['categories'][0]['name']\n",
    "            venue_details.append([venue_id,venue_name,venue_category])\n",
    "        except KeyError:\n",
    "            pass\n",
    "        \n",
    "    column_names=['ID','Name','Category']\n",
    "    df = pd.DataFrame(venue_details,columns=column_names)\n",
    "    return df"
   ]
  },
  {
   "cell_type": "code",
   "execution_count": 294,
   "metadata": {},
   "outputs": [],
   "source": [
    "def get_venue_details(venue_id):\n",
    "        \n",
    "    #url to fetch data from foursquare api\n",
    "    url = 'https://api.foursquare.com/v2/venues/{}?&client_id={}&client_secret={}&v={}'.format(\n",
    "            venue_id,\n",
    "            CLIENT_ID, \n",
    "            CLIENT_SECRET, \n",
    "            VERSION)\n",
    "    \n",
    "    # get all the data\n",
    "    results = requests.get(url).json()\n",
    "    venue_data=results['response']['venue']\n",
    "    venue_details=[]\n",
    "    try:\n",
    "        venue_id=venue_data['id']\n",
    "        venue_name=venue_data['name']\n",
    "        venue_likes=venue_data['likes']['count']\n",
    "        venue_rating=venue_data['rating']\n",
    "        venue_tips=venue_data['tips']['count']\n",
    "        venue_details.append([venue_id,venue_name,venue_likes,venue_rating,venue_tips])\n",
    "    except KeyError:\n",
    "        pass\n",
    "        \n",
    "    column_names=['ID','Name','Likes','Rating','Tips']\n",
    "    df = pd.DataFrame(venue_details,columns=column_names)\n",
    "    return df"
   ]
  },
  {
   "cell_type": "markdown",
   "metadata": {},
   "source": [
    "*Let's use the sample neighorhood, Financial District, if there are steakhouses in that area.*"
   ]
  },
  {
   "cell_type": "code",
   "execution_count": 295,
   "metadata": {},
   "outputs": [
    {
     "ename": "KeyError",
     "evalue": "'groups'",
     "output_type": "error",
     "traceback": [
      "\u001b[0;31m---------------------------------------------------------------------------\u001b[0m",
      "\u001b[0;31mKeyError\u001b[0m                                  Traceback (most recent call last)",
      "\u001b[0;32m<ipython-input-295-cdcde99cadec>\u001b[0m in \u001b[0;36m<module>\u001b[0;34m\u001b[0m\n\u001b[0;32m----> 1\u001b[0;31m \u001b[0mvns\u001b[0m \u001b[0;34m=\u001b[0m \u001b[0mget_venues\u001b[0m\u001b[0;34m(\u001b[0m\u001b[0;36m40.707107\u001b[0m\u001b[0;34m,\u001b[0m\u001b[0;34m-\u001b[0m\u001b[0;36m74.010665\u001b[0m\u001b[0;34m)\u001b[0m\u001b[0;34m\u001b[0m\u001b[0;34m\u001b[0m\u001b[0m\n\u001b[0m\u001b[1;32m      2\u001b[0m \u001b[0mvns\u001b[0m\u001b[0;34m[\u001b[0m\u001b[0mvns\u001b[0m\u001b[0;34m[\u001b[0m\u001b[0;34m'Category'\u001b[0m\u001b[0;34m]\u001b[0m\u001b[0;34m==\u001b[0m\u001b[0;34m'Steakhouse'\u001b[0m\u001b[0;34m]\u001b[0m\u001b[0;34m\u001b[0m\u001b[0;34m\u001b[0m\u001b[0m\n",
      "\u001b[0;32m<ipython-input-293-5e2b754e32ba>\u001b[0m in \u001b[0;36mget_venues\u001b[0;34m(lat, lng)\u001b[0m\n\u001b[1;32m     18\u001b[0m     \u001b[0;31m# get all the data\u001b[0m\u001b[0;34m\u001b[0m\u001b[0;34m\u001b[0m\u001b[0;34m\u001b[0m\u001b[0m\n\u001b[1;32m     19\u001b[0m     \u001b[0mresults\u001b[0m \u001b[0;34m=\u001b[0m \u001b[0mrequests\u001b[0m\u001b[0;34m.\u001b[0m\u001b[0mget\u001b[0m\u001b[0;34m(\u001b[0m\u001b[0murl\u001b[0m\u001b[0;34m)\u001b[0m\u001b[0;34m.\u001b[0m\u001b[0mjson\u001b[0m\u001b[0;34m(\u001b[0m\u001b[0;34m)\u001b[0m\u001b[0;34m\u001b[0m\u001b[0;34m\u001b[0m\u001b[0m\n\u001b[0;32m---> 20\u001b[0;31m     \u001b[0mvenue_data\u001b[0m\u001b[0;34m=\u001b[0m\u001b[0mresults\u001b[0m\u001b[0;34m[\u001b[0m\u001b[0;34m\"response\"\u001b[0m\u001b[0;34m]\u001b[0m\u001b[0;34m[\u001b[0m\u001b[0;34m'groups'\u001b[0m\u001b[0;34m]\u001b[0m\u001b[0;34m[\u001b[0m\u001b[0;36m0\u001b[0m\u001b[0;34m]\u001b[0m\u001b[0;34m[\u001b[0m\u001b[0;34m'items'\u001b[0m\u001b[0;34m]\u001b[0m\u001b[0;34m\u001b[0m\u001b[0;34m\u001b[0m\u001b[0m\n\u001b[0m\u001b[1;32m     21\u001b[0m     \u001b[0mvenue_details\u001b[0m\u001b[0;34m=\u001b[0m\u001b[0;34m[\u001b[0m\u001b[0;34m]\u001b[0m\u001b[0;34m\u001b[0m\u001b[0;34m\u001b[0m\u001b[0m\n\u001b[1;32m     22\u001b[0m     \u001b[0;32mfor\u001b[0m \u001b[0mrow\u001b[0m \u001b[0;32min\u001b[0m \u001b[0mvenue_data\u001b[0m\u001b[0;34m:\u001b[0m\u001b[0;34m\u001b[0m\u001b[0;34m\u001b[0m\u001b[0m\n",
      "\u001b[0;31mKeyError\u001b[0m: 'groups'"
     ]
    }
   ],
   "source": [
    "vns = get_venues(40.707107,-74.010665)\n",
    "vns[vns['Category']=='Steakhouse']"
   ]
  },
  {
   "cell_type": "code",
   "execution_count": 296,
   "metadata": {},
   "outputs": [
    {
     "data": {
      "text/plain": [
       "[['3fd66200f964a520e6e81ee3', \"Delmonico's\", 'Steakhouse'],\n",
       " ['4ab27744f964a520486b20e3', \"Harry's Cafe and Steak\", 'Steakhouse'],\n",
       " ['51cac19e498e1f28926b8a8d', \"Morton's The Steakhouse\", 'Steakhouse']]"
      ]
     },
     "execution_count": 296,
     "metadata": {},
     "output_type": "execute_result"
    }
   ],
   "source": [
    "stk_res = vns[vns['Category']=='Steakhouse'].values.tolist()\n",
    "stk_res"
   ]
  },
  {
   "cell_type": "code",
   "execution_count": 297,
   "metadata": {},
   "outputs": [
    {
     "data": {
      "text/plain": [
       "True"
      ]
     },
     "execution_count": 297,
     "metadata": {},
     "output_type": "execute_result"
    }
   ],
   "source": [
    "len(vns[vns['Category']=='Steakhouse'].values.tolist()) > 0"
   ]
  },
  {
   "cell_type": "code",
   "execution_count": 298,
   "metadata": {},
   "outputs": [
    {
     "name": "stdout",
     "output_type": "stream",
     "text": [
      "['Bronx', 'Wakefield', 40.89470517661, -73.84720052054902]\n",
      "['Bronx', 'Co-op City', 40.87429419303012, -73.82993910812398]\n",
      "['Bronx', 'Eastchester', 40.887555677350775, -73.82780644716412]\n",
      "['Bronx', 'Fieldston', 40.89543742690383, -73.90564259591682]\n",
      "['Bronx', 'Riverdale', 40.890834493891305, -73.9125854610857]\n",
      "['Bronx', 'Kingsbridge', 40.88168737120521, -73.90281798724604]\n",
      "['Manhattan', 'Marble Hill', 40.87655077879964, -73.91065965862981]\n",
      "['Bronx', 'Woodlawn', 40.89827261213805, -73.86731496814176]\n",
      "['Bronx', 'Norwood', 40.87722415599446, -73.8793907395681]\n",
      "['Bronx', 'Williamsbridge', 40.88103887819211, -73.85744642974207]\n",
      "['Bronx', 'Baychester', 40.866858107252696, -73.83579759808117]\n",
      "['Bronx', 'Pelham Parkway', 40.85741349808865, -73.85475564017999]\n",
      "['Bronx', 'City Island', 40.84724670491813, -73.78648845267413]\n",
      "['Bronx', 'Bedford Park', 40.870185164975325, -73.8855121841913]\n",
      "['Bronx', 'University Heights', 40.85572707719664, -73.9104159619131]\n",
      "['Bronx', 'Morris Heights', 40.84789792606271, -73.91967159119565]\n",
      "['Bronx', 'Fordham', 40.86099679638654, -73.89642655981623]\n",
      "['Bronx', 'East Tremont', 40.84269615786053, -73.88735617532338]\n",
      "['Bronx', 'West Farms', 40.83947505672653, -73.87774474910545]\n",
      "['Bronx', 'High  Bridge', 40.836623010706056, -73.9261020935813]\n",
      "['Bronx', 'Melrose', 40.819754370594936, -73.90942160757436]\n",
      "['Bronx', 'Mott Haven', 40.80623874935177, -73.91609987487575]\n",
      "['Bronx', 'Port Morris', 40.801663627756206, -73.91322139386135]\n",
      "['Bronx', 'Longwood', 40.81509904545822, -73.8957882009446]\n",
      "['Bronx', 'Hunts Point', 40.80972987938709, -73.88331505955291]\n",
      "['Bronx', 'Morrisania', 40.82359198585534, -73.90150648943059]\n",
      "['Bronx', 'Soundview', 40.821012197914015, -73.86574609554924]\n",
      "['Bronx', 'Clason Point', 40.80655112003589, -73.85414416189266]\n",
      "['Bronx', 'Throgs Neck', 40.81510925804005, -73.81635002158441]\n",
      "['Bronx', 'Country Club', 40.844245936947374, -73.8240992675385]\n",
      "['Bronx', 'Parkchester', 40.837937822267286, -73.85600310535783]\n",
      "['Bronx', 'Westchester Square', 40.8406194964327, -73.84219407604444]\n",
      "['Bronx', 'Van Nest', 40.84360847124718, -73.8662991807561]\n",
      "['Bronx', 'Morris Park', 40.847549063536334, -73.85040178030421]\n",
      "['Bronx', 'Belmont', 40.85727710073895, -73.88845196134804]\n",
      "['Bronx', 'Spuyten Duyvil', 40.88139497727086, -73.91719048210393]\n",
      "['Bronx', 'North Riverdale', 40.90854282950666, -73.90453054908927]\n",
      "['Bronx', 'Pelham Bay', 40.85064140940335, -73.8320737824047]\n",
      "['Bronx', 'Schuylerville', 40.82657951686922, -73.82620275994073]\n",
      "['Bronx', 'Edgewater Park', 40.821986118163494, -73.81388514428619]\n",
      "['Bronx', 'Castle Hill', 40.819014376988314, -73.84802729582735]\n",
      "['Bronx', 'Olinville', 40.87137078192371, -73.86332361652777]\n",
      "['Bronx', 'Pelham Gardens', 40.86296562477998, -73.84161194831223]\n",
      "['Bronx', 'Concourse', 40.83428380733851, -73.91558941773444]\n",
      "['Bronx', 'Unionport', 40.82977429787161, -73.85053524451935]\n",
      "['Bronx', 'Edenwald', 40.88456130303732, -73.84808271877168]\n",
      "['Brooklyn', 'Bay Ridge', 40.625801065010656, -74.03062069353813]\n",
      "['Brooklyn', 'Bensonhurst', 40.61100890202044, -73.99517998380729]\n",
      "['Brooklyn', 'Sunset Park', 40.64510294925429, -74.01031618527784]\n",
      "['Brooklyn', 'Greenpoint', 40.7302009848647, -73.95424093127393]\n",
      "['Brooklyn', 'Gravesend', 40.59526001306593, -73.97347087708445]\n",
      "['Brooklyn', 'Brighton Beach', 40.57682506566604, -73.96509448785336]\n",
      "['Brooklyn', 'Sheepshead Bay', 40.58689012678384, -73.94318640482979]\n",
      "['Brooklyn', 'Manhattan Terrace', 40.61443251335098, -73.95743840559939]\n",
      "['Brooklyn', 'Flatbush', 40.63632589026677, -73.95840106533903]\n",
      "['Brooklyn', 'Crown Heights', 40.67082917695294, -73.94329119073582]\n",
      "['Brooklyn', 'East Flatbush', 40.64171776668961, -73.93610256185836]\n",
      "['Brooklyn', 'Kensington', 40.642381958003526, -73.98042110559474]\n",
      "['Brooklyn', 'Windsor Terrace', 40.65694583575104, -73.98007340430172]\n",
      "['Brooklyn', 'Prospect Heights', 40.676822262254724, -73.9648592426269]\n",
      "['Brooklyn', 'Brownsville', 40.66394994339755, -73.91023536176607]\n",
      "['Brooklyn', 'Williamsburg', 40.70714439344251, -73.95811529220927]\n",
      "['Brooklyn', 'Bushwick', 40.69811611017901, -73.92525797487045]\n",
      "['Brooklyn', 'Bedford Stuyvesant', 40.687231607720456, -73.94178488690297]\n",
      "['Brooklyn', 'Brooklyn Heights', 40.695863722724084, -73.99378225496424]\n",
      "['Brooklyn', 'Cobble Hill', 40.687919722485574, -73.99856139218463]\n",
      "['Brooklyn', 'Carroll Gardens', 40.680540231076485, -73.99465372828006]\n",
      "['Brooklyn', 'Red Hook', 40.676253230250886, -74.0127589747356]\n",
      "['Brooklyn', 'Gowanus', 40.673931143187154, -73.99444087145339]\n",
      "['Brooklyn', 'Fort Greene', 40.68852726018977, -73.97290574369092]\n",
      "['Brooklyn', 'Park Slope', 40.67232052268197, -73.97705030183924]\n",
      "['Brooklyn', 'Cypress Hills', 40.68239101144211, -73.87661596457296]\n",
      "['Brooklyn', 'East New York', 40.669925700847045, -73.88069863917366]\n",
      "['Brooklyn', 'Starrett City', 40.64758905230874, -73.87936970045875]\n",
      "['Brooklyn', 'Canarsie', 40.63556432797428, -73.90209269778966]\n",
      "['Brooklyn', 'Flatlands', 40.630446043757466, -73.92911302644674]\n",
      "['Brooklyn', 'Mill Island', 40.606336421685626, -73.90818571777423]\n",
      "['Brooklyn', 'Manhattan Beach', 40.57791350308657, -73.94353722891886]\n",
      "['Brooklyn', 'Coney Island', 40.57429256471601, -73.98868295821637]\n",
      "['Brooklyn', 'Bath Beach', 40.59951870282238, -73.99875221443519]\n",
      "['Brooklyn', 'Borough Park', 40.633130512758015, -73.99049823044811]\n",
      "['Brooklyn', 'Dyker Heights', 40.619219457722636, -74.01931375636022]\n",
      "['Brooklyn', 'Gerritsen Beach', 40.590848433902046, -73.93010170691196]\n",
      "['Brooklyn', 'Marine Park', 40.609747779894604, -73.93134404108497]\n",
      "['Brooklyn', 'Clinton Hill', 40.693229421881504, -73.96784306216367]\n",
      "['Brooklyn', 'Sea Gate', 40.57637537890224, -74.0078731120024]\n",
      "['Brooklyn', 'Downtown', 40.69084402109802, -73.98346337431099]\n",
      "['Brooklyn', 'Boerum Hill', 40.685682912091444, -73.98374824115798]\n",
      "['Brooklyn', 'Prospect Lefferts Gardens', 40.658420017469815, -73.95489867077713]\n",
      "['Brooklyn', 'Ocean Hill', 40.678402554795355, -73.91306831787395]\n",
      "['Brooklyn', 'City Line', 40.67856995727479, -73.86797598081334]\n",
      "['Brooklyn', 'Bergen Beach', 40.61514955045308, -73.89855633630317]\n",
      "['Brooklyn', 'Midwood', 40.62559589869843, -73.95759523489838]\n",
      "['Brooklyn', 'Prospect Park South', 40.647008603185185, -73.96261316716048]\n",
      "['Brooklyn', 'Georgetown', 40.62384524478419, -73.91607483951324]\n",
      "['Brooklyn', 'East Williamsburg', 40.70849241041548, -73.93885815269195]\n",
      "['Brooklyn', 'North Side', 40.714822906532014, -73.95880857587582]\n",
      "['Brooklyn', 'South Side', 40.71086147265064, -73.95800095153331]\n",
      "['Brooklyn', 'Ocean Parkway', 40.61305976667942, -73.96836678035541]\n",
      "['Brooklyn', 'Fort Hamilton', 40.61476812694226, -74.03197914537984]\n",
      "['Manhattan', 'Chinatown', 40.71561842231432, -73.99427936255978]\n",
      "['Manhattan', 'Washington Heights', 40.85190252555305, -73.93690027985234]\n",
      "['Manhattan', 'Inwood', 40.86768396449915, -73.92121042203897]\n",
      "['Manhattan', 'Hamilton Heights', 40.823604284811935, -73.94968791883366]\n",
      "['Manhattan', 'Manhattanville', 40.8169344294978, -73.9573853935188]\n",
      "['Manhattan', 'Central Harlem', 40.81597606742414, -73.94321112603905]\n",
      "['Manhattan', 'East Harlem', 40.79224946663033, -73.94418223148524]\n",
      "['Manhattan', 'Upper East Side', 40.775638573301805, -73.96050763135]\n",
      "['Manhattan', 'Yorkville', 40.775929849884875, -73.94711784471826]\n",
      "['Manhattan', 'Lenox Hill', 40.76811265828733, -73.9588596881376]\n",
      "['Manhattan', 'Roosevelt Island', 40.76215960576283, -73.94916769227953]\n",
      "['Manhattan', 'Upper West Side', 40.787657998534854, -73.97705923630603]\n",
      "['Manhattan', 'Lincoln Square', 40.77352888942166, -73.98533777001262]\n",
      "['Manhattan', 'Clinton', 40.75910089146212, -73.99611936309479]\n",
      "['Manhattan', 'Midtown', 40.75469110270623, -73.98166882730304]\n",
      "['Manhattan', 'Murray Hill', 40.748303077252174, -73.97833207924127]\n",
      "['Manhattan', 'Chelsea', 40.744034706747975, -74.00311633472813]\n",
      "['Manhattan', 'Greenwich Village', 40.72693288536128, -73.99991402945902]\n",
      "['Manhattan', 'East Village', 40.727846777270244, -73.98222616506416]\n",
      "['Manhattan', 'Lower East Side', 40.71780674892765, -73.98089031999291]\n",
      "['Manhattan', 'Tribeca', 40.721521967443216, -74.01068328559087]\n",
      "['Manhattan', 'Little Italy', 40.71932379395907, -73.99730467208073]\n",
      "['Manhattan', 'Soho', 40.72218384131794, -74.00065666959759]\n",
      "['Manhattan', 'West Village', 40.73443393572434, -74.00617998126812]\n",
      "['Manhattan', 'Manhattan Valley', 40.797307041702865, -73.96428617740655]\n",
      "['Manhattan', 'Morningside Heights', 40.807999738165826, -73.96389627905332]\n",
      "['Manhattan', 'Gramercy', 40.737209832715, -73.98137594833541]\n",
      "['Manhattan', 'Battery Park City', 40.71193198394565, -74.01686930508617]\n",
      "['Manhattan', 'Financial District', 40.70710710727048, -74.0106654452127]\n",
      "['Queens', 'Astoria', 40.76850859335492, -73.91565374304234]\n",
      "['Queens', 'Woodside', 40.74634908860222, -73.90184166838284]\n",
      "['Queens', 'Jackson Heights', 40.75198138007367, -73.88282109164365]\n",
      "['Queens', 'Elmhurst', 40.744048505122024, -73.88165622288388]\n",
      "['Queens', 'Howard Beach', 40.65422527738487, -73.8381376460028]\n",
      "['Queens', 'Corona', 40.74238175015667, -73.85682497345258]\n",
      "['Queens', 'Forest Hills', 40.72526378216503, -73.84447500788983]\n",
      "['Queens', 'Kew Gardens', 40.7051790354148, -73.82981905825703]\n",
      "['Queens', 'Richmond Hill', 40.69794731471763, -73.83183321446887]\n",
      "['Queens', 'Flushing', 40.76445419697846, -73.83177300329582]\n",
      "['Queens', 'Long Island City', 40.75021734610528, -73.93920223915505]\n",
      "['Queens', 'Sunnyside', 40.74017628351924, -73.92691617561577]\n",
      "['Queens', 'East Elmhurst', 40.76407323883091, -73.86704147658772]\n",
      "['Queens', 'Maspeth', 40.725427374093606, -73.89621713626859]\n",
      "['Queens', 'Ridgewood', 40.70832315613858, -73.90143517559589]\n",
      "['Queens', 'Glendale', 40.70276242967838, -73.87074167435605]\n",
      "['Queens', 'Rego Park', 40.72897409480735, -73.8578268690537]\n",
      "['Queens', 'Woodhaven', 40.68988687915789, -73.8581104655432]\n",
      "['Queens', 'Ozone Park', 40.680708468265415, -73.84320266173447]\n",
      "['Queens', 'South Ozone Park', 40.66854957767195, -73.80986478649041]\n",
      "['Queens', 'College Point', 40.784902749260205, -73.84304528896125]\n",
      "['Queens', 'Whitestone', 40.78129076602694, -73.81420216610863]\n",
      "['Queens', 'Bayside', 40.76604063281064, -73.7742736306867]\n",
      "['Queens', 'Auburndale', 40.76172954903262, -73.79176243728061]\n",
      "['Queens', 'Little Neck', 40.7708261928267, -73.7388977558074]\n",
      "['Queens', 'Douglaston', 40.76684609790763, -73.7424982072733]\n",
      "['Queens', 'Glen Oaks', 40.74944079974332, -73.71548118999145]\n",
      "['Queens', 'Bellerose', 40.72857318176675, -73.72012814826903]\n",
      "['Queens', 'Kew Gardens Hills', 40.722578244228046, -73.82087764933566]\n",
      "['Queens', 'Fresh Meadows', 40.7343944653313, -73.78271337003264]\n",
      "['Queens', 'Briarwood', 40.71093547252271, -73.81174822458634]\n",
      "['Queens', 'Jamaica Center', 40.70465736068717, -73.79690165888289]\n",
      "['Queens', 'Oakland Gardens', 40.74561857141855, -73.75494976234332]\n",
      "['Queens', 'Queens Village', 40.718893092167356, -73.73871484578424]\n",
      "['Queens', 'Hollis', 40.71124344191904, -73.75925009335594]\n",
      "['Queens', 'South Jamaica', 40.696911253789885, -73.7904261313554]\n",
      "['Queens', 'St. Albans', 40.69444538522359, -73.75867603727717]\n",
      "['Queens', 'Rochdale', 40.67521139591733, -73.77258787620906]\n",
      "['Queens', 'Springfield Gardens', 40.666230490368584, -73.76042092682287]\n",
      "['Queens', 'Cambria Heights', 40.692774639160845, -73.73526873708026]\n",
      "['Queens', 'Rosedale', 40.659816433428084, -73.73526079428278]\n",
      "['Queens', 'Far Rockaway', 40.603134432500894, -73.75497968043872]\n",
      "['Queens', 'Broad Channel', 40.60302658351238, -73.8200548911032]\n",
      "['Queens', 'Breezy Point', 40.55740128845452, -73.92551196994168]\n",
      "['Queens', 'Steinway', 40.775923015642896, -73.90228960391673]\n",
      "['Queens', 'Beechhurst', 40.79278140360048, -73.80436451720988]\n",
      "['Queens', 'Bay Terrace', 40.782842806245554, -73.7768022262158]\n",
      "['Queens', 'Edgemere', 40.595641807368494, -73.77613282391705]\n",
      "['Queens', 'Arverne', 40.58914394372971, -73.79199233136943]\n",
      "['Queens', 'Rockaway Beach', 40.582801696845586, -73.82236121088751]\n",
      "['Queens', 'Neponsit', 40.572036730217015, -73.85754672410827]\n",
      "['Queens', 'Murray Hill', 40.764126122614066, -73.81276269135866]\n",
      "['Queens', 'Floral Park', 40.741378421945434, -73.70884705889246]\n",
      "['Queens', 'Holliswood', 40.7209572076444, -73.76714166714729]\n",
      "['Queens', 'Jamaica Estates', 40.71680483014613, -73.7872269693666]\n",
      "['Queens', 'Queensboro Hill', 40.7445723092867, -73.82580915110559]\n",
      "['Queens', 'Hillcrest', 40.723824901829204, -73.79760300912672]\n",
      "['Queens', 'Ravenswood', 40.761704526054146, -73.93157506072878]\n",
      "['Queens', 'Lindenwood', 40.66391841925139, -73.84963782402441]\n",
      "['Queens', 'Laurelton', 40.66788389660247, -73.74025607989822]\n",
      "['Queens', 'Lefrak City', 40.736074570830795, -73.8625247141374]\n",
      "['Queens', 'Belle Harbor', 40.57615556543109, -73.8540175039252]\n",
      "['Queens', 'Rockaway Park', 40.58034295646131, -73.84153370226186]\n",
      "['Queens', 'Somerville', 40.59771061565768, -73.79664750844047]\n",
      "['Queens', 'Brookville', 40.66000322733613, -73.75175310731153]\n",
      "['Queens', 'Bellaire', 40.73301404027834, -73.73889198912481]\n",
      "['Queens', 'North Corona', 40.7540709990489, -73.85751790676447]\n",
      "['Queens', 'Forest Hills Gardens', 40.7146110815117, -73.8410221123401]\n",
      "['Staten Island', 'St. George', 40.6449815710044, -74.07935312512797]\n",
      "['Staten Island', 'New Brighton', 40.64061455913511, -74.08701650516625]\n",
      "['Staten Island', 'Stapleton', 40.62692762538176, -74.07790192660066]\n",
      "['Staten Island', 'Rosebank', 40.61530494652761, -74.06980526716141]\n",
      "['Staten Island', 'West Brighton', 40.63187892654607, -74.1071817826561]\n",
      "['Staten Island', 'Grymes Hill', 40.624184791313006, -74.08724819983729]\n",
      "['Staten Island', 'Todt Hill', 40.59706851814673, -74.1113288180088]\n",
      "['Staten Island', 'South Beach', 40.58024741350956, -74.0795529253982]\n",
      "['Staten Island', 'Port Richmond', 40.63366930554365, -74.12943426797008]\n",
      "['Staten Island', \"Mariner's Harbor\", 40.632546390481124, -74.15008537046981]\n",
      "['Staten Island', 'Port Ivory', 40.63968297845542, -74.17464532993542]\n",
      "['Staten Island', 'Castleton Corners', 40.61333593766742, -74.11918058534842]\n",
      "['Staten Island', 'New Springville', 40.594252379161695, -74.16496031329827]\n",
      "['Staten Island', 'Travis', 40.58631375103281, -74.19073717538116]\n",
      "['Staten Island', 'New Dorp', 40.57257231820632, -74.1164794360638]\n",
      "['Staten Island', 'Oakwood', 40.5584622432888, -74.12156593771896]\n",
      "['Staten Island', 'Great Kills', 40.549480228713605, -74.14932381490992]\n",
      "['Staten Island', 'Eltingville', 40.542230747450745, -74.1643308041936]\n",
      "['Staten Island', 'Annadale', 40.53811417474507, -74.17854866165878]\n",
      "['Staten Island', 'Woodrow', 40.541967622888755, -74.20524582480326]\n",
      "['Staten Island', 'Tottenville', 40.50533376115642, -74.24656934235283]\n",
      "['Staten Island', 'Tompkinsville', 40.637316067110326, -74.08055351790115]\n",
      "['Staten Island', 'Silver Lake', 40.61919310792676, -74.09629029235458]\n",
      "['Staten Island', 'Sunnyside', 40.61276015756489, -74.0971255217853]\n",
      "['Brooklyn', 'Ditmas Park', 40.643675183340974, -73.96101312466779]\n",
      "['Brooklyn', 'Wingate', 40.66094656188111, -73.93718680559314]\n",
      "['Brooklyn', 'Rugby', 40.655572313280764, -73.92688212616955]\n",
      "['Staten Island', 'Park Hill', 40.60919044434558, -74.08015734936296]\n",
      "['Staten Island', 'Westerleigh', 40.62109047275409, -74.13304143951704]\n",
      "['Staten Island', 'Graniteville', 40.620171512231884, -74.15315246387762]\n",
      "['Staten Island', 'Arlington', 40.63532509911492, -74.16510420241124]\n",
      "['Staten Island', 'Arrochar', 40.596312571276734, -74.06712363225574]\n",
      "['Staten Island', 'Grasmere', 40.59826835959991, -74.0766743627905]\n",
      "['Staten Island', 'Old Town', 40.59632891379513, -74.08751118005578]\n",
      "['Staten Island', 'Dongan Hills', 40.588672948199275, -74.09639905312521]\n",
      "['Staten Island', 'Midland Beach', 40.57352690574283, -74.09348266303591]\n",
      "['Staten Island', 'Grant City', 40.57621558711788, -74.10585598545434]\n",
      "['Staten Island', 'New Dorp Beach', 40.56425549307335, -74.10432707469124]\n",
      "['Staten Island', 'Bay Terrace', 40.55398800858462, -74.13916622175768]\n",
      "['Staten Island', 'Huguenot', 40.531911920489605, -74.19174105747814]\n",
      "['Staten Island', 'Pleasant Plains', 40.524699376118136, -74.21983106616777]\n",
      "['Staten Island', 'Butler Manor', 40.50608165346305, -74.22950350260027]\n",
      "['Staten Island', 'Charleston', 40.53053148283314, -74.23215775896526]\n",
      "['Staten Island', 'Rossville', 40.54940400650072, -74.21572851113952]\n",
      "['Staten Island', 'Arden Heights', 40.54928582278321, -74.18588674583893]\n",
      "['Staten Island', 'Greenridge', 40.555295236173194, -74.17079414786092]\n",
      "['Staten Island', 'Heartland Village', 40.58913894875281, -74.15902208156601]\n",
      "['Staten Island', 'Chelsea', 40.59472602746295, -74.1895604551969]\n",
      "['Staten Island', 'Bloomfield', 40.60577868452358, -74.18725638381567]\n",
      "['Staten Island', 'Bulls Head', 40.6095918004203, -74.15940948657122]\n",
      "['Manhattan', 'Carnegie Hill', 40.7826825671257, -73.95325646837112]\n",
      "['Manhattan', 'Noho', 40.72325901885768, -73.98843368023597]\n",
      "['Manhattan', 'Civic Center', 40.71522892046282, -74.00541529873355]\n",
      "['Manhattan', 'Midtown South', 40.7485096643122, -73.98871313285247]\n",
      "['Staten Island', 'Richmond Town', 40.56960594275505, -74.1340572986257]\n",
      "['Staten Island', 'Shore Acres', 40.60971934079284, -74.06667766061771]\n",
      "['Staten Island', 'Clifton', 40.61917845202843, -74.072642445484]\n",
      "['Staten Island', 'Concord', 40.6044731896879, -74.08402364740358]\n",
      "['Staten Island', 'Emerson Hill', 40.606794394801, -74.09776206972522]\n",
      "['Staten Island', 'Randall Manor', 40.63563000681151, -74.09805062373887]\n",
      "['Staten Island', 'Howland Hook', 40.63843283794795, -74.18622331749823]\n",
      "['Staten Island', 'Elm Park', 40.630146741193826, -74.1418167896889]\n",
      "['Brooklyn', 'Remsen Village', 40.652117451793494, -73.91665331978048]\n",
      "['Brooklyn', 'New Lots', 40.6627442796966, -73.88511776379292]\n",
      "['Brooklyn', 'Paerdegat Basin', 40.63131755039667, -73.90233474295836]\n",
      "['Brooklyn', 'Mill Basin', 40.61597423962336, -73.91515391550404]\n",
      "['Queens', 'Jamaica Hills', 40.71145964370482, -73.79646462081593]\n",
      "['Queens', 'Utopia', 40.73350025429757, -73.79671678028349]\n",
      "['Queens', 'Pomonok', 40.73493618075478, -73.80486120040537]\n",
      "['Queens', 'Astoria Heights', 40.7703173929982, -73.89467996270574]\n",
      "['Bronx', 'Claremont Village', 40.83142834161548, -73.90119903387667]\n",
      "['Bronx', 'Concourse Village', 40.824780490842905, -73.91584652759009]\n",
      "['Bronx', 'Mount Eden', 40.84382617671654, -73.91655551964419]\n",
      "['Bronx', 'Mount Hope', 40.84884160724665, -73.90829930881988]\n",
      "['Manhattan', 'Sutton Place', 40.76028033131374, -73.96355614094303]\n",
      "['Queens', 'Hunters Point', 40.743414090073536, -73.95386782130745]\n",
      "['Manhattan', 'Turtle Bay', 40.75204236950722, -73.96770824581834]\n",
      "['Manhattan', 'Tudor City', 40.746917410740195, -73.97121928722265]\n",
      "['Manhattan', 'Stuyvesant Town', 40.73099955477061, -73.97405170469203]\n",
      "['Manhattan', 'Flatiron', 40.739673047638426, -73.9909471052826]\n",
      "['Queens', 'Sunnyside Gardens', 40.74565180608076, -73.91819286431682]\n",
      "['Queens', 'Blissville', 40.73725071694497, -73.93244235260178]\n",
      "['Brooklyn', 'Fulton Ferry', 40.70328109093014, -73.99550751888415]\n",
      "['Brooklyn', 'Vinegar Hill', 40.70332149882874, -73.98111603592393]\n",
      "['Brooklyn', 'Weeksville', 40.67503986503237, -73.93053108817338]\n",
      "['Brooklyn', 'Broadway Junction', 40.67786104769531, -73.90331684852599]\n",
      "['Brooklyn', 'Dumbo', 40.70317632822692, -73.9887528074504]\n",
      "['Staten Island', 'Manor Heights', 40.60180957631444, -74.12059399718001]\n",
      "['Staten Island', 'Willowbrook', 40.60370692627371, -74.13208447484298]\n",
      "['Staten Island', 'Sandy Ground', 40.541139922091766, -74.21776636068567]\n",
      "['Staten Island', 'Egbertville', 40.579118742961214, -74.12727240604946]\n",
      "['Queens', 'Roxbury', 40.56737588957032, -73.89213760232822]\n",
      "['Brooklyn', 'Homecrest', 40.598525095137255, -73.95918459428702]\n",
      "['Queens', 'Middle Village', 40.716414511158185, -73.88114319200604]\n",
      "['Staten Island', \"Prince's Bay\", 40.52626406734812, -74.20152556457658]\n",
      "['Staten Island', 'Lighthouse Hill', 40.57650629379489, -74.13792663771568]\n",
      "['Staten Island', 'Richmond Valley', 40.51954145748909, -74.22957080626941]\n",
      "['Queens', 'Malba', 40.79060155670148, -73.82667757138641]\n",
      "['Brooklyn', 'Highland Park', 40.6819989345173, -73.890345709872]\n",
      "['Brooklyn', 'Madison', 40.60937770113766, -73.94841515328893]\n",
      "['Bronx', 'Bronxdale', 40.85272297633017, -73.86172577555115]\n",
      "['Bronx', 'Allerton', 40.86578787802982, -73.85931863221647]\n",
      "['Bronx', 'Kingsbridge Heights', 40.8703923914147, -73.90152264513144]\n",
      "['Brooklyn', 'Erasmus', 40.64692606658579, -73.94817709920184]\n",
      "['Manhattan', 'Hudson Yards', 40.75665808227519, -74.00011136202637]\n",
      "['Queens', 'Hammels', 40.58733774018741, -73.80553002968718]\n",
      "['Queens', 'Bayswater', 40.611321691283834, -73.76596781445627]\n",
      "['Queens', 'Queensbridge', 40.756091297094706, -73.94563070334091]\n",
      "['Staten Island', 'Fox Hills', 40.61731079252983, -74.08173992211962]\n"
     ]
    }
   ],
   "source": [
    "for row in df_ny.values.tolist():\n",
    "    print(row)"
   ]
  },
  {
   "cell_type": "code",
   "execution_count": 299,
   "metadata": {},
   "outputs": [
    {
     "name": "stdout",
     "output_type": "stream",
     "text": [
      "Steakhouse in\n",
      "---------------------\n"
     ]
    },
    {
     "ename": "KeyError",
     "evalue": "'groups'",
     "output_type": "error",
     "traceback": [
      "\u001b[0;31m---------------------------------------------------------------------------\u001b[0m",
      "\u001b[0;31mKeyError\u001b[0m                                  Traceback (most recent call last)",
      "\u001b[0;32m<ipython-input-299-85861108e6f2>\u001b[0m in \u001b[0;36m<module>\u001b[0;34m\u001b[0m\n\u001b[1;32m      7\u001b[0m \u001b[0;32mfor\u001b[0m \u001b[0mrow\u001b[0m \u001b[0;32min\u001b[0m \u001b[0mdf_ny\u001b[0m\u001b[0;34m.\u001b[0m\u001b[0mvalues\u001b[0m\u001b[0;34m.\u001b[0m\u001b[0mtolist\u001b[0m\u001b[0;34m(\u001b[0m\u001b[0;34m)\u001b[0m\u001b[0;34m:\u001b[0m\u001b[0;34m\u001b[0m\u001b[0;34m\u001b[0m\u001b[0m\n\u001b[1;32m      8\u001b[0m     \u001b[0mBorough\u001b[0m\u001b[0;34m,\u001b[0m \u001b[0mNeighborhood\u001b[0m\u001b[0;34m,\u001b[0m \u001b[0mLatitude\u001b[0m\u001b[0;34m,\u001b[0m \u001b[0mLongitude\u001b[0m\u001b[0;34m=\u001b[0m\u001b[0mrow\u001b[0m\u001b[0;34m\u001b[0m\u001b[0;34m\u001b[0m\u001b[0m\n\u001b[0;32m----> 9\u001b[0;31m     \u001b[0mvenues\u001b[0m \u001b[0;34m=\u001b[0m \u001b[0mget_venues\u001b[0m\u001b[0;34m(\u001b[0m\u001b[0mLatitude\u001b[0m\u001b[0;34m,\u001b[0m\u001b[0mLongitude\u001b[0m\u001b[0;34m)\u001b[0m\u001b[0;34m\u001b[0m\u001b[0;34m\u001b[0m\u001b[0m\n\u001b[0m\u001b[1;32m     10\u001b[0m     \u001b[0msteak_restaurants\u001b[0m\u001b[0;34m=\u001b[0m\u001b[0mvenues\u001b[0m\u001b[0;34m[\u001b[0m\u001b[0mvenues\u001b[0m\u001b[0;34m[\u001b[0m\u001b[0;34m'Category'\u001b[0m\u001b[0;34m]\u001b[0m\u001b[0;34m==\u001b[0m\u001b[0;34m'Steakhouse'\u001b[0m\u001b[0;34m]\u001b[0m\u001b[0;34m\u001b[0m\u001b[0;34m\u001b[0m\u001b[0m\n\u001b[1;32m     11\u001b[0m     \u001b[0;32mif\u001b[0m \u001b[0mlen\u001b[0m\u001b[0;34m(\u001b[0m\u001b[0msteak_restaurants\u001b[0m\u001b[0;34m)\u001b[0m \u001b[0;34m>\u001b[0m \u001b[0;36m0\u001b[0m\u001b[0;34m:\u001b[0m\u001b[0;34m\u001b[0m\u001b[0;34m\u001b[0m\u001b[0m\n",
      "\u001b[0;32m<ipython-input-293-5e2b754e32ba>\u001b[0m in \u001b[0;36mget_venues\u001b[0;34m(lat, lng)\u001b[0m\n\u001b[1;32m     18\u001b[0m     \u001b[0;31m# get all the data\u001b[0m\u001b[0;34m\u001b[0m\u001b[0;34m\u001b[0m\u001b[0;34m\u001b[0m\u001b[0m\n\u001b[1;32m     19\u001b[0m     \u001b[0mresults\u001b[0m \u001b[0;34m=\u001b[0m \u001b[0mrequests\u001b[0m\u001b[0;34m.\u001b[0m\u001b[0mget\u001b[0m\u001b[0;34m(\u001b[0m\u001b[0murl\u001b[0m\u001b[0;34m)\u001b[0m\u001b[0;34m.\u001b[0m\u001b[0mjson\u001b[0m\u001b[0;34m(\u001b[0m\u001b[0;34m)\u001b[0m\u001b[0;34m\u001b[0m\u001b[0;34m\u001b[0m\u001b[0m\n\u001b[0;32m---> 20\u001b[0;31m     \u001b[0mvenue_data\u001b[0m\u001b[0;34m=\u001b[0m\u001b[0mresults\u001b[0m\u001b[0;34m[\u001b[0m\u001b[0;34m\"response\"\u001b[0m\u001b[0;34m]\u001b[0m\u001b[0;34m[\u001b[0m\u001b[0;34m'groups'\u001b[0m\u001b[0;34m]\u001b[0m\u001b[0;34m[\u001b[0m\u001b[0;36m0\u001b[0m\u001b[0;34m]\u001b[0m\u001b[0;34m[\u001b[0m\u001b[0;34m'items'\u001b[0m\u001b[0;34m]\u001b[0m\u001b[0;34m\u001b[0m\u001b[0;34m\u001b[0m\u001b[0m\n\u001b[0m\u001b[1;32m     21\u001b[0m     \u001b[0mvenue_details\u001b[0m\u001b[0;34m=\u001b[0m\u001b[0;34m[\u001b[0m\u001b[0;34m]\u001b[0m\u001b[0;34m\u001b[0m\u001b[0;34m\u001b[0m\u001b[0m\n\u001b[1;32m     22\u001b[0m     \u001b[0;32mfor\u001b[0m \u001b[0mrow\u001b[0m \u001b[0;32min\u001b[0m \u001b[0mvenue_data\u001b[0m\u001b[0;34m:\u001b[0m\u001b[0;34m\u001b[0m\u001b[0;34m\u001b[0m\u001b[0m\n",
      "\u001b[0;31mKeyError\u001b[0m: 'groups'"
     ]
    }
   ],
   "source": [
    "# prepare neighborhood list that contains Steakhouse\n",
    "column_names=['Borough', 'Neighborhood', 'ID','Name']\n",
    "steak_rest_ny=pd.DataFrame(columns=column_names)\n",
    "\n",
    "print('Steakhouse in\\n---------------------')\n",
    "       \n",
    "for row in df_ny.values.tolist():\n",
    "    Borough, Neighborhood, Latitude, Longitude=row\n",
    "    venues = get_venues(Latitude,Longitude)\n",
    "    steak_restaurants=venues[venues['Category']=='Steakhouse']\n",
    "    if len(steak_restaurants) > 0:\n",
    "        print(Neighborhood+', '+Borough+' : '+str(len(steak_restaurants)))\n",
    "    for restaurant_detail in steak_restaurants.values.tolist():\n",
    "        id, name , category=restaurant_detail\n",
    "        steak_rest_ny = steak_rest_ny.append({'Borough': Borough,\n",
    "                                                'Neighborhood': Neighborhood, \n",
    "                                                'ID': id,\n",
    "                                                'Name' : name\n",
    "                                               }, ignore_index=True)\n",
    "\n",
    "print('Completed constructing the Steakhouse data set')"
   ]
  },
  {
   "cell_type": "code",
   "execution_count": 218,
   "metadata": {},
   "outputs": [
    {
     "data": {
      "text/html": [
       "<div>\n",
       "<style scoped>\n",
       "    .dataframe tbody tr th:only-of-type {\n",
       "        vertical-align: middle;\n",
       "    }\n",
       "\n",
       "    .dataframe tbody tr th {\n",
       "        vertical-align: top;\n",
       "    }\n",
       "\n",
       "    .dataframe thead th {\n",
       "        text-align: right;\n",
       "    }\n",
       "</style>\n",
       "<table border=\"1\" class=\"dataframe\">\n",
       "  <thead>\n",
       "    <tr style=\"text-align: right;\">\n",
       "      <th></th>\n",
       "      <th>Borough</th>\n",
       "      <th>Neighborhood</th>\n",
       "      <th>ID</th>\n",
       "      <th>Name</th>\n",
       "    </tr>\n",
       "  </thead>\n",
       "  <tbody>\n",
       "    <tr>\n",
       "      <th>0</th>\n",
       "      <td>Bronx</td>\n",
       "      <td>Wakefield</td>\n",
       "      <td>4eee2538e3002155944863d2</td>\n",
       "      <td>233 Meat Market</td>\n",
       "    </tr>\n",
       "    <tr>\n",
       "      <th>1</th>\n",
       "      <td>Bronx</td>\n",
       "      <td>Fieldston</td>\n",
       "      <td>46e6f285f964a520c94a1fe3</td>\n",
       "      <td>Jake’s Steakhouse</td>\n",
       "    </tr>\n",
       "    <tr>\n",
       "      <th>2</th>\n",
       "      <td>Bronx</td>\n",
       "      <td>Kingsbridge</td>\n",
       "      <td>4dfe40df8877333e195b68fc</td>\n",
       "      <td>Parrilla Latina</td>\n",
       "    </tr>\n",
       "    <tr>\n",
       "      <th>3</th>\n",
       "      <td>Manhattan</td>\n",
       "      <td>Marble Hill</td>\n",
       "      <td>4dfe40df8877333e195b68fc</td>\n",
       "      <td>Parrilla Latina</td>\n",
       "    </tr>\n",
       "    <tr>\n",
       "      <th>4</th>\n",
       "      <td>Bronx</td>\n",
       "      <td>Woodlawn</td>\n",
       "      <td>4eee2538e3002155944863d2</td>\n",
       "      <td>233 Meat Market</td>\n",
       "    </tr>\n",
       "  </tbody>\n",
       "</table>\n",
       "</div>"
      ],
      "text/plain": [
       "     Borough Neighborhood                        ID               Name\n",
       "0      Bronx    Wakefield  4eee2538e3002155944863d2    233 Meat Market\n",
       "1      Bronx    Fieldston  46e6f285f964a520c94a1fe3  Jake’s Steakhouse\n",
       "2      Bronx  Kingsbridge  4dfe40df8877333e195b68fc    Parrilla Latina\n",
       "3  Manhattan  Marble Hill  4dfe40df8877333e195b68fc    Parrilla Latina\n",
       "4      Bronx     Woodlawn  4eee2538e3002155944863d2    233 Meat Market"
      ]
     },
     "execution_count": 218,
     "metadata": {},
     "output_type": "execute_result"
    }
   ],
   "source": [
    "steak_rest_ny.head()"
   ]
  },
  {
   "cell_type": "code",
   "execution_count": 219,
   "metadata": {},
   "outputs": [
    {
     "data": {
      "text/plain": [
       "(49, 4)"
      ]
     },
     "execution_count": 219,
     "metadata": {},
     "output_type": "execute_result"
    }
   ],
   "source": [
    "steak_rest_ny.shape"
   ]
  },
  {
   "cell_type": "code",
   "execution_count": 136,
   "metadata": {},
   "outputs": [
    {
     "data": {
      "image/png": "[encoded data removed]",
      "text/plain": [
       "<Figure size 540x540 with 1 Axes>"
      ]
     },
     "metadata": {
      "needs_background": "light"
     },
     "output_type": "display_data"
    }
   ],
   "source": [
    "plt.figure(figsize=(6,6), dpi = 90)\n",
    "# title\n",
    "plt.title('Number of Steakhouses for each Borough in New York City')\n",
    "#On x-axis\n",
    "plt.xlabel('Borough', fontsize = 15)\n",
    "#On y-axis\n",
    "plt.ylabel('No.of Steakhouse', fontsize=15)\n",
    "#giving a bar plot\n",
    "steak_rest_ny.groupby('Borough')['ID'].count().plot(kind='bar', color='#D15FEE')\n",
    "#legend\n",
    "plt.legend()\n",
    "#displays the plot\n",
    "plt.show()"
   ]
  },
  {
   "cell_type": "code",
   "execution_count": 137,
   "metadata": {},
   "outputs": [
    {
     "name": "stdout",
     "output_type": "stream",
     "text": [
      "Empty DataFrame\n",
      "Columns: [ID, Name, Likes, Rating, Tips]\n",
      "Index: []\n",
      "No data available for id= 4eee2538e3002155944863d2\n",
      "( 1 / 50 ) processed\n",
      "                         ID               Name  Likes  Rating  Tips\n",
      "0  46e6f285f964a520c94a1fe3  Jake’s Steakhouse     64     7.9    29\n",
      "( 2 / 50 ) processed\n",
      "                         ID             Name  Likes  Rating  Tips\n",
      "0  4dfe40df8877333e195b68fc  Parrilla Latina      8     6.8     6\n",
      "( 3 / 50 ) processed\n",
      "                         ID             Name  Likes  Rating  Tips\n",
      "0  4dfe40df8877333e195b68fc  Parrilla Latina      8     6.8     6\n",
      "( 4 / 50 ) processed\n",
      "Empty DataFrame\n",
      "Columns: [ID, Name, Likes, Rating, Tips]\n",
      "Index: []\n",
      "No data available for id= 4eee2538e3002155944863d2\n",
      "( 5 / 50 ) processed\n",
      "                         ID                Name  Likes  Rating  Tips\n",
      "0  560afe74498ec5e1b97a21a1  Outback Steakhouse     19     7.1     1\n",
      "( 6 / 50 ) processed\n",
      "                         ID       Name  Likes  Rating  Tips\n",
      "0  4c0fd7a6f1b6a593b1ee7a27  NYY STEAK     41     8.0    12\n",
      "( 7 / 50 ) processed\n",
      "                         ID          Name  Likes  Rating  Tips\n",
      "0  53dd7aaf498e6dfaddd17fcb  Don Pancho's     12     8.4     3\n",
      "( 8 / 50 ) processed\n",
      "                         ID             Name  Likes  Rating  Tips\n",
      "0  5143b9f9e4b01d5368033af2  3363 SteakHouse      3     6.2     5\n",
      "( 9 / 50 ) processed\n",
      "                         ID                         Name  Likes  Rating  Tips\n",
      "0  50199599011cecae1f8b8968  Moldova Restaurant Brooklyn     24     7.4    12\n",
      "( 10 / 50 ) processed\n",
      "                         ID                 Name  Likes  Rating  Tips\n",
      "0  4ca8fc98b0b8236af023b9e6  The Loft Steakhouse      8     7.9     5\n",
      "( 11 / 50 ) processed\n",
      "                         ID                     Name  Likes  Rating  Tips\n",
      "0  3fd66200f964a5209beb1ee3  Peter Luger Steak House   1955     8.7   676\n",
      "( 12 / 50 ) processed\n",
      "                         ID                Name  Likes  Rating  Tips\n",
      "0  54c745d6498ef486aa010b26  Outback Steakhouse     70     8.1    12\n",
      "( 13 / 50 ) processed\n",
      "                         ID             Name  Likes  Rating  Tips\n",
      "0  4b7f505af964a520e92630e3  The Living Room     26     6.9    17\n",
      "( 14 / 50 ) processed\n",
      "                         ID                 Name  Likes  Rating  Tips\n",
      "0  4ca8fc98b0b8236af023b9e6  The Loft Steakhouse      8     7.9     5\n",
      "( 15 / 50 ) processed\n",
      "                         ID                 Name  Likes  Rating  Tips\n",
      "0  4baacdddf964a52099873ae3  T Fusion Steakhouse     13     7.3     5\n",
      "( 16 / 50 ) processed\n",
      "                         ID                     Name  Likes  Rating  Tips\n",
      "0  3fd66200f964a5209beb1ee3  Peter Luger Steak House   1955     8.7   676\n",
      "( 17 / 50 ) processed\n",
      "                         ID                         Name  Likes  Rating  Tips\n",
      "0  50199599011cecae1f8b8968  Moldova Restaurant Brooklyn     24     7.4    12\n",
      "( 18 / 50 ) processed\n",
      "                         ID                      Name  Likes  Rating  Tips\n",
      "0  4e1637696284b506cfd7e1e3  Mabat Steak House Kosher      5     7.5     4\n",
      "( 19 / 50 ) processed\n",
      "                         ID                        Name  Likes  Rating  Tips\n",
      "0  4bd3644da8b3a593abe3695f  Hunter's Steak & Ale House     35     8.2    18\n",
      "( 20 / 50 ) processed\n",
      "                         ID               Name  Likes  Rating  Tips\n",
      "0  4ad1418ff964a520b9dd20e3  Embers Steakhouse     27     7.1    14\n",
      "( 21 / 50 ) processed\n",
      "                         ID                 Name  Likes  Rating  Tips\n",
      "0  4ad90e1df964a520981721e3  Ricardo Steak House    173     8.6    85\n",
      "( 22 / 50 ) processed\n",
      "                         ID                 Name  Likes  Rating  Tips\n",
      "0  4a303b23f964a52038991fe3  Benjamin Steakhouse    290     8.6   102\n",
      "( 23 / 50 ) processed\n",
      "                         ID                                  Name  Likes  \\\n",
      "0  4b0c24fef964a520be3723e3  Del Frisco's Double Eagle Steakhouse   1097   \n",
      "\n",
      "   Rating  Tips  \n",
      "0     8.8   337  \n",
      "( 24 / 50 ) processed\n",
      "                         ID              Name  Likes  Rating  Tips\n",
      "0  3fd66200f964a52042e31ee3  Keens Steakhouse   1345     8.8   469\n",
      "( 25 / 50 ) processed\n",
      "                         ID                   Name  Likes  Rating  Tips\n",
      "0  4f9ab1dbd4f2465542bc6750  Wolfgang's Steakhouse    380     8.8   142\n",
      "( 26 / 50 ) processed\n",
      "                         ID                 Name  Likes  Rating  Tips\n",
      "0  4a303b23f964a52038991fe3  Benjamin Steakhouse    290     8.6   102\n",
      "( 27 / 50 ) processed\n",
      "                         ID                   Name  Likes  Rating  Tips\n",
      "0  4a6b17bff964a520fdcd1fe3  Wolfgang's Steakhouse    245     8.7    76\n",
      "( 28 / 50 ) processed\n",
      "                         ID          Name  Likes  Rating  Tips\n",
      "0  52371fef11d2fa11b58c6057  American Cut    257     8.2    96\n",
      "( 29 / 50 ) processed\n",
      "                         ID      Name  Likes  Rating  Tips\n",
      "0  4a565991f964a5200bb51fe3  The Palm    107     8.4    57\n",
      "( 30 / 50 ) processed\n",
      "                         ID              Name  Likes  Rating  Tips\n",
      "0  4f32037a19833175d609bce1  The Beatrice Inn    252     8.8    67\n",
      "( 31 / 50 ) processed\n",
      "                         ID                 Name  Likes  Rating  Tips\n",
      "0  585164b77220e62219c9aeb6  4 Charles Prime Rib    217     9.3    57\n",
      "( 32 / 50 ) processed\n",
      "                         ID                     Name  Likes  Rating  Tips\n",
      "0  51cac19e498e1f28926b8a8d  Morton's The Steakhouse     96     8.3    34\n",
      "( 33 / 50 ) processed\n",
      "                         ID      Name  Likes  Rating  Tips\n",
      "0  4a565991f964a5200bb51fe3  The Palm    107     8.4    57\n",
      "( 34 / 50 ) processed\n",
      "                         ID         Name  Likes  Rating  Tips\n",
      "0  3fd66200f964a520e6e81ee3  Delmonico's    398     8.4   133\n",
      "( 35 / 50 ) processed\n",
      "                         ID                    Name  Likes  Rating  Tips\n",
      "0  4ab27744f964a520486b20e3  Harry's Cafe and Steak    278     8.4   122\n",
      "( 36 / 50 ) processed\n",
      "                         ID                     Name  Likes  Rating  Tips\n",
      "0  51cac19e498e1f28926b8a8d  Morton's The Steakhouse     96     8.3    34\n",
      "( 37 / 50 ) processed\n",
      "                         ID                 Name  Likes  Rating  Tips\n",
      "0  521d617c11d2d3f4edb81926  M. Wells Steakhouse    153     7.8    72\n",
      "( 38 / 50 ) processed\n",
      "                         ID                                 Name  Likes  \\\n",
      "0  538a5ea1498e264f18c7c06b  Danny's French Cuisine & Steak 法式料理      8   \n",
      "\n",
      "   Rating  Tips  \n",
      "0     6.7     2  \n",
      "( 39 / 50 ) processed\n",
      "                         ID                     Name  Likes  Rating  Tips\n",
      "0  4b670a92f964a5207a362be3  Uncle Jack's Steakhouse     66     8.5    23\n",
      "( 40 / 50 ) processed\n",
      "Empty DataFrame\n",
      "Columns: [ID, Name, Likes, Rating, Tips]\n",
      "Index: []\n",
      "No data available for id= 4f614744e4b011d850782b65\n",
      "( 41 / 50 ) processed\n",
      "                         ID                 Name  Likes  Rating  Tips\n",
      "0  4b51152cf964a520694127e3  Christos Steakhouse     56     8.1    27\n",
      "( 42 / 50 ) processed\n",
      "                         ID                Name  Likes  Rating  Tips\n",
      "0  4ba40485f964a5203b7838e3  Outback Steakhouse     55     6.0    28\n",
      "( 43 / 50 ) processed\n",
      "                         ID                 Name  Likes  Rating  Tips\n",
      "0  54059452498ed907859777ea  LongHorn Steakhouse     79     7.2    16\n",
      "( 44 / 50 ) processed\n",
      "                         ID                          Name  Likes  Rating  Tips\n",
      "0  4c707a36df6b8cfae192b84d  Belle Harbor Steak & Seafood     27     8.7    16\n",
      "( 45 / 50 ) processed\n",
      "                         ID                                Name  Likes  \\\n",
      "0  4edad2470e011b46eef9af05  Ruddy & Dean North Shore Steak Co.      5   \n",
      "\n",
      "   Rating  Tips  \n",
      "0     6.7     2  \n",
      "( 46 / 50 ) processed\n",
      "                         ID                                Name  Likes  \\\n",
      "0  4edad2470e011b46eef9af05  Ruddy & Dean North Shore Steak Co.      5   \n",
      "\n",
      "   Rating  Tips  \n",
      "0     6.7     2  \n",
      "( 47 / 50 ) processed\n",
      "                         ID                       Name  Likes  Rating  Tips\n",
      "0  4bb7cd827421a593c715c140  West Shore Inn Steakhouse     27     7.9    19\n",
      "( 48 / 50 ) processed\n",
      "                         ID                                Name  Likes  \\\n",
      "0  4edad2470e011b46eef9af05  Ruddy & Dean North Shore Steak Co.      5   \n",
      "\n",
      "   Rating  Tips  \n",
      "0     6.7     2  \n",
      "( 49 / 50 ) processed\n",
      "                         ID             Name  Likes  Rating  Tips\n",
      "0  4b637d14f964a520c37d2ae3  South Fin Grill     30     6.6    17\n",
      "( 50 / 50 ) processed\n"
     ]
    }
   ],
   "source": [
    "# prepare neighborhood list that contains steakhouse\n",
    "column_names=['Borough', 'Neighborhood', 'ID','Name','Likes','Rating','Tips']\n",
    "steak_rest_stats_ny=pd.DataFrame(columns=column_names)\n",
    "count=1\n",
    "\n",
    "\n",
    "for row in steak_rest_ny.values.tolist():\n",
    "    Borough,Neighborhood,ID,Name=row\n",
    "    try:\n",
    "        venue_details=get_venue_details(ID)\n",
    "        print(venue_details)\n",
    "        id,name,likes,rating,tips=venue_details.values.tolist()[0]\n",
    "    except IndexError:\n",
    "        print('No data available for id=',ID)\n",
    "        # we will assign 0 value for these resturants as they may have been \n",
    "        #recently opened or details does not exist in FourSquare Database\n",
    "        id,name,likes,rating,tips=[0]*5\n",
    "    print('(',count,'/',len(steak_rest_ny),')','processed')\n",
    "    steak_rest_stats_ny = steak_rest_stats_ny.append({'Borough': Borough,\n",
    "                                                'Neighborhood': Neighborhood, \n",
    "                                                'ID': id,\n",
    "                                                'Name' : name,\n",
    "                                                'Likes' : likes,\n",
    "                                                'Rating' : rating,\n",
    "                                                'Tips' : tips\n",
    "                                               }, ignore_index=True)\n",
    "    count+=1"
   ]
  },
  {
   "cell_type": "code",
   "execution_count": 138,
   "metadata": {},
   "outputs": [
    {
     "data": {
      "text/html": [
       "<div>\n",
       "<style scoped>\n",
       "    .dataframe tbody tr th:only-of-type {\n",
       "        vertical-align: middle;\n",
       "    }\n",
       "\n",
       "    .dataframe tbody tr th {\n",
       "        vertical-align: top;\n",
       "    }\n",
       "\n",
       "    .dataframe thead th {\n",
       "        text-align: right;\n",
       "    }\n",
       "</style>\n",
       "<table border=\"1\" class=\"dataframe\">\n",
       "  <thead>\n",
       "    <tr style=\"text-align: right;\">\n",
       "      <th></th>\n",
       "      <th>Borough</th>\n",
       "      <th>Neighborhood</th>\n",
       "      <th>ID</th>\n",
       "      <th>Name</th>\n",
       "      <th>Likes</th>\n",
       "      <th>Rating</th>\n",
       "      <th>Tips</th>\n",
       "    </tr>\n",
       "  </thead>\n",
       "  <tbody>\n",
       "    <tr>\n",
       "      <th>0</th>\n",
       "      <td>Bronx</td>\n",
       "      <td>Wakefield</td>\n",
       "      <td>0</td>\n",
       "      <td>0</td>\n",
       "      <td>0</td>\n",
       "      <td>0</td>\n",
       "      <td>0</td>\n",
       "    </tr>\n",
       "    <tr>\n",
       "      <th>1</th>\n",
       "      <td>Bronx</td>\n",
       "      <td>Fieldston</td>\n",
       "      <td>46e6f285f964a520c94a1fe3</td>\n",
       "      <td>Jake’s Steakhouse</td>\n",
       "      <td>64</td>\n",
       "      <td>7.9</td>\n",
       "      <td>29</td>\n",
       "    </tr>\n",
       "    <tr>\n",
       "      <th>2</th>\n",
       "      <td>Bronx</td>\n",
       "      <td>Kingsbridge</td>\n",
       "      <td>4dfe40df8877333e195b68fc</td>\n",
       "      <td>Parrilla Latina</td>\n",
       "      <td>8</td>\n",
       "      <td>6.8</td>\n",
       "      <td>6</td>\n",
       "    </tr>\n",
       "    <tr>\n",
       "      <th>3</th>\n",
       "      <td>Manhattan</td>\n",
       "      <td>Marble Hill</td>\n",
       "      <td>4dfe40df8877333e195b68fc</td>\n",
       "      <td>Parrilla Latina</td>\n",
       "      <td>8</td>\n",
       "      <td>6.8</td>\n",
       "      <td>6</td>\n",
       "    </tr>\n",
       "    <tr>\n",
       "      <th>4</th>\n",
       "      <td>Bronx</td>\n",
       "      <td>Woodlawn</td>\n",
       "      <td>0</td>\n",
       "      <td>0</td>\n",
       "      <td>0</td>\n",
       "      <td>0</td>\n",
       "      <td>0</td>\n",
       "    </tr>\n",
       "  </tbody>\n",
       "</table>\n",
       "</div>"
      ],
      "text/plain": [
       "     Borough Neighborhood                        ID               Name Likes  \\\n",
       "0      Bronx    Wakefield                         0                  0     0   \n",
       "1      Bronx    Fieldston  46e6f285f964a520c94a1fe3  Jake’s Steakhouse    64   \n",
       "2      Bronx  Kingsbridge  4dfe40df8877333e195b68fc    Parrilla Latina     8   \n",
       "3  Manhattan  Marble Hill  4dfe40df8877333e195b68fc    Parrilla Latina     8   \n",
       "4      Bronx     Woodlawn                         0                  0     0   \n",
       "\n",
       "  Rating Tips  \n",
       "0      0    0  \n",
       "1    7.9   29  \n",
       "2    6.8    6  \n",
       "3    6.8    6  \n",
       "4      0    0  "
      ]
     },
     "execution_count": 138,
     "metadata": {},
     "output_type": "execute_result"
    }
   ],
   "source": [
    "steak_rest_stats_ny.head()"
   ]
  },
  {
   "cell_type": "code",
   "execution_count": 164,
   "metadata": {},
   "outputs": [],
   "source": [
    "steak_rest_ny.to_csv('steak_rest_ny.csv', index=False)"
   ]
  },
  {
   "cell_type": "code",
   "execution_count": 165,
   "metadata": {},
   "outputs": [],
   "source": [
    "steak_rest_ny_csv=pd.read_csv('steak_rest_ny.csv')"
   ]
  },
  {
   "cell_type": "code",
   "execution_count": 166,
   "metadata": {},
   "outputs": [
    {
     "data": {
      "text/html": [
       "<div>\n",
       "<style scoped>\n",
       "    .dataframe tbody tr th:only-of-type {\n",
       "        vertical-align: middle;\n",
       "    }\n",
       "\n",
       "    .dataframe tbody tr th {\n",
       "        vertical-align: top;\n",
       "    }\n",
       "\n",
       "    .dataframe thead th {\n",
       "        text-align: right;\n",
       "    }\n",
       "</style>\n",
       "<table border=\"1\" class=\"dataframe\">\n",
       "  <thead>\n",
       "    <tr style=\"text-align: right;\">\n",
       "      <th></th>\n",
       "      <th>Borough</th>\n",
       "      <th>Neighborhood</th>\n",
       "      <th>ID</th>\n",
       "      <th>Name</th>\n",
       "    </tr>\n",
       "  </thead>\n",
       "  <tbody>\n",
       "    <tr>\n",
       "      <th>0</th>\n",
       "      <td>Bronx</td>\n",
       "      <td>Wakefield</td>\n",
       "      <td>4eee2538e3002155944863d2</td>\n",
       "      <td>233 Meat Market</td>\n",
       "    </tr>\n",
       "    <tr>\n",
       "      <th>1</th>\n",
       "      <td>Bronx</td>\n",
       "      <td>Fieldston</td>\n",
       "      <td>46e6f285f964a520c94a1fe3</td>\n",
       "      <td>Jake’s Steakhouse</td>\n",
       "    </tr>\n",
       "    <tr>\n",
       "      <th>2</th>\n",
       "      <td>Bronx</td>\n",
       "      <td>Kingsbridge</td>\n",
       "      <td>4dfe40df8877333e195b68fc</td>\n",
       "      <td>Parrilla Latina</td>\n",
       "    </tr>\n",
       "    <tr>\n",
       "      <th>3</th>\n",
       "      <td>Manhattan</td>\n",
       "      <td>Marble Hill</td>\n",
       "      <td>4dfe40df8877333e195b68fc</td>\n",
       "      <td>Parrilla Latina</td>\n",
       "    </tr>\n",
       "    <tr>\n",
       "      <th>4</th>\n",
       "      <td>Bronx</td>\n",
       "      <td>Woodlawn</td>\n",
       "      <td>4eee2538e3002155944863d2</td>\n",
       "      <td>233 Meat Market</td>\n",
       "    </tr>\n",
       "  </tbody>\n",
       "</table>\n",
       "</div>"
      ],
      "text/plain": [
       "     Borough Neighborhood                        ID               Name\n",
       "0      Bronx    Wakefield  4eee2538e3002155944863d2    233 Meat Market\n",
       "1      Bronx    Fieldston  46e6f285f964a520c94a1fe3  Jake’s Steakhouse\n",
       "2      Bronx  Kingsbridge  4dfe40df8877333e195b68fc    Parrilla Latina\n",
       "3  Manhattan  Marble Hill  4dfe40df8877333e195b68fc    Parrilla Latina\n",
       "4      Bronx     Woodlawn  4eee2538e3002155944863d2    233 Meat Market"
      ]
     },
     "execution_count": 166,
     "metadata": {},
     "output_type": "execute_result"
    }
   ],
   "source": [
    "steak_rest_ny_csv.head()"
   ]
  },
  {
   "cell_type": "code",
   "execution_count": 167,
   "metadata": {},
   "outputs": [
    {
     "data": {
      "text/plain": [
       "(50, 7)"
      ]
     },
     "execution_count": 167,
     "metadata": {},
     "output_type": "execute_result"
    }
   ],
   "source": [
    "steak_rest_stats_ny.shape"
   ]
  },
  {
   "cell_type": "code",
   "execution_count": 168,
   "metadata": {},
   "outputs": [
    {
     "name": "stdout",
     "output_type": "stream",
     "text": [
      "<class 'pandas.core.frame.DataFrame'>\n",
      "RangeIndex: 50 entries, 0 to 49\n",
      "Data columns (total 7 columns):\n",
      " #   Column        Non-Null Count  Dtype  \n",
      "---  ------        --------------  -----  \n",
      " 0   Borough       50 non-null     object \n",
      " 1   Neighborhood  50 non-null     object \n",
      " 2   ID            50 non-null     object \n",
      " 3   Name          50 non-null     object \n",
      " 4   Likes         50 non-null     float64\n",
      " 5   Rating        50 non-null     float64\n",
      " 6   Tips          50 non-null     float64\n",
      "dtypes: float64(3), object(4)\n",
      "memory usage: 2.9+ KB\n"
     ]
    }
   ],
   "source": [
    "steak_rest_stats_ny.info()"
   ]
  },
  {
   "cell_type": "code",
   "execution_count": 169,
   "metadata": {},
   "outputs": [
    {
     "name": "stdout",
     "output_type": "stream",
     "text": [
      "<class 'pandas.core.frame.DataFrame'>\n",
      "RangeIndex: 50 entries, 0 to 49\n",
      "Data columns (total 7 columns):\n",
      " #   Column        Non-Null Count  Dtype  \n",
      "---  ------        --------------  -----  \n",
      " 0   Borough       50 non-null     object \n",
      " 1   Neighborhood  50 non-null     object \n",
      " 2   ID            50 non-null     object \n",
      " 3   Name          50 non-null     object \n",
      " 4   Likes         50 non-null     float64\n",
      " 5   Rating        50 non-null     float64\n",
      " 6   Tips          50 non-null     float64\n",
      "dtypes: float64(3), object(4)\n",
      "memory usage: 2.9+ KB\n"
     ]
    }
   ],
   "source": [
    "convert_types = {'Likes': float,'Rating': float,'Tips': float}\n",
    "steak_rest_stats_ny = steak_rest_stats_ny.astype(convert_types)\n",
    "steak_rest_stats_ny.info()"
   ]
  },
  {
   "cell_type": "code",
   "execution_count": 170,
   "metadata": {},
   "outputs": [
    {
     "data": {
      "text/plain": [
       "Borough                         Brooklyn\n",
       "Neighborhood                Williamsburg\n",
       "ID              3fd66200f964a5209beb1ee3\n",
       "Name             Peter Luger Steak House\n",
       "Likes                               1955\n",
       "Rating                               8.7\n",
       "Tips                                 676\n",
       "Name: 11, dtype: object"
      ]
     },
     "execution_count": 170,
     "metadata": {},
     "output_type": "execute_result"
    }
   ],
   "source": [
    "steak_rest_stats_ny.iloc[steak_rest_stats_ny['Likes'].idxmax()]"
   ]
  },
  {
   "cell_type": "code",
   "execution_count": 171,
   "metadata": {},
   "outputs": [
    {
     "data": {
      "text/plain": [
       "Borough                        Manhattan\n",
       "Neighborhood                West Village\n",
       "ID              585164b77220e62219c9aeb6\n",
       "Name                 4 Charles Prime Rib\n",
       "Likes                                217\n",
       "Rating                               9.3\n",
       "Tips                                  57\n",
       "Name: 31, dtype: object"
      ]
     },
     "execution_count": 171,
     "metadata": {},
     "output_type": "execute_result"
    }
   ],
   "source": [
    "steak_rest_stats_ny.iloc[steak_rest_stats_ny['Rating'].idxmax()]"
   ]
  },
  {
   "cell_type": "code",
   "execution_count": 172,
   "metadata": {},
   "outputs": [
    {
     "data": {
      "text/plain": [
       "Borough                         Brooklyn\n",
       "Neighborhood                Williamsburg\n",
       "ID              3fd66200f964a5209beb1ee3\n",
       "Name             Peter Luger Steak House\n",
       "Likes                               1955\n",
       "Rating                               8.7\n",
       "Tips                                 676\n",
       "Name: 11, dtype: object"
      ]
     },
     "execution_count": 172,
     "metadata": {},
     "output_type": "execute_result"
    }
   ],
   "source": [
    "steak_rest_stats_ny.iloc[steak_rest_stats_ny['Tips'].idxmax()]"
   ]
  },
  {
   "cell_type": "code",
   "execution_count": 173,
   "metadata": {},
   "outputs": [],
   "source": [
    "ny_borough_stats=steak_rest_stats_ny.groupby('Borough',as_index=False).mean()[['Borough','Rating']]\n",
    "ny_borough_stats.columns=['Borough','Average Rating']"
   ]
  },
  {
   "cell_type": "code",
   "execution_count": 174,
   "metadata": {},
   "outputs": [
    {
     "data": {
      "text/html": [
       "<div>\n",
       "<style scoped>\n",
       "    .dataframe tbody tr th:only-of-type {\n",
       "        vertical-align: middle;\n",
       "    }\n",
       "\n",
       "    .dataframe tbody tr th {\n",
       "        vertical-align: top;\n",
       "    }\n",
       "\n",
       "    .dataframe thead th {\n",
       "        text-align: right;\n",
       "    }\n",
       "</style>\n",
       "<table border=\"1\" class=\"dataframe\">\n",
       "  <thead>\n",
       "    <tr style=\"text-align: right;\">\n",
       "      <th></th>\n",
       "      <th>Borough</th>\n",
       "      <th>Average Rating</th>\n",
       "    </tr>\n",
       "  </thead>\n",
       "  <tbody>\n",
       "    <tr>\n",
       "      <th>2</th>\n",
       "      <td>Manhattan</td>\n",
       "      <td>8.482353</td>\n",
       "    </tr>\n",
       "    <tr>\n",
       "      <th>1</th>\n",
       "      <td>Brooklyn</td>\n",
       "      <td>7.758333</td>\n",
       "    </tr>\n",
       "    <tr>\n",
       "      <th>4</th>\n",
       "      <td>Staten Island</td>\n",
       "      <td>6.920000</td>\n",
       "    </tr>\n",
       "    <tr>\n",
       "      <th>3</th>\n",
       "      <td>Queens</td>\n",
       "      <td>6.625000</td>\n",
       "    </tr>\n",
       "    <tr>\n",
       "      <th>0</th>\n",
       "      <td>Bronx</td>\n",
       "      <td>5.550000</td>\n",
       "    </tr>\n",
       "  </tbody>\n",
       "</table>\n",
       "</div>"
      ],
      "text/plain": [
       "         Borough  Average Rating\n",
       "2      Manhattan        8.482353\n",
       "1       Brooklyn        7.758333\n",
       "4  Staten Island        6.920000\n",
       "3         Queens        6.625000\n",
       "0          Bronx        5.550000"
      ]
     },
     "execution_count": 174,
     "metadata": {},
     "output_type": "execute_result"
    }
   ],
   "source": [
    "ny_borough_stats.sort_values(['Average Rating'],ascending=False).head()"
   ]
  },
  {
   "cell_type": "code",
   "execution_count": 175,
   "metadata": {},
   "outputs": [
    {
     "data": {
      "image/png": "[encoded data removed]",
      "text/plain": [
       "<Figure size 540x450 with 1 Axes>"
      ]
     },
     "metadata": {
      "needs_background": "light"
     },
     "output_type": "display_data"
    }
   ],
   "source": [
    "plt.figure(figsize=(6,5), dpi = 90)\n",
    "# title\n",
    "plt.title('Average rating of Steakhouses for each Borough')\n",
    "#On x-axis\n",
    "plt.ylabel('Borough', fontsize = 12)\n",
    "#On y-axis\n",
    "plt.xlabel('Average Rating', fontsize=12)\n",
    "#giving a bar plot\n",
    "steak_rest_stats_ny.groupby('Borough').mean()['Rating'].plot(kind='barh', color='#FF6A6A')\n",
    "#legend\n",
    "plt.legend()\n",
    "#displays the plot\n",
    "plt.gca().invert_yaxis()\n",
    "plt.show()"
   ]
  },
  {
   "cell_type": "code",
   "execution_count": 176,
   "metadata": {},
   "outputs": [],
   "source": [
    "ny_neighborhood_stats=steak_rest_stats_ny.groupby('Neighborhood',as_index=False).mean()[['Neighborhood','Rating']]\n",
    "ny_neighborhood_stats.columns=['Neighborhood','Average Rating']"
   ]
  },
  {
   "cell_type": "code",
   "execution_count": 177,
   "metadata": {},
   "outputs": [],
   "source": [
    "ny_neighborhood_stats=ny_neighborhood_stats[ny_neighborhood_stats['Average Rating']>=8.5]"
   ]
  },
  {
   "cell_type": "code",
   "execution_count": 178,
   "metadata": {},
   "outputs": [
    {
     "data": {
      "text/html": [
       "<div>\n",
       "<style scoped>\n",
       "    .dataframe tbody tr th:only-of-type {\n",
       "        vertical-align: middle;\n",
       "    }\n",
       "\n",
       "    .dataframe tbody tr th {\n",
       "        vertical-align: top;\n",
       "    }\n",
       "\n",
       "    .dataframe thead th {\n",
       "        text-align: right;\n",
       "    }\n",
       "</style>\n",
       "<table border=\"1\" class=\"dataframe\">\n",
       "  <thead>\n",
       "    <tr style=\"text-align: right;\">\n",
       "      <th></th>\n",
       "      <th>Neighborhood</th>\n",
       "      <th>Average Rating</th>\n",
       "    </tr>\n",
       "  </thead>\n",
       "  <tbody>\n",
       "    <tr>\n",
       "      <th>5</th>\n",
       "      <td>Bayside</td>\n",
       "      <td>8.500000</td>\n",
       "    </tr>\n",
       "    <tr>\n",
       "      <th>8</th>\n",
       "      <td>East Harlem</td>\n",
       "      <td>8.600000</td>\n",
       "    </tr>\n",
       "    <tr>\n",
       "      <th>20</th>\n",
       "      <td>Midtown</td>\n",
       "      <td>8.733333</td>\n",
       "    </tr>\n",
       "    <tr>\n",
       "      <th>22</th>\n",
       "      <td>Murray Hill</td>\n",
       "      <td>8.700000</td>\n",
       "    </tr>\n",
       "    <tr>\n",
       "      <th>26</th>\n",
       "      <td>Rockaway Park</td>\n",
       "      <td>8.700000</td>\n",
       "    </tr>\n",
       "    <tr>\n",
       "      <th>28</th>\n",
       "      <td>South Side</td>\n",
       "      <td>8.700000</td>\n",
       "    </tr>\n",
       "    <tr>\n",
       "      <th>36</th>\n",
       "      <td>West Village</td>\n",
       "      <td>9.050000</td>\n",
       "    </tr>\n",
       "    <tr>\n",
       "      <th>37</th>\n",
       "      <td>Williamsburg</td>\n",
       "      <td>8.700000</td>\n",
       "    </tr>\n",
       "  </tbody>\n",
       "</table>\n",
       "</div>"
      ],
      "text/plain": [
       "     Neighborhood  Average Rating\n",
       "5         Bayside        8.500000\n",
       "8     East Harlem        8.600000\n",
       "20        Midtown        8.733333\n",
       "22    Murray Hill        8.700000\n",
       "26  Rockaway Park        8.700000\n",
       "28     South Side        8.700000\n",
       "36   West Village        9.050000\n",
       "37   Williamsburg        8.700000"
      ]
     },
     "execution_count": 178,
     "metadata": {},
     "output_type": "execute_result"
    }
   ],
   "source": [
    "ny_neighborhood_stats"
   ]
  },
  {
   "cell_type": "code",
   "execution_count": 179,
   "metadata": {},
   "outputs": [],
   "source": [
    "ny_neighborhood_stats=pd.merge(ny_neighborhood_stats,df_ny, on='Neighborhood')"
   ]
  },
  {
   "cell_type": "code",
   "execution_count": 180,
   "metadata": {},
   "outputs": [],
   "source": [
    "ny_neighborhood_stats=ny_neighborhood_stats[['Borough','Neighborhood','Latitude','Longitude','Average Rating']]"
   ]
  },
  {
   "cell_type": "code",
   "execution_count": 181,
   "metadata": {},
   "outputs": [
    {
     "data": {
      "text/html": [
       "<div>\n",
       "<style scoped>\n",
       "    .dataframe tbody tr th:only-of-type {\n",
       "        vertical-align: middle;\n",
       "    }\n",
       "\n",
       "    .dataframe tbody tr th {\n",
       "        vertical-align: top;\n",
       "    }\n",
       "\n",
       "    .dataframe thead th {\n",
       "        text-align: right;\n",
       "    }\n",
       "</style>\n",
       "<table border=\"1\" class=\"dataframe\">\n",
       "  <thead>\n",
       "    <tr style=\"text-align: right;\">\n",
       "      <th></th>\n",
       "      <th>Borough</th>\n",
       "      <th>Neighborhood</th>\n",
       "      <th>Latitude</th>\n",
       "      <th>Longitude</th>\n",
       "      <th>Average Rating</th>\n",
       "    </tr>\n",
       "  </thead>\n",
       "  <tbody>\n",
       "    <tr>\n",
       "      <th>0</th>\n",
       "      <td>Queens</td>\n",
       "      <td>Bayside</td>\n",
       "      <td>40.766041</td>\n",
       "      <td>-73.774274</td>\n",
       "      <td>8.500000</td>\n",
       "    </tr>\n",
       "    <tr>\n",
       "      <th>1</th>\n",
       "      <td>Manhattan</td>\n",
       "      <td>East Harlem</td>\n",
       "      <td>40.792249</td>\n",
       "      <td>-73.944182</td>\n",
       "      <td>8.600000</td>\n",
       "    </tr>\n",
       "    <tr>\n",
       "      <th>2</th>\n",
       "      <td>Manhattan</td>\n",
       "      <td>Midtown</td>\n",
       "      <td>40.754691</td>\n",
       "      <td>-73.981669</td>\n",
       "      <td>8.733333</td>\n",
       "    </tr>\n",
       "    <tr>\n",
       "      <th>3</th>\n",
       "      <td>Manhattan</td>\n",
       "      <td>Murray Hill</td>\n",
       "      <td>40.748303</td>\n",
       "      <td>-73.978332</td>\n",
       "      <td>8.700000</td>\n",
       "    </tr>\n",
       "    <tr>\n",
       "      <th>4</th>\n",
       "      <td>Queens</td>\n",
       "      <td>Murray Hill</td>\n",
       "      <td>40.764126</td>\n",
       "      <td>-73.812763</td>\n",
       "      <td>8.700000</td>\n",
       "    </tr>\n",
       "    <tr>\n",
       "      <th>5</th>\n",
       "      <td>Queens</td>\n",
       "      <td>Rockaway Park</td>\n",
       "      <td>40.580343</td>\n",
       "      <td>-73.841534</td>\n",
       "      <td>8.700000</td>\n",
       "    </tr>\n",
       "    <tr>\n",
       "      <th>6</th>\n",
       "      <td>Brooklyn</td>\n",
       "      <td>South Side</td>\n",
       "      <td>40.710861</td>\n",
       "      <td>-73.958001</td>\n",
       "      <td>8.700000</td>\n",
       "    </tr>\n",
       "    <tr>\n",
       "      <th>7</th>\n",
       "      <td>Manhattan</td>\n",
       "      <td>West Village</td>\n",
       "      <td>40.734434</td>\n",
       "      <td>-74.006180</td>\n",
       "      <td>9.050000</td>\n",
       "    </tr>\n",
       "    <tr>\n",
       "      <th>8</th>\n",
       "      <td>Brooklyn</td>\n",
       "      <td>Williamsburg</td>\n",
       "      <td>40.707144</td>\n",
       "      <td>-73.958115</td>\n",
       "      <td>8.700000</td>\n",
       "    </tr>\n",
       "  </tbody>\n",
       "</table>\n",
       "</div>"
      ],
      "text/plain": [
       "     Borough   Neighborhood   Latitude  Longitude  Average Rating\n",
       "0     Queens        Bayside  40.766041 -73.774274        8.500000\n",
       "1  Manhattan    East Harlem  40.792249 -73.944182        8.600000\n",
       "2  Manhattan        Midtown  40.754691 -73.981669        8.733333\n",
       "3  Manhattan    Murray Hill  40.748303 -73.978332        8.700000\n",
       "4     Queens    Murray Hill  40.764126 -73.812763        8.700000\n",
       "5     Queens  Rockaway Park  40.580343 -73.841534        8.700000\n",
       "6   Brooklyn     South Side  40.710861 -73.958001        8.700000\n",
       "7  Manhattan   West Village  40.734434 -74.006180        9.050000\n",
       "8   Brooklyn   Williamsburg  40.707144 -73.958115        8.700000"
      ]
     },
     "execution_count": 181,
     "metadata": {},
     "output_type": "execute_result"
    }
   ],
   "source": [
    "ny_neighborhood_stats"
   ]
  },
  {
   "cell_type": "code",
   "execution_count": 182,
   "metadata": {},
   "outputs": [],
   "source": [
    "# create map and display it\n",
    "ny_map = folium.Map(location=geo_location('New York'), zoom_start=12)"
   ]
  },
  {
   "cell_type": "code",
   "execution_count": 183,
   "metadata": {},
   "outputs": [],
   "source": [
    "incidents = folium.map.FeatureGroup()\n",
    "\n",
    "for lat, lng, in ny_neighborhood_stats[['Latitude','Longitude']].values:\n",
    "    incidents.add_child(\n",
    "        folium.CircleMarker(\n",
    "            [lat, lng],\n",
    "            radius=10, # define how big you want the circle markers to be\n",
    "            color='#EA1253',\n",
    "            fill=True,\n",
    "            fill_color='#12EA92',\n",
    "            fill_opacity=0.4\n",
    "        )\n",
    "    )"
   ]
  },
  {
   "cell_type": "code",
   "execution_count": 184,
   "metadata": {},
   "outputs": [],
   "source": [
    "ny_neighborhood_stats['Label']=ny_neighborhood_stats['Neighborhood']+', '+ny_neighborhood_stats['Borough']+'('+ny_neighborhood_stats['Average Rating'].map(str)+')'"
   ]
  },
  {
   "cell_type": "code",
   "execution_count": 185,
   "metadata": {},
   "outputs": [
    {
     "data": {
      "text/html": [
       "<div style=\"width:100%;\"><div style=\"position:relative;width:100%;height:0;padding-bottom:60%;\"><span style=\"color:#565656\">Make this Notebook Trusted to load map: File -> Trust Notebook</span><iframe src=\"about:blank\" style=\"position:absolute;width:100%;height:100%;left:0;top:0;border:none !important;\" data-html=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 onload=\"this.contentDocument.open();this.contentDocument.write(atob(this.getAttribute('data-html')));this.contentDocument.close();\" allowfullscreen webkitallowfullscreen mozallowfullscreen></iframe></div></div>"
      ],
      "text/plain": [
       "<folium.folium.Map at 0x7f50bb6b8748>"
      ]
     },
     "execution_count": 185,
     "metadata": {},
     "output_type": "execute_result"
    }
   ],
   "source": [
    "# add pop-up text to each marker on the map\n",
    "for lat, lng, label in ny_neighborhood_stats[['Latitude','Longitude','Label']].values:\n",
    "    folium.Marker([lat, lng], popup=label).add_to(ny_map)        \n",
    "# add incidents to map\n",
    "ny_map.add_child(incidents)"
   ]
  },
  {
   "cell_type": "code",
   "execution_count": 160,
   "metadata": {},
   "outputs": [
    {
     "ename": "FileNotFoundError",
     "evalue": "[Errno 2] No such file or directory: 'geo-boundaries.json'",
     "output_type": "error",
     "traceback": [
      "\u001b[0;31m---------------------------------------------------------------------------\u001b[0m",
      "\u001b[0;31mFileNotFoundError\u001b[0m                         Traceback (most recent call last)",
      "\u001b[0;32m<ipython-input-160-96127ee3bfaf>\u001b[0m in \u001b[0;36m<module>\u001b[0;34m\u001b[0m\n\u001b[1;32m     10\u001b[0m     \u001b[0mfill_opacity\u001b[0m\u001b[0;34m=\u001b[0m\u001b[0;36m0.6\u001b[0m\u001b[0;34m,\u001b[0m\u001b[0;34m\u001b[0m\u001b[0;34m\u001b[0m\u001b[0m\n\u001b[1;32m     11\u001b[0m     \u001b[0mline_opacity\u001b[0m\u001b[0;34m=\u001b[0m\u001b[0;36m0.4\u001b[0m\u001b[0;34m,\u001b[0m\u001b[0;34m\u001b[0m\u001b[0;34m\u001b[0m\u001b[0m\n\u001b[0;32m---> 12\u001b[0;31m     \u001b[0mlegend_name\u001b[0m\u001b[0;34m=\u001b[0m\u001b[0;34m'Average Rating'\u001b[0m\u001b[0;34m\u001b[0m\u001b[0;34m\u001b[0m\u001b[0m\n\u001b[0m\u001b[1;32m     13\u001b[0m )\n",
      "\u001b[0;32m~/conda/envs/python/lib/python3.6/site-packages/folium/folium.py\u001b[0m in \u001b[0;36mchoropleth\u001b[0;34m(self, geo_data, data, columns, key_on, threshold_scale, fill_color, fill_opacity, line_color, line_weight, line_opacity, name, legend_name, topojson, reset, smooth_factor, highlight)\u001b[0m\n\u001b[1;32m    325\u001b[0m                 \u001b[0mstyle_function\u001b[0m\u001b[0;34m=\u001b[0m\u001b[0mstyle_function\u001b[0m\u001b[0;34m,\u001b[0m\u001b[0;34m\u001b[0m\u001b[0;34m\u001b[0m\u001b[0m\n\u001b[1;32m    326\u001b[0m                 \u001b[0msmooth_factor\u001b[0m\u001b[0;34m=\u001b[0m\u001b[0msmooth_factor\u001b[0m\u001b[0;34m,\u001b[0m\u001b[0;34m\u001b[0m\u001b[0;34m\u001b[0m\u001b[0m\n\u001b[0;32m--> 327\u001b[0;31m                 highlight_function=highlight_function if highlight else None)\n\u001b[0m\u001b[1;32m    328\u001b[0m \u001b[0;34m\u001b[0m\u001b[0m\n\u001b[1;32m    329\u001b[0m         \u001b[0mself\u001b[0m\u001b[0;34m.\u001b[0m\u001b[0madd_child\u001b[0m\u001b[0;34m(\u001b[0m\u001b[0mgeo_json\u001b[0m\u001b[0;34m)\u001b[0m\u001b[0;34m\u001b[0m\u001b[0;34m\u001b[0m\u001b[0m\n",
      "\u001b[0;32m~/conda/envs/python/lib/python3.6/site-packages/folium/features.py\u001b[0m in \u001b[0;36m__init__\u001b[0;34m(self, data, style_function, name, overlay, control, smooth_factor, highlight_function)\u001b[0m\n\u001b[1;32m    479\u001b[0m                 \u001b[0mself\u001b[0m\u001b[0;34m.\u001b[0m\u001b[0mdata\u001b[0m \u001b[0;34m=\u001b[0m \u001b[0mjson\u001b[0m\u001b[0;34m.\u001b[0m\u001b[0mloads\u001b[0m\u001b[0;34m(\u001b[0m\u001b[0mdata\u001b[0m\u001b[0;34m)\u001b[0m\u001b[0;34m\u001b[0m\u001b[0;34m\u001b[0m\u001b[0m\n\u001b[1;32m    480\u001b[0m             \u001b[0;32melse\u001b[0m\u001b[0;34m:\u001b[0m  \u001b[0;31m# This is a filename\u001b[0m\u001b[0;34m\u001b[0m\u001b[0;34m\u001b[0m\u001b[0m\n\u001b[0;32m--> 481\u001b[0;31m                 \u001b[0;32mwith\u001b[0m \u001b[0mopen\u001b[0m\u001b[0;34m(\u001b[0m\u001b[0mdata\u001b[0m\u001b[0;34m)\u001b[0m \u001b[0;32mas\u001b[0m \u001b[0mf\u001b[0m\u001b[0;34m:\u001b[0m\u001b[0;34m\u001b[0m\u001b[0;34m\u001b[0m\u001b[0m\n\u001b[0m\u001b[1;32m    482\u001b[0m                     \u001b[0mself\u001b[0m\u001b[0;34m.\u001b[0m\u001b[0mdata\u001b[0m \u001b[0;34m=\u001b[0m \u001b[0mjson\u001b[0m\u001b[0;34m.\u001b[0m\u001b[0mloads\u001b[0m\u001b[0;34m(\u001b[0m\u001b[0mf\u001b[0m\u001b[0;34m.\u001b[0m\u001b[0mread\u001b[0m\u001b[0;34m(\u001b[0m\u001b[0;34m)\u001b[0m\u001b[0;34m)\u001b[0m\u001b[0;34m\u001b[0m\u001b[0;34m\u001b[0m\u001b[0m\n\u001b[1;32m    483\u001b[0m         \u001b[0;32melif\u001b[0m \u001b[0mdata\u001b[0m\u001b[0;34m.\u001b[0m\u001b[0m__class__\u001b[0m\u001b[0;34m.\u001b[0m\u001b[0m__name__\u001b[0m \u001b[0;32min\u001b[0m \u001b[0;34m[\u001b[0m\u001b[0;34m'GeoDataFrame'\u001b[0m\u001b[0;34m,\u001b[0m \u001b[0;34m'GeoSeries'\u001b[0m\u001b[0;34m]\u001b[0m\u001b[0;34m:\u001b[0m\u001b[0;34m\u001b[0m\u001b[0;34m\u001b[0m\u001b[0m\n",
      "\u001b[0;31mFileNotFoundError\u001b[0m: [Errno 2] No such file or directory: 'geo-boundaries.json'"
     ]
    }
   ],
   "source": [
    "ny_map = folium.Map(location=geo_location('New York'), zoom_start=11)\n",
    "ny_geo = r'geo-boundaries.json'\n",
    "\n",
    "ny_map.choropleth(\n",
    "    geo_data=ny_geo,\n",
    "    data=ny_borough_stats,\n",
    "    columns=['Borough', 'Average Rating'],\n",
    "    key_on='feature.properties.boro_name',\n",
    "    fill_color='YlGnBu',\n",
    "    fill_opacity=0.6, \n",
    "    line_opacity=0.4,\n",
    "    legend_name='Average Rating'\n",
    ")\n"
   ]
  },
  {
   "cell_type": "code",
   "execution_count": null,
   "metadata": {},
   "outputs": [],
   "source": []
  }
 ],
 "metadata": {
  "kernelspec": {
   "display_name": "Python",
   "language": "python",
   "name": "conda-env-python-py"
  },
  "language_info": {
   "codemirror_mode": {
    "name": "ipython",
    "version": 3
   },
   "file_extension": ".py",
   "mimetype": "text/x-python",
   "name": "python",
   "nbconvert_exporter": "python",
   "pygments_lexer": "ipython3",
   "version": "3.6.10"
  }
 },
 "nbformat": 4,
 "nbformat_minor": 4
}
